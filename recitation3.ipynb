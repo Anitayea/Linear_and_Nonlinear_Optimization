{
  "nbformat": 4,
  "nbformat_minor": 0,
  "metadata": {
    "colab": {
      "name": "recitation3.ipynb",
      "provenance": [],
      "collapsed_sections": [],
      "include_colab_link": true
    },
    "kernelspec": {
      "name": "python3",
      "display_name": "Python 3"
    },
    "language_info": {
      "name": "python"
    }
  },
  "cells": [
    {
      "cell_type": "markdown",
      "metadata": {
        "id": "view-in-github",
        "colab_type": "text"
      },
      "source": [
        "<a href=\"https://colab.research.google.com/github/Anitayea/Linear_and_Nonlinear_Optimization/blob/recitations/recitation3.ipynb\" target=\"_parent\"><img src=\"https://colab.research.google.com/assets/colab-badge.svg\" alt=\"Open In Colab\"/></a>"
      ]
    },
    {
      "cell_type": "markdown",
      "source": [
        "# Recitation 3 (Feb 9th)\n",
        "\n",
        "\n",
        "*   Address new students - any questions?\n",
        "*   REMNDER: First homework is posted. I recommend you look at it sometime before my office Hours on Friday (4pm Paris, 10am NY) in case you have any questions\n",
        "*   Quiz review\n",
        "*   A few more python and colab notes\n",
        "*   More Gurobi examples\n",
        "\n"
      ],
      "metadata": {
        "id": "bJcMAr5rWOC8"
      }
    },
    {
      "cell_type": "markdown",
      "source": [
        "\n",
        "##Quiz\n",
        "\n",
        "Are the following statements T or F:\n",
        "\n",
        "1) [T/F] A basic solution is always feasible.\n",
        "\n",
        "ANSWER: FALSE - because a basic solution doesn't have to be feasible. Basic solutions solve Ax = b while feasible also require that $x\\geq0$\n",
        "\n",
        "---\n",
        "\n",
        "\n",
        "\n",
        "2) [T/F] Under the assumptions made in class on the Matrix A, there are more constraints\n",
        "than variables.\n",
        "\n",
        "ANSWER: FALSE - $A \\in R^{m\\times n}$ $m\\leq n$ $m$ is the constrains and $n$ are the variables. This is saying that rank(A) = m, full rank\n",
        "\n",
        "---\n",
        "\n",
        "\n",
        "3) [T/F] If a linear programing problem has an optimal feasible solution,\n",
        "then it has an optimal feasible solution that is an extreme point of the set\n",
        "of feasible solutions.\n",
        "\n",
        "ANSWER: TRUE - by the fundamental theorem of linear progamming state (ii) if a linear program has an optimal feasible solution, then it has a solution which is a basic solution, By then we also said that basic solutions are extreme points of the feasible solutions\n",
        "\n",
        "---\n",
        "\n",
        "Consider the following tableau\n",
        "\n",
        "\\begin{array}{cccccc}\n",
        "x_{1} &  & +2x_{3} & -x_{4} & +x_{5} & =-1 \\\\ \n",
        "& x_{2} & -x_{3} & +2x_{4} & -3x_{5} & =1%\n",
        "\\end{array}\n",
        "\n",
        "\n",
        "---\n",
        "\n",
        "\n",
        "\n",
        "4) [MC] The basic variables associated with the tableau above are:\n",
        "\n",
        "(i) $\\left\\{ 1,2\\right\\} $\n",
        "\n",
        "(ii) $\\left\\{ 3,4,5\\right\\} $\n",
        "\n",
        "(iii) Neither of the above.\n",
        "\n",
        "ANSWER: (i) it is in cannonical form, these are the only variables that are each in one equation\n",
        "\n",
        "---\n",
        "\n",
        "\n",
        "\n",
        "5) Still in the tableau above, consider a pivot step between variables $2$\n",
        "and $3$ where $3$ enters, 2 exits. The new basic solution is:\n",
        "\n",
        "(i) $\\left( 0,0,0,2,1\\right) $\n",
        "\n",
        "(ii) $\\left( -1,0,0.5,0,0\\right) $\n",
        "\n",
        "(iii) $\\left( 1,0,-1,0,0\\right) $\n",
        "\n",
        "(iv) None of the above.\n",
        "\n",
        "ANSWER: (iii) replace row 1 with $r^1 + 2r^2$ this yields  \n",
        "\\begin{array}{cccccc}\n",
        "x_{1} & 2x_2 &  & 3x_{4} & -5x_{5} & =1 \\\\ \n",
        "& x_{2} & -x_{3} & +2x_{4} & -3x_{5} & =1%\n",
        "\\end{array}\n",
        "\n",
        "\n",
        "---"
      ],
      "metadata": {
        "id": "TLvqGbeiWbPF"
      }
    },
    {
      "cell_type": "markdown",
      "source": [
        ""
      ],
      "metadata": {
        "id": "oXrZb2s_R_PH"
      }
    },
    {
      "cell_type": "markdown",
      "source": [
        "## Python notes \n",
        "\n",
        "exponents are a bit unintuitive $c = a^b$ would be codded as \n",
        "\n",
        "\n",
        "```\n",
        "c = a**b\n",
        "```\n",
        "\n",
        "## colab notes\n",
        "You can write up your code and print results in a colab notebook then click file print and save as pdf. Then you can combine this with your other work or you can even do all your work on a colab doc\n"
      ],
      "metadata": {
        "id": "uHWCza63a5yG"
      }
    },
    {
      "cell_type": "markdown",
      "source": [
        "## More gurobi"
      ],
      "metadata": {
        "id": "wWPuI4BZW9RO"
      }
    },
    {
      "cell_type": "markdown",
      "source": [
        "Example Problem: Another diet problem, this time from scratch\n",
        "\n",
        "You wish to determine nonnegative quantities of the four foods available to you to make up a diet that maximizes your personal enjoyment while satisfying these three conditions: \n",
        "\n",
        "1.   your daily fat intake must be less than or equal to 3,000\n",
        "2.   you must consume at least 65 units of vitamin Z and 25 units of vitamin Y each day\n",
        "3.   you must consume at least 700 units of fiber each day.\n",
        "\n",
        "The following table shows the amounts of vitamins Z and Y, fiber, fat, and enjoyment per indicated quantity of the four foods.\n",
        "\n",
        "\n",
        "\\begin{array}{c|cccc}\n",
        "\\text{Food} &\\text{Z} &\\text{Y} &\\text{fiber} &\\text{fat} &\\text{enjoyment}\\\\\n",
        "\\hline\\\\\n",
        "\\text{Milk (pint)} &55 &12 &7 &78 &175\\\\\n",
        "\\text{Cookies (each)} &2 &14 &12 &240 &225\\\\\n",
        "\\text{Kale (bowl)} &15 &32 &210 &60 &−200\\\\\n",
        "\\text{Pizza (slice)} &34 &45 &7 &800 &450 \n",
        "\\end{array}\n",
        "\n",
        "Steps:\n",
        "\n",
        "1.   Formulate problem as a linear program ($\\min c^Tx$ subject to $Ax \\geq b$)\n",
        "        \n",
        "      Simplex intution/ visualization\n",
        "        \n",
        "2.   Write code to solve that linear program\n",
        "\n"
      ],
      "metadata": {
        "id": "W5ctRzfwZqwJ"
      }
    },
    {
      "cell_type": "markdown",
      "source": [
        "x = [pints of milk, cookies, bowls of kale, slices of pizza]\n",
        "\n",
        "$\\min c^Tx$  - then what is c? c is the negative enjoyment $c = [-175, -225, 200, -250]$\n",
        "\n",
        "objective function is $c^Tx$\n",
        "\n",
        "what about our constraints?\n",
        "how many? 8 - 4 nutrient constraints, and one non-negativity constraint for each food.\n",
        "\n",
        "A will be a matrix with each row corresponding to a constraint and each column a food. b will be a vector with a component for each constraint.\n",
        "\n"
      ],
      "metadata": {
        "id": "S2tiwtGRbjkp"
      }
    },
    {
      "cell_type": "code",
      "source": [
        "!pip install gurobipy\n",
        "import gurobipy as grb\n",
        "import numpy as np"
      ],
      "metadata": {
        "colab": {
          "base_uri": "https://localhost:8080/"
        },
        "id": "XsYSINaOek0o",
        "outputId": "3fb29500-db9f-45d4-fae5-763579c05a50"
      },
      "execution_count": null,
      "outputs": [
        {
          "output_type": "stream",
          "name": "stdout",
          "text": [
            "Requirement already satisfied: gurobipy in /usr/local/lib/python3.7/dist-packages (9.5.0)\n"
          ]
        }
      ]
    },
    {
      "cell_type": "code",
      "source": [
        "A = np.array([[55,2,15,34],[12,14,32,45],[7,12,210,7],[-78,-240,-60,-800],[1,0,0,0],[0,1,0,0],[0,0,1,0],[0,0,0,1]])\n",
        "b = np.array([65,25,700,-3000,0,0,0,0])\n",
        "c = np.array([175, 225, -200, 450])"
      ],
      "metadata": {
        "id": "pfT-Eq4usxwx"
      },
      "execution_count": null,
      "outputs": []
    },
    {
      "cell_type": "code",
      "source": [
        "m = grb.Model('optDiet')\n",
        "x = m.addMVar(shape = c.shape)\n",
        "m.setObjective(c@x, grb.GRB.MAXIMIZE)\n",
        "Constrain = m.addConstr(A@x >= b)"
      ],
      "metadata": {
        "colab": {
          "base_uri": "https://localhost:8080/"
        },
        "id": "WKXOKtEYe9QT",
        "outputId": "b07be35d-781a-41fd-cff1-2be91ee3c9cf"
      },
      "execution_count": null,
      "outputs": [
        {
          "output_type": "stream",
          "name": "stdout",
          "text": [
            "Restricted license - for non-production use only - expires 2023-10-25\n"
          ]
        }
      ]
    },
    {
      "cell_type": "code",
      "source": [
        "m.optimize()"
      ],
      "metadata": {
        "colab": {
          "base_uri": "https://localhost:8080/"
        },
        "id": "B7_Gq1pzfwAX",
        "outputId": "70a8c795-c85d-449f-9858-a66f3e77783f"
      },
      "execution_count": null,
      "outputs": [
        {
          "output_type": "stream",
          "name": "stdout",
          "text": [
            "Gurobi Optimizer version 9.5.0 build v9.5.0rc5 (linux64)\n",
            "Thread count: 1 physical cores, 2 logical processors, using up to 2 threads\n",
            "Optimize a model with 8 rows, 4 columns and 20 nonzeros\n",
            "Model fingerprint: 0xac90cc59\n",
            "Coefficient statistics:\n",
            "  Matrix range     [1e+00, 8e+02]\n",
            "  Objective range  [2e+02, 4e+02]\n",
            "  Bounds range     [0e+00, 0e+00]\n",
            "  RHS range        [2e+01, 3e+03]\n",
            "Presolve removed 5 rows and 1 columns\n",
            "Presolve time: 0.02s\n",
            "Presolved: 3 rows, 3 columns, 9 nonzeros\n",
            "\n",
            "Iteration    Objective       Primal Inf.    Dual Inf.      Time\n",
            "       0    1.3146115e+04   1.986629e+02   0.000000e+00      0s\n",
            "       3    6.0263158e+03   0.000000e+00   0.000000e+00      0s\n",
            "\n",
            "Solved in 3 iterations and 0.02 seconds (0.00 work units)\n",
            "Optimal objective  6.026315789e+03\n"
          ]
        }
      ]
    },
    {
      "cell_type": "code",
      "source": [
        "X = m.getAttr('x')\n",
        "print(X)"
      ],
      "metadata": {
        "colab": {
          "base_uri": "https://localhost:8080/"
        },
        "id": "TfdBKDCPfz8Y",
        "outputId": "89bc78c8-54a6-40a7-b082-a39db3a6aadb"
      },
      "execution_count": null,
      "outputs": [
        {
          "output_type": "stream",
          "name": "stdout",
          "text": [
            "[36.8421052631579, 0.0, 2.1052631578947367, 0.0]\n"
          ]
        }
      ]
    },
    {
      "cell_type": "code",
      "source": [
        "m3 = grb.Model('Diet')\n",
        "milk = m3.addMVar(shape = 1)\n",
        "cookies = m3.addMVar(shape = 1)\n",
        "kale = m3.addMVar(shape = 1)\n",
        "pizza = m3.addMVar(shape = 1)\n",
        "m3.setObjective(milk*175+cookies*225-kale*200+pizza*450,grb.GRB.MAXIMIZE)\n",
        "C1 = m3.addConstr(milk * 55 + cookies * 2+ kale*15 + pizza *34 >=65)\n",
        "C2 = m3.addConstr(milk * 12+ cookies * 14+ kale*32+ pizza *45 >=25)\n",
        "C3 = m3.addConstr(milk * 7+ cookies * 12+ kale*210+ pizza *7 >=700)\n",
        "C4 = m3.addConstr(milk * 78+ cookies *  240 + kale* 60+ pizza * 800 <=3000)\n",
        "C5 = m3.addConstr(milk >=0)\n",
        "C6 = m3.addConstr(cookies >=0)\n",
        "C7 = m3.addConstr(kale >=0)\n",
        "C8 = m3.addConstr(pizza >=0)\n",
        "m3.optimize()\n",
        "X3 = m3.getAttr('X')\n",
        "print(X3)"
      ],
      "metadata": {
        "colab": {
          "base_uri": "https://localhost:8080/"
        },
        "id": "jEgBkPK0hph-",
        "outputId": "86a08fd6-bb45-4505-c349-fb19b1a1f8f1"
      },
      "execution_count": null,
      "outputs": [
        {
          "output_type": "stream",
          "name": "stdout",
          "text": [
            "Gurobi Optimizer version 9.5.0 build v9.5.0rc5 (linux64)\n",
            "Thread count: 1 physical cores, 2 logical processors, using up to 2 threads\n",
            "Optimize a model with 8 rows, 4 columns and 20 nonzeros\n",
            "Model fingerprint: 0x4bf0b138\n",
            "Coefficient statistics:\n",
            "  Matrix range     [1e+00, 8e+02]\n",
            "  Objective range  [2e+02, 4e+02]\n",
            "  Bounds range     [0e+00, 0e+00]\n",
            "  RHS range        [2e+01, 3e+03]\n",
            "Presolve removed 5 rows and 1 columns\n",
            "Presolve time: 0.02s\n",
            "Presolved: 3 rows, 3 columns, 9 nonzeros\n",
            "\n",
            "Iteration    Objective       Primal Inf.    Dual Inf.      Time\n",
            "       0    1.3146115e+04   1.986629e+02   0.000000e+00      0s\n",
            "       3    6.0263158e+03   0.000000e+00   0.000000e+00      0s\n",
            "\n",
            "Solved in 3 iterations and 0.03 seconds (0.00 work units)\n",
            "Optimal objective  6.026315789e+03\n",
            "[36.8421052631579, 0.0, 2.1052631578947367, 0.0]\n"
          ]
        }
      ]
    },
    {
      "cell_type": "markdown",
      "source": [
        "Another example, Luenberger 2.8.1\n",
        "\n",
        "(a) \\begin{align}\n",
        "\\max \\qquad &x + 2y + 3z\\\\\n",
        "\\text{subject to} \\quad & 2\\leq x + y \\leq 3\\\\\n",
        "&4\\leq x+z\\leq 5\\\\\n",
        "&x\\geq 0, y\\geq 0, z\\geq 0\n",
        "\\end{align}\n",
        "\n",
        "(b) \\begin{align}\n",
        "\\min \\qquad &x + y + z\\\\\n",
        "\\text{subject to} \\quad & x+2y+3z = 10\\\\\n",
        "&x\\geq 1, y\\geq 1, z\\geq 1\n",
        "\\end{align}"
      ],
      "metadata": {
        "id": "q74nVmfpbMUg"
      }
    },
    {
      "cell_type": "markdown",
      "source": [
        "(a) $c^TX$, $AX \\geq b$, where $X = (x,y,z)$\n",
        "\n",
        "c = (1,2,3), \n",
        "\n",
        "\\begin{align}\n",
        "  x+y &\\geq 2\\\\\n",
        "  -x-y &\\geq -3\\\\\n",
        "  x+z &\\geq 4\\\\\n",
        "  -x - z &\\geq -5\\\\\n",
        "  x,y,z &\\geq 0\n",
        "\\end{align}\n"
      ],
      "metadata": {
        "id": "aCKdsj8tiuRi"
      }
    },
    {
      "cell_type": "code",
      "source": [
        "A = np.array([[1,1,0], [-1,-1,0], [1,0,1], [-1,0,-1], [1,0,0], [0,1,0], [0,0,1]])\n",
        "b = np.array([2,-3,4,-5,0,0,0])\n",
        "c = np.array([1,2,3])"
      ],
      "metadata": {
        "id": "gbBI3HFrioSZ"
      },
      "execution_count": null,
      "outputs": []
    },
    {
      "cell_type": "code",
      "source": [
        "m2 = grb.Model('p1')\n",
        "x2 = m2.addMVar(shape = c.shape)\n",
        "m2.setObjective(c@x2,grb.GRB.MAXIMIZE)\n",
        "constrain2 = m2.addConstr(A@x2 >= b)"
      ],
      "metadata": {
        "id": "ViVnIP4gkhJA"
      },
      "execution_count": null,
      "outputs": []
    },
    {
      "cell_type": "code",
      "source": [
        "m2.optimize()"
      ],
      "metadata": {
        "colab": {
          "base_uri": "https://localhost:8080/"
        },
        "id": "cJKRyfnbmCW7",
        "outputId": "21ef6598-2f4a-4986-df16-56c0ab29f079"
      },
      "execution_count": null,
      "outputs": [
        {
          "output_type": "stream",
          "name": "stdout",
          "text": [
            "Gurobi Optimizer version 9.5.0 build v9.5.0rc5 (linux64)\n",
            "Thread count: 1 physical cores, 2 logical processors, using up to 2 threads\n",
            "Optimize a model with 7 rows, 3 columns and 11 nonzeros\n",
            "Model fingerprint: 0x7e24d555\n",
            "Coefficient statistics:\n",
            "  Matrix range     [1e+00, 1e+00]\n",
            "  Objective range  [1e+00, 3e+00]\n",
            "  Bounds range     [0e+00, 0e+00]\n",
            "  RHS range        [2e+00, 5e+00]\n",
            "Presolve removed 7 rows and 3 columns\n",
            "Presolve time: 0.02s\n",
            "Presolve: All rows and columns removed\n",
            "Iteration    Objective       Primal Inf.    Dual Inf.      Time\n",
            "       0    2.1000000e+01   0.000000e+00   0.000000e+00      0s\n",
            "\n",
            "Solved in 0 iterations and 0.03 seconds (0.00 work units)\n",
            "Optimal objective  2.100000000e+01\n"
          ]
        }
      ]
    },
    {
      "cell_type": "code",
      "source": [
        "print(m2.getAttr('x'))"
      ],
      "metadata": {
        "colab": {
          "base_uri": "https://localhost:8080/"
        },
        "id": "416BIqNBmFQX",
        "outputId": "8d40fa7c-e665-4a38-cf6a-68bb869efeb3"
      },
      "execution_count": null,
      "outputs": [
        {
          "output_type": "stream",
          "name": "stdout",
          "text": [
            "[0.0, 3.0, 5.0]\n"
          ]
        }
      ]
    },
    {
      "cell_type": "markdown",
      "source": [
        "(b) $c^TX, AX\\geq b$ and $X = (x,y,z)$\n",
        "\n",
        "$a = (1,2,3)$ then we have constraint that $a^TX = 10$\n",
        "\n",
        "$A = I_3$, and $b = (1,1,1)$ then the other constraint is $Ax \\geq b$"
      ],
      "metadata": {
        "id": "ZZBavpxumkUD"
      }
    },
    {
      "cell_type": "code",
      "source": [
        "A2 = np.array([1,2,3])\n",
        "A = np.eye(3)\n",
        "b = np.ones(3)\n",
        "c = np.ones(3)"
      ],
      "metadata": {
        "id": "8uC2T5E2nCMp"
      },
      "execution_count": null,
      "outputs": []
    },
    {
      "cell_type": "code",
      "source": [
        "m4 = grb.Model('p2')\n",
        "x4 = m4.addMVar(shape = c.shape)\n",
        "m4.setObjective(c@x4, grb.GRB.MINIMIZE)\n",
        "C4_1 = m4.addConstr(A2@x4 == 10)\n",
        "C4_2 = m4.addConstr(A@x4 >= b)"
      ],
      "metadata": {
        "id": "NMgflOaonaNT"
      },
      "execution_count": null,
      "outputs": []
    },
    {
      "cell_type": "code",
      "source": [
        "m4.optimize()"
      ],
      "metadata": {
        "colab": {
          "base_uri": "https://localhost:8080/"
        },
        "id": "rg6VnhvhoRHP",
        "outputId": "23ac0645-5363-4c75-e064-5b4f86513683"
      },
      "execution_count": null,
      "outputs": [
        {
          "output_type": "stream",
          "name": "stdout",
          "text": [
            "Gurobi Optimizer version 9.5.0 build v9.5.0rc5 (linux64)\n",
            "Thread count: 1 physical cores, 2 logical processors, using up to 2 threads\n",
            "Optimize a model with 4 rows, 3 columns and 6 nonzeros\n",
            "Model fingerprint: 0x2ffb6829\n",
            "Coefficient statistics:\n",
            "  Matrix range     [1e+00, 3e+00]\n",
            "  Objective range  [1e+00, 1e+00]\n",
            "  Bounds range     [0e+00, 0e+00]\n",
            "  RHS range        [1e+00, 1e+01]\n",
            "Presolve removed 4 rows and 3 columns\n",
            "Presolve time: 0.01s\n",
            "Presolve: All rows and columns removed\n",
            "Iteration    Objective       Primal Inf.    Dual Inf.      Time\n",
            "       0    4.3333333e+00   0.000000e+00   0.000000e+00      0s\n",
            "\n",
            "Solved in 0 iterations and 0.07 seconds (0.00 work units)\n",
            "Optimal objective  4.333333333e+00\n"
          ]
        }
      ]
    },
    {
      "cell_type": "code",
      "source": [
        "print(m4.getAttr('x'))"
      ],
      "metadata": {
        "colab": {
          "base_uri": "https://localhost:8080/"
        },
        "id": "V_WSkN7PoUvY",
        "outputId": "f63190f3-7ec7-4423-e518-d3ac18fb99f7"
      },
      "execution_count": null,
      "outputs": [
        {
          "output_type": "stream",
          "name": "stdout",
          "text": [
            "[1.0, 1.0, 2.3333333333333335]\n"
          ]
        }
      ]
    }
  ]
}