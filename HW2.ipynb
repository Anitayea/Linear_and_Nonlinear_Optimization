{
  "nbformat": 4,
  "nbformat_minor": 0,
  "metadata": {
    "colab": {
      "name": "HW2.ipynb",
      "provenance": [],
      "authorship_tag": "ABX9TyN3t/+X5qJq2PTn4X/xJ26O",
      "include_colab_link": true
    },
    "kernelspec": {
      "name": "python3",
      "display_name": "Python 3"
    },
    "language_info": {
      "name": "python"
    }
  },
  "cells": [
    {
      "cell_type": "markdown",
      "metadata": {
        "id": "view-in-github",
        "colab_type": "text"
      },
      "source": [
        "<a href=\"https://colab.research.google.com/github/Anitayea/Linear_and_Nonlinear_Optimization/blob/main/HW2.ipynb\" target=\"_parent\"><img src=\"https://colab.research.google.com/assets/colab-badge.svg\" alt=\"Open In Colab\"/></a>"
      ]
    },
    {
      "cell_type": "markdown",
      "source": [
        "Question 1 \n",
        "\n",
        "Simplex, starting with $x=0$\n",
        "\n",
        "a)\n",
        "\n",
        "\\begin{align}\n",
        "  min \\quad 2x_1 + 3x_2 &-x_3\\\\\n",
        "  s.t. \\quad x_1+x_2 &\\leq 1\\\\\n",
        "  x_3 &\\leq 2\\\\\n",
        "\\end{align}"
      ],
      "metadata": {
        "id": "1LzwKIUNYBk5"
      }
    },
    {
      "cell_type": "code",
      "source": [
        "!pip install gurobipy\n",
        "import gurobipy as grb\n",
        "import numpy as np"
      ],
      "metadata": {
        "colab": {
          "base_uri": "https://localhost:8080/"
        },
        "id": "YTRS59Z-zwi5",
        "outputId": "7ea5da06-a3ca-4ec2-e695-2c6a6a68b0ae"
      },
      "execution_count": null,
      "outputs": [
        {
          "output_type": "stream",
          "name": "stdout",
          "text": [
            "Collecting gurobipy\n",
            "  Downloading gurobipy-9.5.1-cp37-cp37m-manylinux2014_x86_64.whl (11.5 MB)\n",
            "\u001b[K     |████████████████████████████████| 11.5 MB 8.1 MB/s \n",
            "\u001b[?25hInstalling collected packages: gurobipy\n",
            "Successfully installed gurobipy-9.5.1\n"
          ]
        }
      ]
    },
    {
      "cell_type": "code",
      "source": [
        "A = np.array([[1,1,0], [0,0,1]])\n",
        "b = np.array([1,2])\n",
        "c = np.array([2,3,-1])\n",
        "m = grb.Model('1a')\n",
        "x = m.addMVar(shape = c.shape)\n",
        "m.setObjective(c@x,grb.GRB.MINIMIZE)\n",
        "constrain = m.addConstr(A@x <= b)\n",
        "m.optimize()\n",
        "print(m.getAttr('x'))"
      ],
      "metadata": {
        "colab": {
          "base_uri": "https://localhost:8080/"
        },
        "id": "818yLKW60XUs",
        "outputId": "e44139ea-6d0f-41c2-b378-a76adb108776"
      },
      "execution_count": null,
      "outputs": [
        {
          "output_type": "stream",
          "name": "stdout",
          "text": [
            "Gurobi Optimizer version 9.5.1 build v9.5.1rc2 (linux64)\n",
            "Thread count: 1 physical cores, 2 logical processors, using up to 2 threads\n",
            "Optimize a model with 2 rows, 3 columns and 3 nonzeros\n",
            "Model fingerprint: 0xfac12730\n",
            "Coefficient statistics:\n",
            "  Matrix range     [1e+00, 1e+00]\n",
            "  Objective range  [1e+00, 3e+00]\n",
            "  Bounds range     [0e+00, 0e+00]\n",
            "  RHS range        [1e+00, 2e+00]\n",
            "Presolve removed 2 rows and 3 columns\n",
            "Presolve time: 0.02s\n",
            "Presolve: All rows and columns removed\n",
            "Iteration    Objective       Primal Inf.    Dual Inf.      Time\n",
            "       0   -2.0000000e+00   0.000000e+00   0.000000e+00      0s\n",
            "\n",
            "Solved in 0 iterations and 0.03 seconds (0.00 work units)\n",
            "Optimal objective -2.000000000e+00\n",
            "[0.0, 0.0, 2.0]\n"
          ]
        }
      ]
    },
    {
      "cell_type": "markdown",
      "source": [
        "\n",
        "b)\n",
        "\n",
        "\\begin{align}\n",
        "  min \\quad x_1 - x_2 &-x_3\\\\\n",
        "  s.t. \\quad x_1-2x_2 &\\leq 0\\\\\n",
        "  x_2+x_3 &\\leq 1\\\\\n",
        "\\end{align}"
      ],
      "metadata": {
        "id": "L8VuYtdB2ixd"
      }
    },
    {
      "cell_type": "code",
      "source": [
        "A = np.array([[1,-2,0], [0,1,1]])\n",
        "b = np.array([0,1])\n",
        "c = np.array([1,-1,-1])\n",
        "m2 = grb.Model('1b')\n",
        "x2 = m2.addMVar(shape = c.shape)\n",
        "m2.setObjective(c@x2,grb.GRB.MAXIMIZE)\n",
        "constrain = m2.addConstr(A@x2 <= b)\n",
        "m2.optimize()\n",
        "print(m.getAttr('x'))"
      ],
      "metadata": {
        "colab": {
          "base_uri": "https://localhost:8080/"
        },
        "id": "RdoJkbtO2ug0",
        "outputId": "793523e7-4fdd-4da5-9bef-de7a8dabaeaa"
      },
      "execution_count": null,
      "outputs": [
        {
          "output_type": "stream",
          "name": "stdout",
          "text": [
            "Gurobi Optimizer version 9.5.1 build v9.5.1rc2 (linux64)\n",
            "Thread count: 1 physical cores, 2 logical processors, using up to 2 threads\n",
            "Optimize a model with 2 rows, 3 columns and 4 nonzeros\n",
            "Model fingerprint: 0x3cd49b61\n",
            "Coefficient statistics:\n",
            "  Matrix range     [1e+00, 2e+00]\n",
            "  Objective range  [1e+00, 1e+00]\n",
            "  Bounds range     [0e+00, 0e+00]\n",
            "  RHS range        [1e+00, 1e+00]\n",
            "Presolve removed 2 rows and 3 columns\n",
            "Presolve time: 0.01s\n",
            "Presolve: All rows and columns removed\n",
            "Iteration    Objective       Primal Inf.    Dual Inf.      Time\n",
            "       0    1.0000000e+00   0.000000e+00   0.000000e+00      0s\n",
            "\n",
            "Solved in 0 iterations and 0.02 seconds (0.00 work units)\n",
            "Optimal objective  1.000000000e+00\n",
            "[0.0, 0.0, 2.0]\n"
          ]
        }
      ]
    },
    {
      "cell_type": "markdown",
      "source": [
        "Q2\n",
        "\n",
        "two-phase\n",
        "\n",
        "a) \n",
        "\n",
        "\\begin{align}\n",
        "  2x_1 - x_2 +x_3 &= 10\\\\\n",
        "  x_1 - x_2 - 3x_3 &= 6\\\\\n",
        "  x_j &\\geq 0\\\\\n",
        "\\end{align}\n",
        "\n",
        "if and only if the following linear program has min value 0\n",
        "\n",
        "\\begin{align}\n",
        "  min \\quad &z_1 + z_2\\\\\n",
        "  s.t. \\quad &2x_1 -2x_2 +3x_3 +z_1 =10\\\\\n",
        "  &x_1-x_2-3x_3+z_2 = 6\\\\\n",
        "\\end{align}"
      ],
      "metadata": {
        "id": "CE0tv60u3K1F"
      }
    },
    {
      "cell_type": "code",
      "source": [
        "A = np.array([[2,-2,3,1,0], [1,-1,-3,0,1]])\n",
        "b = np.array([10,6])\n",
        "c = np.array([0,0,0,1,1])\n",
        "m3 = grb.Model('2a')\n",
        "x3 = m3.addMVar(shape = c.shape)\n",
        "m3.setObjective(c@x3,grb.GRB.MAXIMIZE)\n",
        "constrain = m3.addConstr(A@x3 == b)\n",
        "m3.optimize()\n",
        "print(m.getAttr('x'))"
      ],
      "metadata": {
        "colab": {
          "base_uri": "https://localhost:8080/"
        },
        "id": "kHhSbiqQ4pBW",
        "outputId": "521bdcb8-abd1-437f-e218-eb6f54201782"
      },
      "execution_count": null,
      "outputs": [
        {
          "output_type": "stream",
          "name": "stdout",
          "text": [
            "Gurobi Optimizer version 9.5.1 build v9.5.1rc2 (linux64)\n",
            "Thread count: 1 physical cores, 2 logical processors, using up to 2 threads\n",
            "Optimize a model with 2 rows, 5 columns and 8 nonzeros\n",
            "Model fingerprint: 0xf6b1cd77\n",
            "Coefficient statistics:\n",
            "  Matrix range     [1e+00, 3e+00]\n",
            "  Objective range  [1e+00, 1e+00]\n",
            "  Bounds range     [0e+00, 0e+00]\n",
            "  RHS range        [6e+00, 1e+01]\n",
            "Presolve time: 0.01s\n",
            "\n",
            "Solved in 0 iterations and 0.01 seconds (0.00 work units)\n",
            "Infeasible or unbounded model\n",
            "[0.0, 0.0, 2.0]\n"
          ]
        }
      ]
    },
    {
      "cell_type": "markdown",
      "source": [
        "b)"
      ],
      "metadata": {
        "id": "RwcU8Ai4c4sd"
      }
    }
  ]
}