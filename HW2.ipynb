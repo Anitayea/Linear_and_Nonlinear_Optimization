{
  "nbformat": 4,
  "nbformat_minor": 0,
  "metadata": {
    "colab": {
      "name": "HW2.ipynb",
      "provenance": [],
      "authorship_tag": "ABX9TyPTc+8euIuokD6lFpbmSJuI",
      "include_colab_link": true
    },
    "kernelspec": {
      "name": "python3",
      "display_name": "Python 3"
    },
    "language_info": {
      "name": "python"
    }
  },
  "cells": [
    {
      "cell_type": "markdown",
      "metadata": {
        "id": "view-in-github",
        "colab_type": "text"
      },
      "source": [
        "<a href=\"https://colab.research.google.com/github/Anitayea/Linear_and_Nonlinear_Optimization/blob/main/HW2.ipynb\" target=\"_parent\"><img src=\"https://colab.research.google.com/assets/colab-badge.svg\" alt=\"Open In Colab\"/></a>"
      ]
    },
    {
      "cell_type": "markdown",
      "source": [
        "Question 1 \n",
        "\n",
        "Simplex, starting with $x=0$\n",
        "\n",
        "a)\n",
        "\n",
        "\\begin{align}\n",
        "  min \\quad 2x_1 + 3x_2 &-x_3\\\\\n",
        "  s.t. \\quad x_1+x_2 &\\leq 1\\\\\n",
        "  x_3 &\\leq 2\\\\\n",
        "\\end{align}"
      ],
      "metadata": {
        "id": "1LzwKIUNYBk5"
      }
    },
    {
      "cell_type": "markdown",
      "source": [
        "Turn the LP into standard form:\n",
        "\n",
        "\\begin{align}\n",
        "  min \\quad z=2x_1 + 3x_2 &-x_3\\\\\n",
        "  -2x_1-3x_2+x_3 &= z \\\\\n",
        "  s.t. \\quad x_1+x_2+s_1 &\\ = 1\\\\\n",
        "  x_3+s_2 &\\ = 2\\\\\n",
        "\\end{align}\n",
        "\n",
        "at $x = 0, 2x_1+3x_2-x_3=0$, enter $x_1$\n",
        "\\begin{align}\n",
        "z &= 2(1-x_2-s_1)+3x_2-x_3 \\\\\n",
        "&=2-2x_2-2s_1+3x_2-x_3$ \\\\\n",
        "&= 2+x_2-x_3-2s_1\n",
        "\\end{align}\n",
        "\n",
        "\\begin{array}{cccccc|c}\n",
        "x_1 & x_2 & x_3 & s_1 & s_2 & z & & \\\\\n",
        "\\hline\\\\\n",
        "1 &1 &0 &1 &0 &0 &1 & 1/0\\\\\n",
        "0 &0 &1 &0 &1 &0 &2 & 2/1\\\\\n",
        "\\hline\\\\\n",
        "2 &3 &-1 &0 &0 &1 &0\\\\\n",
        "\\end{array}\n",
        "\n",
        "pick $x_3$,  do $R_3+R_2$:\n",
        "\\begin{array}{cccccc|c}\n",
        "x_1 & x_2 & x_3 & s_1 & s_2 & z & & \\\\\n",
        "\\hline\\\\\n",
        "1 &1 &0 &1 &0 &0 &1 & 1/0\\\\\n",
        "0 &0 &1 &0 &1 &0 &2 & 2/1\\\\\n",
        "\\hline\\\\\n",
        "2 &3 &0 &0 &1 &1 &2\\\\\n",
        "\\end{array}\n"
      ],
      "metadata": {
        "id": "q0Ldj6xpEzOO"
      }
    },
    {
      "cell_type": "code",
      "source": [
        "!pip install gurobipy\n",
        "import gurobipy as grb\n",
        "import numpy as np"
      ],
      "metadata": {
        "colab": {
          "base_uri": "https://localhost:8080/"
        },
        "id": "YTRS59Z-zwi5",
        "outputId": "40a7600f-bc16-4b4f-b607-54aeda3c804b"
      },
      "execution_count": 2,
      "outputs": [
        {
          "output_type": "stream",
          "name": "stdout",
          "text": [
            "Collecting gurobipy\n",
            "  Downloading gurobipy-9.5.1-cp37-cp37m-manylinux2014_x86_64.whl (11.5 MB)\n",
            "\u001b[K     |████████████████████████████████| 11.5 MB 17.1 MB/s \n",
            "\u001b[?25hInstalling collected packages: gurobipy\n",
            "Successfully installed gurobipy-9.5.1\n"
          ]
        }
      ]
    },
    {
      "cell_type": "code",
      "source": [
        "A = np.array([[1,1,0], [0,0,1]])\n",
        "b = np.array([1,2])\n",
        "c = np.array([2,3,-1])\n",
        "m = grb.Model('1a')\n",
        "x = m.addMVar(shape = c.shape)\n",
        "m.setObjective(c@x,grb.GRB.MINIMIZE)\n",
        "constrain = m.addConstr(A@x <= b)\n",
        "m.optimize()\n",
        "print(m.getAttr('x'))\n",
        "#-2"
      ],
      "metadata": {
        "colab": {
          "base_uri": "https://localhost:8080/"
        },
        "id": "818yLKW60XUs",
        "outputId": "b50e1fd6-6c71-4244-f9d4-4401b7132fd5"
      },
      "execution_count": 3,
      "outputs": [
        {
          "output_type": "stream",
          "name": "stdout",
          "text": [
            "Restricted license - for non-production use only - expires 2023-10-25\n",
            "Gurobi Optimizer version 9.5.1 build v9.5.1rc2 (linux64)\n",
            "Thread count: 1 physical cores, 2 logical processors, using up to 2 threads\n",
            "Optimize a model with 2 rows, 3 columns and 3 nonzeros\n",
            "Model fingerprint: 0x9b50673c\n",
            "Coefficient statistics:\n",
            "  Matrix range     [1e+00, 1e+00]\n",
            "  Objective range  [1e+00, 3e+00]\n",
            "  Bounds range     [0e+00, 0e+00]\n",
            "  RHS range        [1e+00, 2e+00]\n",
            "Presolve removed 2 rows and 3 columns\n",
            "Presolve time: 0.01s\n",
            "Presolve: All rows and columns removed\n",
            "Iteration    Objective       Primal Inf.    Dual Inf.      Time\n",
            "       0    3.0000000e+00   0.000000e+00   0.000000e+00      0s\n",
            "\n",
            "Solved in 0 iterations and 0.02 seconds (0.00 work units)\n",
            "Optimal objective  3.000000000e+00\n",
            "[0.0, 1.0, 0.0]\n"
          ]
        }
      ]
    },
    {
      "cell_type": "markdown",
      "source": [
        "\n",
        "b)\n",
        "\n",
        "\\begin{align}\n",
        "  min \\quad x_1 - x_2 &-x_3\\\\\n",
        "  s.t. \\quad x_1-2x_2 &\\leq 0\\\\\n",
        "  x_2+x_3 &\\leq 1\\\\\n",
        "\\end{align}"
      ],
      "metadata": {
        "id": "L8VuYtdB2ixd"
      }
    },
    {
      "cell_type": "markdown",
      "source": [
        "First turn the LP to standard form\n",
        "\\begin{align}\n",
        "  min \\quad x_1 - x_2 &-x_3\\\\\n",
        "  s.t. \\quad x_1-2x_2+s_1 &= 0\\\\\n",
        "  x_2+x_3+s_2 &= 1\\\\\n",
        "\\end{align}\n",
        "\n",
        "\n",
        "at $x=0, x_1-x_2-x_3 = 0$ since we have $1,-1,-1$, we let $x_1$ enter and $s_2$ to exit. \n",
        "\n",
        "Then we rewrite $z$ in terms of $x_2, x_3, s_1$\n",
        "\n",
        "$z = 2x_2-s_1-x_2-x_3 = x_2-x_3-s_1$\n",
        "\n",
        "Now we enter $x_2$:\n",
        "\n",
        "$z = -x_3-x_3-s_1-s_2 = -2x_3-s_1-s_2$\n",
        "\n",
        "Therefore we have the optimal solution: \n",
        "\n",
        "$x_1=2, x_2=1$\n"
      ],
      "metadata": {
        "id": "C_sqGmsm5Qav"
      }
    },
    {
      "cell_type": "code",
      "source": [
        "A = np.array([[1,-2,0], [0,1,1]])\n",
        "b = np.array([0,1])\n",
        "c = np.array([1,-1,-1])\n",
        "m2 = grb.Model('1b')\n",
        "x2 = m2.addMVar(shape = c.shape)\n",
        "m2.setObjective(c@x2,grb.GRB.MAXIMIZE)\n",
        "constrain = m2.addConstr(A@x2 <= b)\n",
        "m2.optimize()\n",
        "print(m.getAttr('x'))\n",
        "#negative!"
      ],
      "metadata": {
        "colab": {
          "base_uri": "https://localhost:8080/"
        },
        "id": "RdoJkbtO2ug0",
        "outputId": "793523e7-4fdd-4da5-9bef-de7a8dabaeaa"
      },
      "execution_count": null,
      "outputs": [
        {
          "output_type": "stream",
          "name": "stdout",
          "text": [
            "Gurobi Optimizer version 9.5.1 build v9.5.1rc2 (linux64)\n",
            "Thread count: 1 physical cores, 2 logical processors, using up to 2 threads\n",
            "Optimize a model with 2 rows, 3 columns and 4 nonzeros\n",
            "Model fingerprint: 0x3cd49b61\n",
            "Coefficient statistics:\n",
            "  Matrix range     [1e+00, 2e+00]\n",
            "  Objective range  [1e+00, 1e+00]\n",
            "  Bounds range     [0e+00, 0e+00]\n",
            "  RHS range        [1e+00, 1e+00]\n",
            "Presolve removed 2 rows and 3 columns\n",
            "Presolve time: 0.01s\n",
            "Presolve: All rows and columns removed\n",
            "Iteration    Objective       Primal Inf.    Dual Inf.      Time\n",
            "       0    1.0000000e+00   0.000000e+00   0.000000e+00      0s\n",
            "\n",
            "Solved in 0 iterations and 0.02 seconds (0.00 work units)\n",
            "Optimal objective  1.000000000e+00\n",
            "[0.0, 0.0, 2.0]\n"
          ]
        }
      ]
    },
    {
      "cell_type": "markdown",
      "source": [
        "Q2\n",
        "\n",
        "two-phase\n",
        "\n",
        "a) \n",
        "\n",
        "\\begin{align}\n",
        "  2x_1 - x_2 +x_3 &= 10\\\\\n",
        "  x_1 - x_2 - 3x_3 &= 6\\\\\n",
        "  x_j &\\geq 0\\\\\n",
        "\\end{align}\n",
        "\n",
        "if and only if the following linear program has min value 0\n",
        "\n",
        "\\begin{align}\n",
        "  min \\quad &z_1 + z_2\\\\\n",
        "  s.t. \\quad &2x_1 -2x_2 +3x_3 +z_1 =10\\\\\n",
        "  &x_1-x_2-3x_3+z_2 = 6\\\\\n",
        "\\end{align}"
      ],
      "metadata": {
        "id": "CE0tv60u3K1F"
      }
    },
    {
      "cell_type": "code",
      "source": [
        "A = np.array([[2,-2,3,1,0], [1,-1,-3,0,1]])\n",
        "b = np.array([10,6])\n",
        "c = np.array([0,0,0,1,1])\n",
        "m3 = grb.Model('2a')\n",
        "x3 = m3.addMVar(shape = c.shape)\n",
        "m3.setObjective(c@x3,grb.GRB.MAXIMIZE)\n",
        "constrain = m3.addConstr(A@x3 == b)\n",
        "m3.optimize()\n",
        "print(m.getAttr('x'))"
      ],
      "metadata": {
        "colab": {
          "base_uri": "https://localhost:8080/"
        },
        "id": "kHhSbiqQ4pBW",
        "outputId": "521bdcb8-abd1-437f-e218-eb6f54201782"
      },
      "execution_count": null,
      "outputs": [
        {
          "output_type": "stream",
          "name": "stdout",
          "text": [
            "Gurobi Optimizer version 9.5.1 build v9.5.1rc2 (linux64)\n",
            "Thread count: 1 physical cores, 2 logical processors, using up to 2 threads\n",
            "Optimize a model with 2 rows, 5 columns and 8 nonzeros\n",
            "Model fingerprint: 0xf6b1cd77\n",
            "Coefficient statistics:\n",
            "  Matrix range     [1e+00, 3e+00]\n",
            "  Objective range  [1e+00, 1e+00]\n",
            "  Bounds range     [0e+00, 0e+00]\n",
            "  RHS range        [6e+00, 1e+01]\n",
            "Presolve time: 0.01s\n",
            "\n",
            "Solved in 0 iterations and 0.01 seconds (0.00 work units)\n",
            "Infeasible or unbounded model\n",
            "[0.0, 0.0, 2.0]\n"
          ]
        }
      ]
    },
    {
      "cell_type": "markdown",
      "source": [
        "b) Use the simplex method starting from $x=0, z_1 = 10, z_2 = 6$ to determine whether the set(1) is empty or not, and to find a basic feasible solution if it is not empty"
      ],
      "metadata": {
        "id": "RwcU8Ai4c4sd"
      }
    },
    {
      "cell_type": "markdown",
      "source": [
        "c) Use the same procedure to determine whetehr the set of $x$ satisfying\n",
        "\n",
        "\\begin{align}\n",
        "  2x_1 - 2x_2 +3x_3 &= 10\\\\\n",
        "  x_1 - x_2 - 3x_3 &= 6\\\\\n",
        "  x_j &\\geq 0\\\\\n",
        "\\end{align}\n",
        "\n",
        "is empty or not, and to find a basic feasible solution if it is nonempty"
      ],
      "metadata": {
        "id": "pEVC8pnsT5vn"
      }
    },
    {
      "cell_type": "markdown",
      "source": [
        "Q3\n",
        "\n",
        "\\begin{align}\n",
        "  max \\quad x_1 + x_2 - 3x_3\\\\\n",
        "  s.t. \\quad x_1 + 2x_2 - 3x_3 &= g\\\\\n",
        "  4x_1 + 5x_2 -9x_3 &= 13\\\\\n",
        "\\end{align}\n",
        "\n",
        "\n",
        "optimal value $V = V(g)$, and the optimal $x_* = x_*(g)$ are functions of g\n",
        "\n",
        "Dual:\n",
        "\n",
        "\\begin{align}\n",
        "  min \\quad gy_1 + 13y_2 \\\\\n",
        "  s.t. \\quad x_1 + 2x_2 - 3x_3 &= g\\\\\n",
        "  4x_1 + 5x_2 -9x_3 &= 13\\\\\n",
        "\\end{align}\n"
      ],
      "metadata": {
        "id": "2I9IMI1YWt-O"
      }
    },
    {
      "cell_type": "code",
      "source": [
        "g=1\n",
        "A = np.array([[1,2,-3], [4,5,-9]])\n",
        "b = np.array([g,13])\n",
        "c = np.array([1,1,-3])\n",
        "m4 = grb.Model('3c')\n",
        "x4 = m4.addMVar(shape = c.shape)\n",
        "m4.setObjective(c@x4,grb.GRB.MAXIMIZE)\n",
        "constrain = m4.addConstr(A@x <= b)\n",
        "m.optimize()\n",
        "print(m.getAttr('x'))"
      ],
      "metadata": {
        "id": "INjUKX5zinUE"
      },
      "execution_count": null,
      "outputs": []
    },
    {
      "cell_type": "code",
      "source": [
        "A = np.array([[1,2,-3], [4,5,-9]])\n",
        "b = np.array([g,13])\n",
        "c = np.array([1,1,-3])\n",
        "m4 = grb.Model('3c')\n",
        "x4 = m4.addMVar(shape = c.shape)\n",
        "m4.setObjective(c@x4,grb.GRB.MAXIMIZE)\n",
        "constrain = m4.addConstr(A@x <= b)\n",
        "m.optimize()\n",
        "print(m.getAttr('x'))"
      ],
      "metadata": {
        "colab": {
          "base_uri": "https://localhost:8080/"
        },
        "id": "v-BMjy5Dgwix",
        "outputId": "a08f4ee0-e4c1-42c3-bb15-30bc00d88193"
      },
      "execution_count": 4,
      "outputs": [
        {
          "output_type": "stream",
          "name": "stdout",
          "text": [
            "Gurobi Optimizer version 9.5.1 build v9.5.1rc2 (linux64)\n",
            "Thread count: 1 physical cores, 2 logical processors, using up to 2 threads\n",
            "Optimize a model with 2 rows, 3 columns and 3 nonzeros\n",
            "Coefficient statistics:\n",
            "  Matrix range     [1e+00, 1e+00]\n",
            "  Objective range  [1e+00, 3e+00]\n",
            "  Bounds range     [0e+00, 0e+00]\n",
            "  RHS range        [1e+00, 2e+00]\n",
            "\n",
            "Solved in 0 iterations and 0.01 seconds (0.00 work units)\n",
            "Optimal objective  3.000000000e+00\n",
            "[0.0, 1.0, 0.0]\n"
          ]
        }
      ]
    },
    {
      "cell_type": "markdown",
      "source": [
        "Q4\n",
        "\n",
        "solution is <=1 >=0, not 0, contradiction\n",
        "\n",
        "maximizing --> how to show it is lower bound maximum? what is one way to find a lower bound for a max? \n",
        "\n"
      ],
      "metadata": {
        "id": "M1ySjDkSc2Wm"
      }
    },
    {
      "cell_type": "markdown",
      "source": [
        "Q5\n",
        "Proof using separating hyperplane theorem:\n",
        "\n",
        "primal LP:\n",
        "\n",
        "\n",
        "\\begin{align}\n",
        "  V_P \\quad 2x_1 + 3x_2 &-x_3\\\\\n",
        "  s.t. \\quad x_1+x_2 &\\leq 1\\\\\n",
        "  x_3 &\\leq 2\\\\\n",
        "\\end{align}"
      ],
      "metadata": {
        "id": "1pliXI0NLO7S"
      }
    },
    {
      "cell_type": "markdown",
      "source": [
        "a)\n",
        "show that C is convex and that C is a cone\n",
        "\n",
        "To prove C is convex, we have $ x \\in X$ and $y \\in X$ then $\\forall \\lambda \\in (0,1)$ we have that $\\lambda x +(1-\\lambda)y \\in X$\n",
        "\n",
        "We want to show if $(r_1, w_1) \\in C$ and $(r_2, w_2 ) \\in C$ then $(\\lambda r_1+(1-\\lambda)r_2, \\lambda w_1 +(1-\\lambda)w_2) \\in C \\quad \\forall \\lambda \\in (0,1)$\n",
        "\n",
        "\\\\\n",
        "$r_1 = t_1  V_p - c^T x_1$\n",
        " \n",
        "$w_1 = t_1 b - Ax_1$\n",
        "\n",
        "$r_2 = t_2  V_p - c^T x_2$\n",
        " \n",
        "$w_2 = t_2 b - Ax_2$\n",
        "\n",
        "\n",
        "\n",
        "\n",
        "\\\\\n",
        "\\begin{align}\n",
        "$ \\lambda r_1 +(1-\\lambda)r_2 &= \\lambda(t_1  V_p - c^T x_1) + (1-\\lambda)(t_2  V_p - c^T x_2)\\\\\n",
        "&=(\\lambda t_1 + (1-\\lambda) t_2)V_p - c^T(\\lambda x_1+(1-\\lambda)x_2\\\\\n",
        "&= t_3 V_p - c^Tx_3 \\quad \\text{Where } t_3 = \\lambda t_1 +(1-\\lambda)t_2 \\in R_+ \\text{and } x_3 = \\lambda x_1 +(1-\\lambda)x_2 \\in R_+^n \n",
        "\\end{align} \n",
        "\n",
        "$ \\lambda w_1 +(1-\\lambda)w_2$"
      ],
      "metadata": {
        "id": "ydfRUQAbLdY9"
      }
    },
    {
      "cell_type": "markdown",
      "source": [
        "cone\n",
        "\n",
        "if$(r,w) \\in C$ and $\\lambda \\geq 0$ then $(\\lambda r, \\lambda w \\in C \\implies \\exists x,t $ s.t.\n",
        "\n",
        "$r = t  V_p - c^T x$\n",
        " \n",
        "$w = t b - Ax$\n",
        "\n",
        "claim:\n",
        "\n",
        "$\\lambda = t' V_p - c^Tx'$\n",
        "\n",
        "$w = t'b - Ax'$\n",
        "\n",
        "scale left and right side by lambda\n",
        "\n",
        "$t' = \\lambda t$\n",
        "\n",
        "$x' = \\lambda x$\n",
        "\n",
        "Therefore, it is a cone. "
      ],
      "metadata": {
        "id": "wNVcLEFwFWrA"
      }
    },
    {
      "cell_type": "markdown",
      "source": [
        "b) \n",
        "if $(1,0) \\in C$, then $\\exists x,t$ s.t.\n",
        "\n",
        "$\\because $ it is a cone,\n",
        "\n",
        "$(\\lambda,0) \\in C$\n",
        "\n",
        "$tV_p - c^Tx = 1 = \\lambda$\n",
        "\n",
        "$tb - Ax =0$\n",
        "\n",
        "$Ax = tb$\n",
        "\n",
        "Use contradiction\n",
        "\n",
        "two cases:\n",
        "\n",
        "Case 1:\n",
        "$t=0$, where $ Ax=tb $ just $Ax=0$\n",
        "\n",
        "if we found some $x$ such that $Ax=0$ and $c^Tx = t = -1 = -\\lambda \\quad \\forall \\lambda \\geq 0$ \n",
        "\n",
        "since $t=0, (1,0) \\in C$\n",
        "\n",
        "there is a feasible x, and we can add multiples of x to make it very negative, while this contradicts the finite condition.\n",
        "\n",
        "This means that there exist $x^*$ such that $ c^Tx^* = V_p$ and $Ax^* = b$\n",
        "\n",
        "but now if we have $x'$ such that $c^Tx' = -1$ and $Ax' = 0$ then for any $\\lambda$ we have that $c^T(x^* +\\lambda x') = V_p -\\lambda$ and $A(x^* + \\lambda x') = b$ \n",
        "\n",
        "We can keep adding multiples and decrease the value of objective values, and $V_p -\\lambda$ will be less than the objective function.\n",
        "\n",
        "This contradicts the fact that $V_p$ is optimal.\n",
        "\n",
        "\n",
        "#from before\n",
        "\n",
        "This means that the objective function is unbounded, while we assumed it is finite. \n",
        "\n",
        "This serves as a contradiction. \n",
        "\n",
        "\n",
        "\n"
      ],
      "metadata": {
        "id": "kXNtXeJyJdNW"
      }
    },
    {
      "cell_type": "markdown",
      "source": [
        "Case 2\n",
        "\n",
        "for $t>0$\n",
        "\n",
        "$c^Tx = tV_p -1$ \n",
        "\n",
        "since $t>0$, we can devide by $t$, which we could not do before. \n",
        "\n",
        "$A(\\frac{x}{t}) = b$ and $\\frac{x}{t} \\in R^n_+$, so $\\frac{x}{t}$ is feasible\n",
        "\n",
        "We still want to use the fact that $V_p$ is the min and it is finite\n",
        "\n",
        "divide the first equation by t\n",
        "\n",
        "$c^T(\\frac{x}{t}) = V_p - \\frac{1}{t} < V_p$ because $t>0$\n",
        "\n",
        "This contradicts the fact that $V_p$ is optimal\n",
        "\n",
        "#from before\n",
        "\n",
        "$Ax=tb \\implies A(\\frac{x}{b}) = 1$\n",
        "\n",
        "x/b is not necassirily feasible but\n",
        "\n",
        "$x^T(\\frac{x}{b}) = V_p - \\frac{1}{t}$"
      ],
      "metadata": {
        "id": "qPtbLv9kf7oJ"
      }
    }
  ]
}