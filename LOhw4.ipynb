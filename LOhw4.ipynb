{
  "nbformat": 4,
  "nbformat_minor": 0,
  "metadata": {
    "colab": {
      "name": "LOhw4.ipynb",
      "provenance": [],
      "authorship_tag": "ABX9TyM8vwFjBvvWHZDulo0LKLPL",
      "include_colab_link": true
    },
    "kernelspec": {
      "name": "python3",
      "display_name": "Python 3"
    },
    "language_info": {
      "name": "python"
    }
  },
  "cells": [
    {
      "cell_type": "markdown",
      "metadata": {
        "id": "view-in-github",
        "colab_type": "text"
      },
      "source": [
        "<a href=\"https://colab.research.google.com/github/Anitayea/Linear_and_Nonlinear_Optimization/blob/main/LOhw4.ipynb\" target=\"_parent\"><img src=\"https://colab.research.google.com/assets/colab-badge.svg\" alt=\"Open In Colab\"/></a>"
      ]
    },
    {
      "cell_type": "code",
      "execution_count": null,
      "metadata": {
        "id": "4B6MfhvzqgOK"
      },
      "outputs": [],
      "source": [
        ""
      ]
    },
    {
      "cell_type": "markdown",
      "source": [
        "1. $x_1^2+x_2^2 \\leq 1$ Feasible directions?"
      ],
      "metadata": {
        "id": "u-iSFHNjp6-W"
      }
    }
  ]
}