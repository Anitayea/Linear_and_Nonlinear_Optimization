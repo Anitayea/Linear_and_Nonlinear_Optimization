{
  "nbformat": 4,
  "nbformat_minor": 0,
  "metadata": {
    "colab": {
      "name": "recitation 9.ipynb",
      "provenance": [],
      "include_colab_link": true
    },
    "kernelspec": {
      "name": "python3",
      "display_name": "Python 3"
    },
    "language_info": {
      "name": "python"
    }
  },
  "cells": [
    {
      "cell_type": "markdown",
      "metadata": {
        "id": "view-in-github",
        "colab_type": "text"
      },
      "source": [
        "<a href=\"https://colab.research.google.com/github/Anitayea/Linear_and_Nonlinear_Optimization/blob/recitations/recitation_9.ipynb\" target=\"_parent\"><img src=\"https://colab.research.google.com/assets/colab-badge.svg\" alt=\"Open In Colab\"/></a>"
      ]
    },
    {
      "cell_type": "markdown",
      "source": [
        "# Recitation 9\n",
        "\n",
        "\n",
        "\n",
        "*   Homework 3 (cont.)\n",
        "*   Midterm"
      ],
      "metadata": {
        "id": "QEaiIlaGeJZR"
      }
    },
    {
      "cell_type": "markdown",
      "source": [
        "3. (e) $p_z^t \\in \\{0,1\\}$ so to have $M^Tp^t > 0$ we would have to have an arc $xy$ such that $p_y^t = 1$ and $p_x^t=0$. This would imply $p_y \\geq t$ and $p_x < t$. Putting those together we get $p_y < p_x$ which means that $p_y-p_x>0$ which contradicts $M^Tp\\leq 0$\n",
        "\n",
        "(f) We again do a proof by contradiction: if $q^Tp^t \\leq 0$ for some $t\\in [0,1]$, then $\\int_0^1 q^Tp^tdt \\leq 0$ which implies $q^T\\int_0^1p^tdt =  q^Tp \\leq 0$ which is a contradiction.\n",
        "\n",
        "(g) $1_B = 1 - p^t$ so $Mp^t \\leq 0$ implies $M1_B \\geq 0$ This means thaat there is no arc $xy$ such that $x\\in B$ and $y\\not \\in B$. $q^T1_B = q^T(1-p^t) = -q^Tp^t < 0$"
      ],
      "metadata": {
        "id": "4qaWz0RPfymd"
      }
    },
    {
      "cell_type": "markdown",
      "source": [
        "4. (a)  \n",
        "\n",
        "\\begin{align}\n",
        "\\sum_{k=0}^{K-1} c_{x_k x_{k+1}} &\\geq \\sum_{k=0}^{K-1} [p_{x_{k+1}} - p_{x_k}] \\\\\n",
        "&= \\sum_{k=0}^{K-1} p_{x_{k+1}} - \\sum_{k=0}^{K-1} p_{x_k} \\\\\n",
        "&= p_{x_K} - p_{x_0}\\\\\n",
        "&= 0\n",
        "\\end{align}\n",
        "\n",
        "(b) First part: path length less than $|Z|$ the number of points - Proof by contradiction, $p_z$ the optimal path had length greater than $|Z|$ then there is at least one point that is visited more than once, and thus there is a loop formed by the two times the path visits that point. We know by assumption that the cost of this loop is $\\geq 0$ so we can get rid of this loop, and our cost can only improve. Thus this is either cheaper or just as good and visits less points. We can repeat this until we have visted $|Z|$ points or less.\n",
        "\n",
        "\\begin{align}\n",
        "p_y - p_x &\\leq c_{xy}\\\\\n",
        "p_y &\\leq p_x + c_{xy}\n",
        "\\end{align}\n",
        "\n",
        "When travel from point $z$ to $y$ you can go through point $x$ as the second to last point or not. If you do go through $x$ as the second to last point, then the cost is the minimal cost of getting to $x$ from $z$ ($p_x$) plus the cost of going from $x$ to $y$ in one step ($c_{xy}$).\n",
        "\n",
        "In otherwords, this one particular path, provides an upper bound to the minimal cost of paths.\n"
      ],
      "metadata": {
        "id": "_h0nBzYki4bR"
      }
    },
    {
      "cell_type": "markdown",
      "source": [
        "5. (a) No - doesn't satisfy min-max conditions because who ever goes second wins.\n",
        "\n",
        "(b) Let $p^*$ and $q^*$ be the equilibrium mixed strategies of player 1 and 2. \n",
        "\n",
        "\\begin{align}\n",
        "V = \\min_{p\\geq 0\\\\s\\in R} s\\\\\n",
        "\\text{s.t. } s \\geq p_ic_i \\quad \\forall i\\\\\n",
        "\\sum_{p_i} = 1\n",
        "\\end{align}\n",
        "\n",
        "$V = s = \\max_i\\{p^*_ic_i\\}$ and by duality $V = \\min_j\\{q_j^*c_j\\}$. Then by complementary slackness we have $V = \\sum_{i=1}^n q_i^*p_i^*c_i$. So $V \\geq p_i^*c_i$ and $V\\leq q_i^*c_i$. $s = V= p_ic_i$ thus $p_i = V/c_i$ for later we will use that for $\\sum_i p_i$ to equal 1 we need $ V = (\\sum c_i^{-1})^{-1}$\n",
        "\n",
        "(c) $q_i^* = p_i^*$ this follows from above. \n",
        "\n",
        "(d) we saw above what $V$ is equal, that is the expected amount to be paid. \n",
        "\n",
        "Common mistake: $nV$ instead $V$ I think this was done by $\\sum_i c_i  p_i = \\sum_i \\frac{V}{c_i^2} = nV$ however, the amount paid isn't always $c_i$, you need to take into accound the chances of player 2 finding player 1. So instead look at $\\sum_i c_i p_i q_i = V$\n",
        "\n",
        "(e) quick if you did part (d) and found the formula for $V$. Using $ V = (\\sum c_i^{-1})^{-1}$ we get $V = 0.43795$ Or you could have used gurobi.\n"
      ],
      "metadata": {
        "id": "PJXCK63in7lY"
      }
    },
    {
      "cell_type": "markdown",
      "source": [
        "6. (a) 9\n",
        "(b) no, ACDF and ABDF"
      ],
      "metadata": {
        "id": "BICQepAhrdFA"
      }
    },
    {
      "cell_type": "markdown",
      "source": [
        "## Midterm review\n",
        "###T/F\n",
        "\n",
        "1. True - strong duality. IMPORTANT- the only in LP that strong duality may not hold is when we have $\\pm\\infty$ as one of our optimal values\n",
        "\n",
        "2. False - A solution can also be on an edge if the constraint is parallel to the level sets of the objective function, which is the same as the constraint line being perpendicular to the objective funciton's gradient. \n",
        "\n",
        "3. False - think of soccer example: it is better for the goalie to decide where to go after kicker decides where to kick.\n",
        "\n",
        "4. False - q doesn't add to 0, i.e. supply and demand aren't equal.\n",
        "\n",
        "## Multiple Choice\n",
        "a. (iii)\n",
        "\n",
        "b. (i): 2\n",
        "   (ii): 5\n",
        "\n",
        "c. 13\n",
        "\n",
        "## Open Ended\n",
        "3.\n",
        "(a)\n",
        "\\begin{align}\n",
        "\\min_{u\\\\t} \\sum u_i\\\\\n",
        "\\text{s.t. } u_i \\geq y_i - t\\\\\n",
        "u_i \\geq t - y_i\n",
        "\\end{align}\n",
        "\n",
        "(b)\n",
        "$F(t) = \\sum_i |y_i - t|$ this is a sum of peicewise linear functions, and thus it is peicewise linear. \n",
        "\n",
        "At $t \\not = $y_i$ we have that the slope...\n",
        "\n",
        "The slope of the absolute value function is either $\\pm1$ when not at the point where the slope changes. Futhermore the differential operator is linear so the slope of $F$ is the sum of the slopes. So we get that $F'(t) = \\sum_{y_i<t} 1 - \\sum_{y_i > t} 1$\n",
        "\n",
        "$\\frac{d}{dt} F(t) = \\sum_i \\frac{d}{dt} |y_i - t|$\n",
        "\n",
        "(c) we have the points (1,2,3,4,5) and we minizing $F(t)$\n",
        "\n",
        "What is t? Take the average: 3. This is the L1 norm and this the calc for the L1 norm\n",
        "\n",
        "4. \n",
        "(a) yes, each $a_i$ is bounded below by a finite value because you can't take $\\beta \\to $ some vector that takes both constraints to $-\\infty$"
      ],
      "metadata": {
        "id": "04dIGIuqru1o"
      }
    }
  ]
}