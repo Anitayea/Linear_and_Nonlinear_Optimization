{
  "nbformat": 4,
  "nbformat_minor": 0,
  "metadata": {
    "colab": {
      "name": "Recitation5.ipynb",
      "provenance": [],
      "include_colab_link": true
    },
    "kernelspec": {
      "name": "python3",
      "display_name": "Python 3"
    },
    "language_info": {
      "name": "python"
    }
  },
  "cells": [
    {
      "cell_type": "markdown",
      "metadata": {
        "id": "view-in-github",
        "colab_type": "text"
      },
      "source": [
        "<a href=\"https://colab.research.google.com/github/Anitayea/Linear_and_Nonlinear_Optimization/blob/recitations/Recitation5.ipynb\" target=\"_parent\"><img src=\"https://colab.research.google.com/assets/colab-badge.svg\" alt=\"Open In Colab\"/></a>"
      ]
    },
    {
      "cell_type": "markdown",
      "source": [
        "# Recitation 5 2/23\n",
        "\n",
        "## Outline:\n",
        "\n",
        "*   Quiz \n",
        "*   Homework\n",
        "    *   quick note on formatting\n",
        "    *   best practices for math homework and tests\n",
        "    *   Linear algebra review\n",
        "    *   Slack variables\n",
        "    *   some notes on python\n",
        "    *   went over question 4 and part of 3. Addtionally some code from solutions is used as examples in this notebook."
      ],
      "metadata": {
        "id": "tDPgUCpiIugq"
      }
    },
    {
      "cell_type": "markdown",
      "source": [
        "## Quiz\n",
        "\n",
        "1) [T/F] Both the primal and the dual problems cannot be unfeasible at the\n",
        "same time.\n",
        "\n",
        "Answer: False - example - n=m=1, A=0, b = c = -1\n",
        "0*x = -1, 0y = -1\n",
        "\n",
        "---\n",
        "\n",
        "2) The following statement is always true:\n",
        "\n",
        "(i) $\\min_{x}\\max_{y}\\varphi \\left( x,y\\right) =\\max_{y}\\min_{x}\\varphi\n",
        "\\left( x,y\\right) $\n",
        "\n",
        "(ii) $\\min_{x}\\max_{y}\\varphi \\left( x,y\\right) \\leq \\max_{y}\\min_{x}\\varphi\n",
        "\\left( x,y\\right) $\n",
        "\n",
        "(iii) $\\min_{x}\\max_{y}\\varphi \\left( x,y\\right) \\geq\n",
        "\\max_{y}\\min_{x}\\varphi \\left( x,y\\right) $\n",
        "\n",
        "Answer: (iii)\n",
        "\n",
        "---\n",
        " \n",
        "\n",
        "In the next questions, we consider the following primal problem\n",
        "\\begin{eqnarray*}\n",
        "V_{P}=\\min_{\\substack{ x_{1}\\in \\mathbb{R} \\\\ x_{2}\\geq 0,x_{3}\\geq 0}}\n",
        "&&x_{1}+x_{2}+x_{3} \\\\\n",
        "x_{1}-x_{2} &\\geq &3 \\\\\n",
        "x_{1}-2x_{3} &\\geq &1\n",
        "\\end{eqnarray*}\n",
        "\n",
        "---\n",
        "\n",
        "Calculating the dual:\n",
        "c = (1,1,1); A = [[1,-1,0],[1,0,-2]]; b = (3,1)\n",
        "$\\min c^Tx$ s.t. $Ax \\geq b$ and $x_2,x_3 \\geq 0$\n",
        "\n",
        "$L(x,y) = c^Tx - y^T(Ax-b) = b^Ty - (c - A^Ty)^Tx$\n",
        "\n",
        "$\\max_y b^Ty$ s.t. $[A^Ty]_1 = c_1, [A^Ty]_{2,3} \\geq c_{2,3} $\n",
        "\n",
        "3) [T/F] The value of the primal is finite and equal to the value of the dual.\n",
        "\n",
        "Answer: True \n",
        "\n",
        "---\n",
        "\n",
        "\n",
        "4) The number of dual variables is:\n",
        "\n",
        "(i) 1\n",
        "\n",
        "(ii) 2\n",
        "\n",
        "(iii) 3\n",
        "\n",
        "(iv) 4\n",
        "\n",
        "(v) 5\n",
        "\n",
        "Answer: (ii) because 2 constraints\n",
        "\n",
        "---\n",
        "\n",
        "\n",
        "5) The number of dual inequality constraints is:\n",
        "\n",
        "(i) 1\n",
        "\n",
        "(ii) 2\n",
        "\n",
        "(iii) 3\n",
        "\n",
        "(iv) 4\n",
        "\n",
        "(v) 5\n",
        "\n",
        "Answer: (ii) because 2 of the primal variables are non-negative\n",
        "\n",
        "---\n",
        "\n",
        "\n",
        "6) What is the value of the problem? You can use Gurobi or work out the\n",
        "solution by hand.\n",
        "\n",
        "Answer: 3\n",
        "\n",
        "---\n",
        "\n"
      ],
      "metadata": {
        "id": "eA0h5VA2JkN8"
      }
    },
    {
      "cell_type": "markdown",
      "source": [
        "*   quick note on formatting-\n",
        "\n",
        "    If you are doing your work in a colab document, save it as a pdf, and submit that. You can do this by clicking on file -> print -> save as pdf\n",
        "\n",
        "    Additionally, in general if you send someone a link to a colab doc, if you don't want them to edit, make sure you don't let them be able.\n",
        "\n",
        "    When sending a juypter notebook file, it is good practice to restart and rerun before sending. Also make sure the output is correct.\n",
        "*   best practices for math homework and tests\n",
        "\n",
        "    Check your work! - If you find a solution, check that it is feasible!\n",
        "\n",
        "    Also, if you change units from the origional problem, make note of it!\n",
        "\n",
        "    Always show your work!!!!!!\n",
        "\n",
        "*   Linear algebra review\n",
        "\n",
        "    See below\n",
        "\n",
        "*   Slack variables\n",
        "\n",
        "    See below\n",
        "\n",
        "*   some notes on python\n",
        "\n",
        "    See below"
      ],
      "metadata": {
        "id": "k6fBx4V1fh4U"
      }
    },
    {
      "cell_type": "markdown",
      "source": [
        "## Linear algebra comments\n",
        "What is the determinant of a matrix? \n",
        "For a 2x2 |[[a,b],[c,d]]| = ad- bc. \n",
        "\n",
        "A scalar value for a SQUARE matrix that tells us \"something\" about it.\n",
        "\n",
        "What about the inverse of a matrix? \n",
        "- It only exists for SQUARE matricies. Why?\n",
        "\n",
        "What if we had a 2x3 matrix? We'd want its inverse to be 3x2, but this is a problem. For inverse we have the following equation: $AA^{-1} = I = A^{-1}A$ but if $n\\not=m$ then this doesn't make sense because one is $n \\times n$ and the other $m \\times m$ \n",
        "\n",
        "That tells why the inverse of a non-square matrix would not make senes in some contexts, but why is this the case?\n",
        "\n",
        "What is matrix as a mathematical object? - It is a linear map! from $R^n \\to R^m$ This map can only be one-to-one and on-to if $n=m$. Inverse maps require that the map be one-to-one and on-to.\n",
        "\n",
        "So a determinant tells us about a map from $R^n$ to itself. It is the volume of the unit square/cube after being mapped by A. This only really makes sense in the context when A maps a space to itself.\n",
        "\n",
        "Not mentioned in class is that the sign of the determinant tells you about how vectors are ordered in some sense. In 2d this would be if the unit vectors cross when they get mapped.\n",
        "\n",
        "Here is a website with a great visual introduction to linear algebra. I highly recommend it even if you are confident with your linear algebra skills as visualizing is a great tool to have in your math tool kit. It is quite a long series but worth a watch. https://www.3blue1brown.com/topics/linear-algebra"
      ],
      "metadata": {
        "id": "cYUgFmWThIUN"
      }
    },
    {
      "cell_type": "markdown",
      "source": [
        "## Slack variables\n",
        "used when changing to standard form, i.e. want to get rid of inequalities.\n",
        "\n",
        "sign of a slack variable is positive, then we decide if we need to add or subtract the slack variable. Alternatively, you can multiply the inequality by -1 if needed and always add.\n",
        "\n",
        "$a_1 x_1 + a_2 x_2 \\geq b_1$\n",
        "\n",
        "$a_1 x_1 + a_2 x_2 - s_1 = b_1$\n",
        "\n",
        "\n",
        "$-a_1 x_1  -a_2 x_2 \\leq -b_1$\n",
        "\n",
        "\n",
        "$-a_1 x_1  -a_2 x_2 + s_1 = -b_1$\n",
        "\n",
        "\n",
        "$a_1 x_1 + a_2 x_2 \\leq b_1$\n",
        "\n",
        "$a_1 x_1 + a_2 x_2 + s_1 = b_1$"
      ],
      "metadata": {
        "id": "mE3Ism4ckOxr"
      }
    },
    {
      "cell_type": "markdown",
      "source": [
        "in future assignments - use vector formulation for gurobi when possible. i.e. write equality and inequality constraints as matrix vector equalities and inequalities. \n",
        "\n",
        "## floating point numnbers\n",
        "it is how we store numbers in computers - importantly these numbers are stored in finite space so they aren't exact. What this means is that all computer calculation are rounded (which can lead to errors and instability). \n",
        "\n",
        "In the homework this came up in one of the gurobi solutions. you got something like x = [.79999999999, .199999999] and these numbers should add to 1. if you wrote print(np.array(x)) you would get [0.8,0.2]. Additionally if you did 1 - x[0] - x[1] you'd get 0.\n",
        "\n",
        "x = np.array(m.getAttr('x'))"
      ],
      "metadata": {
        "id": "vDJfjD_8zYOD"
      }
    },
    {
      "cell_type": "code",
      "source": [
        "!pip install gurobipy\n",
        "import gurobipy as grb\n",
        "import numpy as np"
      ],
      "metadata": {
        "id": "ruDrbw9uzgTO"
      },
      "execution_count": null,
      "outputs": []
    },
    {
      "cell_type": "code",
      "source": [
        "m = grb.Model()\n",
        "N_i_j = np.array([[.10, .25, .50, .75, .95],[.90, .75, .50, .25, .05]])\n",
        "nbj = 5\n",
        "p_j = np.array([5,4,3,2,1.5])\n",
        "x_j = m.addMVar(nbj)\n",
        "d_i = np.array([.30,.70])\n",
        "m.setObjective(p_j @ x_j , grb.GRB.MINIMIZE)\n",
        "c = m.addConstr(N_i_j @ x_j == d_i)\n",
        "m.optimize()\n",
        "X = m.getAttr('x')"
      ],
      "metadata": {
        "colab": {
          "base_uri": "https://localhost:8080/"
        },
        "id": "PIeyksdczaTH",
        "outputId": "c73c97cd-1842-4f08-efd8-163d126ea37e"
      },
      "execution_count": null,
      "outputs": [
        {
          "output_type": "stream",
          "name": "stdout",
          "text": [
            "Gurobi Optimizer version 9.5.1 build v9.5.1rc2 (linux64)\n",
            "Thread count: 1 physical cores, 2 logical processors, using up to 2 threads\n",
            "Optimize a model with 2 rows, 5 columns and 10 nonzeros\n",
            "Model fingerprint: 0xe4da357f\n",
            "Coefficient statistics:\n",
            "  Matrix range     [5e-02, 9e-01]\n",
            "  Objective range  [2e+00, 5e+00]\n",
            "  Bounds range     [0e+00, 0e+00]\n",
            "  RHS range        [3e-01, 7e-01]\n",
            "Presolve time: 0.01s\n",
            "Presolved: 2 rows, 5 columns, 10 nonzeros\n",
            "\n",
            "Iteration    Objective       Primal Inf.    Dual Inf.      Time\n",
            "       0    4.7368421e-01   6.842105e-01   0.000000e+00      0s\n",
            "       3    3.8000000e+00   0.000000e+00   0.000000e+00      0s\n",
            "\n",
            "Solved in 3 iterations and 0.02 seconds (0.00 work units)\n",
            "Optimal objective  3.800000000e+00\n"
          ]
        }
      ]
    },
    {
      "cell_type": "code",
      "source": [
        "print(f'x = {X}\\nbut np.array(x) = {np.array(X)} \\nwhich we can clearly see satisfies the equality constraints. \\n Note - default is that numpy rounds and prints to 8 digits, no detail is lost when converting to a numpy array.')\n",
        "print(f'\\nthis is because the smallest diffence between numbers that python can discern is {np.finfo(float).eps}')\n",
        "print(f'we can note that we have that X[1]+X[2] - 1 = {X[1]+X[2] - 1}\\nthis tells us that to the computer the constraint is satisfied.')"
      ],
      "metadata": {
        "colab": {
          "base_uri": "https://localhost:8080/"
        },
        "id": "mdz1lmsczzbl",
        "outputId": "4f02b12a-0800-4f77-b22e-c8dd0704344d"
      },
      "execution_count": null,
      "outputs": [
        {
          "output_type": "stream",
          "name": "stdout",
          "text": [
            "x = [0.0, 0.7999999999999999, 0.19999999999999996, 0.0, 0.0]\n",
            "but np.array(x) = [0.  0.8 0.2 0.  0. ] \n",
            "which we can clearly see satisfies the equality constraints. \n",
            " Note - default is that numpy rounds and prints to 8 digits, no detail is lost when converting to a numpy array.\n",
            "\n",
            "this is because the smallest diffence between numbers that python can discern is 2.220446049250313e-16\n",
            "we can note that we have that X[1]+X[2] - 1 = -1.1102230246251565e-16\n",
            "this tells us that to the computer the constraint is satisfied.\n"
          ]
        }
      ]
    },
    {
      "cell_type": "markdown",
      "source": [
        "in the above x is origionally store as a list "
      ],
      "metadata": {
        "id": "Alarsjxa0iW6"
      }
    },
    {
      "cell_type": "markdown",
      "source": [
        "\n",
        "\n",
        "## displaying final answer\n",
        "It is good practice to have your answer clearly displayed at the bottom of your code. A great way to do this is with fstrings. \n",
        "\n",
        "x = np.array(m.getAttr('x'))\n",
        "```\n",
        " print('x = [0.8,0.2]') % bad\n",
        "```\n",
        "```\n",
        "print(f'{x = }') % note this actually only works in python 3.8 but google colab is using 3.7, instead can use print(f'x = {x}')\n",
        "x = [0.8, 0.2]\n",
        "```\n"
      ],
      "metadata": {
        "id": "6pmi_RkOlq_A"
      }
    },
    {
      "cell_type": "markdown",
      "source": [
        "Here is the solution to question 3 and a few ways to display your answer"
      ],
      "metadata": {
        "id": "7blHcA0cxrCn"
      }
    },
    {
      "cell_type": "code",
      "source": [
        "m = grb.Model()\n",
        "N_i_j = np.array([[1, -1, 1, -1, 0,0,1],[2,-2,0,0, 1,-1, 0]])\n",
        "nbj = 7\n",
        "p_j = np.array([1,1,1,1,1,1,0])\n",
        "x_j = m.addMVar(nbj)\n",
        "d_i = np.array([1,3])\n",
        "m.setObjective(p_j @ x_j , grb.GRB.MINIMIZE)\n",
        "c = m.addConstr(N_i_j @ x_j == d_i)\n",
        "m.optimize()\n",
        "X = m.getAttr('x')"
      ],
      "metadata": {
        "colab": {
          "base_uri": "https://localhost:8080/"
        },
        "id": "4OXUor6XxZRV",
        "outputId": "8a3e0b99-539a-4787-a269-f62ac526cd26"
      },
      "execution_count": null,
      "outputs": [
        {
          "output_type": "stream",
          "name": "stdout",
          "text": [
            "Requirement already satisfied: gurobipy in /usr/local/lib/python3.7/dist-packages (9.5.1)\n",
            "Gurobi Optimizer version 9.5.1 build v9.5.1rc2 (linux64)\n",
            "Thread count: 1 physical cores, 2 logical processors, using up to 2 threads\n",
            "Optimize a model with 2 rows, 7 columns and 9 nonzeros\n",
            "Model fingerprint: 0x354acdc9\n",
            "Coefficient statistics:\n",
            "  Matrix range     [1e+00, 2e+00]\n",
            "  Objective range  [1e+00, 1e+00]\n",
            "  Bounds range     [0e+00, 0e+00]\n",
            "  RHS range        [1e+00, 3e+00]\n",
            "Presolve removed 0 rows and 3 columns\n",
            "Presolve time: 0.02s\n",
            "Presolved: 2 rows, 4 columns, 6 nonzeros\n",
            "\n",
            "Iteration    Objective       Primal Inf.    Dual Inf.      Time\n",
            "       0    0.0000000e+00   1.500000e+00   0.000000e+00      0s\n",
            "       2    2.0000000e+00   0.000000e+00   0.000000e+00      0s\n",
            "\n",
            "Solved in 2 iterations and 0.03 seconds (0.00 work units)\n",
            "Optimal objective  2.000000000e+00\n"
          ]
        }
      ]
    },
    {
      "cell_type": "markdown",
      "source": [
        "the simplist but harder to read"
      ],
      "metadata": {
        "id": "_x4Fe73hxz8v"
      }
    },
    {
      "cell_type": "code",
      "source": [
        "print(X)"
      ],
      "metadata": {
        "colab": {
          "base_uri": "https://localhost:8080/"
        },
        "id": "ADRYvpOsxwUu",
        "outputId": "db2ef905-401e-41b6-83ce-ea9f5a1a68f5"
      },
      "execution_count": null,
      "outputs": [
        {
          "output_type": "stream",
          "name": "stdout",
          "text": [
            "[1.5, 0.0, 0.0, 0.5, 0.0, 0.0, 0.0]\n"
          ]
        }
      ]
    },
    {
      "cell_type": "markdown",
      "source": [
        "better because now we can see what is being printed but we still need to reference the code to see what x is "
      ],
      "metadata": {
        "id": "S_EllTNxx393"
      }
    },
    {
      "cell_type": "code",
      "source": [
        "print(f'x = {X}')"
      ],
      "metadata": {
        "colab": {
          "base_uri": "https://localhost:8080/"
        },
        "id": "9EE6pA7lx67i",
        "outputId": "6ad9a16b-d885-4aa4-d6ab-721ffa744bdd"
      },
      "execution_count": null,
      "outputs": [
        {
          "output_type": "stream",
          "name": "stdout",
          "text": [
            "x = [1.5, 0.0, 0.0, 0.5, 0.0, 0.0, 0.0]\n"
          ]
        }
      ]
    },
    {
      "cell_type": "markdown",
      "source": [
        "best, this outputs the variables as they were labeled in the problem as is easy to read. Additionally, if you have to go back and change anything in the code above when you rerun the notebook you don't have to worry about changing this block."
      ],
      "metadata": {
        "id": "BP0agqUry2c9"
      }
    },
    {
      "cell_type": "code",
      "source": [
        "x = X[0]-X[1]\n",
        "y = X[2]-X[3]\n",
        "z = X[4]-X[5]\n",
        "print(f'x = {x} \\ny = {y} \\nz = {z}')"
      ],
      "metadata": {
        "colab": {
          "base_uri": "https://localhost:8080/"
        },
        "id": "gIWKNEX6y3RA",
        "outputId": "8180a7db-0145-4f5a-ebc5-601d91299ba8"
      },
      "execution_count": null,
      "outputs": [
        {
          "output_type": "stream",
          "name": "stdout",
          "text": [
            "x = 1.5 \n",
            "y = -0.5 \n",
            "z = 0.0\n"
          ]
        }
      ]
    },
    {
      "cell_type": "markdown",
      "source": [
        "\n",
        "1. (i) Answer problem 2 from Luenberger and Ye, Section 2.6. (about a\n",
        "manufacturer who wishes to produce an alloy).\n",
        "\n",
        "Answer:\n",
        "---\n",
        "(ii) Numerically solve the program using Gurobi.\n",
        "\n",
        "2. (i) Answer problem 4 from Luenberger and Ye, Section 2.6 (about a firm\n",
        "that makes auto parts).\n",
        "\n",
        "Answer:\n",
        "---\n",
        "(ii) Numerically solve the program using Gurobi.\n",
        "\n",
        "3. (i) Answer problem 8 from Luenberger and Ye, Section 2.6 (convert an\n",
        "optimization with objective $|x_{1}|+|x_{2}|+|x_{3}|$ to an LP in standard\n",
        "form).\n",
        "\n",
        "NOTE: \n",
        "A really common mistake was that when plugging into constraints, after correctly setting $x = x_+ - x_-$, plugged in $x = x_+ + x_-$ to constraints.\n",
        "\n",
        "objective function is $x_+ + x_- + y_+ + y_- + z_+ + z_-$ but when plugging into constraint such as $2x + z = 3$ many people wrote $2x_+ + 2x_- + z_+ + z_- = 3$ instead of $2(x_+ - x_-) + (z_+ - z_-) = 3$\n",
        "\n",
        "Answer:\n",
        "---\n",
        "(ii) Numerically solve the program using Gurobi.\n",
        "\n",
        "4. Consider the feasible set of a linear program in standard form: \n",
        "\\begin{equation*}\n",
        "D=\\{x\\,:\\,Ax=b\\ \\mbox{and $x_j \\geq 0$ for each $j$}\\}\n",
        "\\end{equation*}\n",
        "where $A$ is $m\\times n$ with $n>m$ and $\\mbox{rank}(A)=m$. Suppose the last\n",
        "column of $A$ has only zero's. What can you say about the form of $D$?\n",
        "\n",
        "NOTE - \n",
        "A few things to note: we are looking at a set of solutions to a linear equation. There is no objective function. There are more variables then equations! Rank(A) = m which is full rank because it is equal to min(n,m). This means that our map is on-to, so a solutions exists! there are n-m null vectors so D is n-m dimensional. if $x*$ is a solution to $Ax-b$ then for any null vector $z_1,\\dots,z_{n-m}$ we have that $x* + \\sum_{i=1}^{n-m} a_iz_i$ is another solution because A is linear. \n",
        "\n",
        "Answer: The last column of A has only zeros - this just tells that the constraint does not affect $x_n$. So we can look A' defined by taking the first n-1 columns of A. Then we look at the problem A'x =b . $n-1 \\geq m$, and rank(A') = m so a solution exists. And we can characterize the solution space by $D' = \\{x : A'x = b\\} \\in R^{n-1}$. Finally, $D = D' \\times R_{\\geq 0}$. Thus $D$ is at least one dimensional and therefore has infinite solutions.\n",
        "\n",
        "---\n",
        "\n",
        "5. Consider the convex set in $R^{2}$ defined by the relations \n",
        "\\begin{eqnarray*}\n",
        "x_{1}+x_{2} &\\leq &1 \\\\\n",
        "2x_{1}-x_{2} &\\geq &-1/4 \\\\\n",
        "-x_{1}+x_{2} &\\geq &-1/2 \\\\\n",
        "x_{1}\\mbox{ and }x_{2} &\\geq &0\n",
        "\\end{eqnarray*}\n",
        "\n",
        "(i) sketch it\n",
        "\n",
        "(ii) introducing slack variables, express the polygon as the feasible set of\n",
        "a linear program in standard form\n",
        "\n",
        "Answer:\n",
        "---\n",
        "(iii) Identify how the size of the sketch correspond to each of the variables\n",
        "\n",
        "(iv) find all the basic feasible solutions.\n",
        "\n",
        "Answer:\n",
        "---\n",
        "\n",
        "6. Find the extreme points of the convex set in $\\mathbb{R}^{4}$ defined\n",
        "by the relations \n",
        "\\begin{gather*}\n",
        "x_{1}+x_{2}+x_{3}+x_{4}=1 \\\\\n",
        "x_{1}+2x_{2}+x_{3}=1 \\\\\n",
        "x_{1}\\geq 0,x_{2}\\geq 0,x_{3}\\geq 0,x_{4}\\geq 0\n",
        "\\end{gather*}\n",
        "by finding all the basic feasible solutions.\n",
        "\n",
        "Answer:\n",
        "---"
      ],
      "metadata": {
        "id": "QJUw4c0rKSES"
      }
    }
  ]
}