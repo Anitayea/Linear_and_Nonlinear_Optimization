{
  "nbformat": 4,
  "nbformat_minor": 0,
  "metadata": {
    "colab": {
      "name": "recitation 6.ipynb",
      "provenance": [],
      "include_colab_link": true
    },
    "kernelspec": {
      "name": "python3",
      "display_name": "Python 3"
    },
    "language_info": {
      "name": "python"
    }
  },
  "cells": [
    {
      "cell_type": "markdown",
      "metadata": {
        "id": "view-in-github",
        "colab_type": "text"
      },
      "source": [
        "<a href=\"https://colab.research.google.com/github/Anitayea/Linear_and_Nonlinear_Optimization/blob/recitations/recitation_6.ipynb\" target=\"_parent\"><img src=\"https://colab.research.google.com/assets/colab-badge.svg\" alt=\"Open In Colab\"/></a>"
      ]
    },
    {
      "cell_type": "markdown",
      "source": [
        "# Recitation 6\n",
        "\n",
        "\n",
        "\n",
        "*   Quiz\n",
        "*   questions\n",
        "*   More Gurobi\n"
      ],
      "metadata": {
        "id": "YLoIThMjJVfR"
      }
    },
    {
      "cell_type": "markdown",
      "source": [
        "\n",
        "1) [T/F] In a sequential zero-sum game, it is always weakly preferrable to\n",
        "play first.\n",
        "\n",
        "ANSWER: False - see example in class of soccer players: if goalie goes second they are better off. This is equivalent to comparing min max vs max min \n",
        "\n",
        "---\n",
        "\n",
        "2) [T/F] A zero-sum game has always an equilibrium in pure strategy.\n",
        "\n",
        "ANSWER: False - in zero-sum pure strategy there is not allways an equilibrium - see example in class. \n",
        "example: rock paper sissors\n",
        "\n",
        "---\n",
        "\n",
        "3) [T/F] A zero-sum game has always an equilibrium in mixed strategy.\n",
        "\n",
        "ANSWER: True - theorem in class. in notes on page claim made on page 88 with proof following and statement of theorem on page 97.\n",
        "\n",
        "---\n",
        "\n",
        "\n",
        "4) [T/F] An equilibrium in mixed strategy has always a unique equilibrium in\n",
        "mixed strategy.\n",
        "\n",
        "ANSWER: False - can we find a counter example? \n",
        "example: player A and player B each have options a1, a2 and b1, b2. The payoff is 1 for player A no matter what each player chooses. So any strategy is optimal. \n",
        "\n",
        "---\n",
        "\n",
        "\n",
        "5) [T/F] There is always a best response in pure strategy.\n",
        "\n",
        "ANSWER: True - you always have the opprotunity to make the best possible response. This was also a proposition in class though I am not sure where it is explicitly stated in the notes. One clear way to see this is that once the first player makes a choice the second player then chooses their payout and either one choice is optimal, or if more than one is any of them are rather than needing to randomly select.\n",
        "\n",
        "---\n",
        "\n",
        "\n",
        "6) Consider the zero-sum game where player 1 plays $i\\in \\left\\{\n",
        "1,...,5\\right\\} $ and player 2 plays $j\\in \\left\\{ 1,...,5\\right\\} $. The\n",
        "payoff to player 1 is $\\ 1$ if $i>j$, $0$ if $i=j$, and $-2$ if $i<j$. What\n",
        "is the expected payoff of player 1 in a mixed strategy equilibrium?\n",
        "\n",
        "\n",
        "ANSWER: 0 - player 1's best bet will always be to select the largest number. The same applies for player 2. Thus both will always choose 5 and the payoff will be 0."
      ],
      "metadata": {
        "id": "GH0HeeCPLIzz"
      }
    },
    {
      "cell_type": "markdown",
      "source": [
        ""
      ],
      "metadata": {
        "id": "jCeoVNEUhmFf"
      }
    },
    {
      "cell_type": "markdown",
      "source": [
        "## Gurobi examples"
      ],
      "metadata": {
        "id": "ixnEXZw7QB5W"
      }
    },
    {
      "cell_type": "code",
      "source": [
        "import os\n",
        "import pandas as pd\n",
        "import numpy as np\n",
        "import scipy.sparse as sp\n",
        "!pip install osmnx\n",
        "#import osmnx as ox\n",
        "import networkx as nx\n",
        "%matplotlib notebook\n",
        "import matplotlib as mpl\n",
        "import matplotlib.pyplot as plt\n",
        "plt.rcParams['figure.figsize'] = [10, 10] #resize plots\n",
        "from matplotlib.animation import FuncAnimation\n",
        "!pip install gurobipy\n",
        "import gurobipy as grb\n",
        "\n",
        "#thepath = os.path.join(os.getcwd(),'data_mec_optim/')\n",
        "thepath = 'https://raw.githubusercontent.com/math-econ-code/mec_optim_2021-01/master/data_mec_optim/'"
      ],
      "metadata": {
        "colab": {
          "base_uri": "https://localhost:8080/"
        },
        "id": "lc24U1GlLYon",
        "outputId": "163cfc47-02d0-4552-ea52-db252e13ac5e"
      },
      "execution_count": null,
      "outputs": [
        {
          "output_type": "stream",
          "name": "stdout",
          "text": [
            "Requirement already satisfied: osmnx in /usr/local/lib/python3.7/dist-packages (1.1.2)\n",
            "Requirement already satisfied: pandas>=1.3 in /usr/local/lib/python3.7/dist-packages (from osmnx) (1.3.5)\n",
            "Requirement already satisfied: geopandas>=0.10 in /usr/local/lib/python3.7/dist-packages (from osmnx) (0.10.2)\n",
            "Requirement already satisfied: Shapely<2.0,>=1.7 in /usr/local/lib/python3.7/dist-packages (from osmnx) (1.8.1.post1)\n",
            "Requirement already satisfied: numpy>=1.21 in /usr/local/lib/python3.7/dist-packages (from osmnx) (1.21.5)\n",
            "Requirement already satisfied: Rtree>=0.9 in /usr/local/lib/python3.7/dist-packages (from osmnx) (0.9.7)\n",
            "Requirement already satisfied: requests>=2.26 in /usr/local/lib/python3.7/dist-packages (from osmnx) (2.27.1)\n",
            "Requirement already satisfied: matplotlib>=3.4 in /usr/local/lib/python3.7/dist-packages (from osmnx) (3.5.1)\n",
            "Requirement already satisfied: pyproj>=3.2 in /usr/local/lib/python3.7/dist-packages (from osmnx) (3.2.1)\n",
            "Requirement already satisfied: networkx>=2.6 in /usr/local/lib/python3.7/dist-packages (from osmnx) (2.6.3)\n",
            "Requirement already satisfied: fiona>=1.8 in /usr/local/lib/python3.7/dist-packages (from geopandas>=0.10->osmnx) (1.8.21)\n",
            "Requirement already satisfied: certifi in /usr/local/lib/python3.7/dist-packages (from fiona>=1.8->geopandas>=0.10->osmnx) (2021.10.8)\n",
            "Requirement already satisfied: six>=1.7 in /usr/local/lib/python3.7/dist-packages (from fiona>=1.8->geopandas>=0.10->osmnx) (1.15.0)\n",
            "Requirement already satisfied: click-plugins>=1.0 in /usr/local/lib/python3.7/dist-packages (from fiona>=1.8->geopandas>=0.10->osmnx) (1.1.1)\n",
            "Requirement already satisfied: munch in /usr/local/lib/python3.7/dist-packages (from fiona>=1.8->geopandas>=0.10->osmnx) (2.5.0)\n",
            "Requirement already satisfied: setuptools in /usr/local/lib/python3.7/dist-packages (from fiona>=1.8->geopandas>=0.10->osmnx) (57.4.0)\n",
            "Requirement already satisfied: attrs>=17 in /usr/local/lib/python3.7/dist-packages (from fiona>=1.8->geopandas>=0.10->osmnx) (21.4.0)\n",
            "Requirement already satisfied: click>=4.0 in /usr/local/lib/python3.7/dist-packages (from fiona>=1.8->geopandas>=0.10->osmnx) (7.1.2)\n",
            "Requirement already satisfied: cligj>=0.5 in /usr/local/lib/python3.7/dist-packages (from fiona>=1.8->geopandas>=0.10->osmnx) (0.7.2)\n",
            "Requirement already satisfied: kiwisolver>=1.0.1 in /usr/local/lib/python3.7/dist-packages (from matplotlib>=3.4->osmnx) (1.3.2)\n",
            "Requirement already satisfied: pillow>=6.2.0 in /usr/local/lib/python3.7/dist-packages (from matplotlib>=3.4->osmnx) (7.1.2)\n",
            "Requirement already satisfied: packaging>=20.0 in /usr/local/lib/python3.7/dist-packages (from matplotlib>=3.4->osmnx) (21.3)\n",
            "Requirement already satisfied: pyparsing>=2.2.1 in /usr/local/lib/python3.7/dist-packages (from matplotlib>=3.4->osmnx) (3.0.7)\n",
            "Requirement already satisfied: python-dateutil>=2.7 in /usr/local/lib/python3.7/dist-packages (from matplotlib>=3.4->osmnx) (2.8.2)\n",
            "Requirement already satisfied: cycler>=0.10 in /usr/local/lib/python3.7/dist-packages (from matplotlib>=3.4->osmnx) (0.11.0)\n",
            "Requirement already satisfied: fonttools>=4.22.0 in /usr/local/lib/python3.7/dist-packages (from matplotlib>=3.4->osmnx) (4.29.1)\n",
            "Requirement already satisfied: pytz>=2017.3 in /usr/local/lib/python3.7/dist-packages (from pandas>=1.3->osmnx) (2018.9)\n",
            "Requirement already satisfied: charset-normalizer~=2.0.0 in /usr/local/lib/python3.7/dist-packages (from requests>=2.26->osmnx) (2.0.12)\n",
            "Requirement already satisfied: urllib3<1.27,>=1.21.1 in /usr/local/lib/python3.7/dist-packages (from requests>=2.26->osmnx) (1.24.3)\n",
            "Requirement already satisfied: idna<4,>=2.5 in /usr/local/lib/python3.7/dist-packages (from requests>=2.26->osmnx) (2.10)\n",
            "Requirement already satisfied: gurobipy in /usr/local/lib/python3.7/dist-packages (9.5.1)\n"
          ]
        }
      ]
    },
    {
      "cell_type": "code",
      "source": [
        "class network_problem:\n",
        "    def __init__(self,nodesList,arcsList,costsList):\n",
        "        self.nbNodes = len(nodesList)\n",
        "        self.nbArcs = len(arcsList)\n",
        "        self.nodesList = nodesList\n",
        "        self.arcsList = arcsList\n",
        "        self.costsList = costsList\n",
        "        self.nodesDict = {node:node_ind for (node,node_ind) in zip(self.nodesList,range(self.nbNodes))}\n",
        "        self.arcsDict = {arc:arc_ind for (arc,arc_ind) in zip(self.arcsList,range(self.nbArcs))}\n",
        "        print('Number of nodes='+str(self.nbNodes)+'; number of arcs='+str(self.nbArcs)+'.')"
      ],
      "metadata": {
        "id": "wLoezRXsLiCY"
      },
      "execution_count": null,
      "outputs": []
    },
    {
      "cell_type": "markdown",
      "source": [
        "Example: directed graph"
      ],
      "metadata": {
        "id": "M5yfxYDtM6iz"
      }
    },
    {
      "cell_type": "code",
      "source": [
        "example_graph = nx.DiGraph() #create empty directed graph\n",
        "arcslist = [('s','u'),('u','v'),('s','v'),('u','t'),('v','t')] #directed edges\n",
        "costslist = [3,1,4,2,2]\n",
        "example_graph.add_edges_from(arcslist)\n",
        "\n",
        "example_pb = network_problem(list(example_graph.nodes),arcslist,costslist) \n",
        "\n",
        "pos = {'s':np.array([0,0]),'u':np.array([1,0.5]),'v':np.array([2,0]),'t':np.array([3,0])} \n",
        "nx.draw_networkx_edge_labels(example_graph,pos,edge_labels={e:('c='+str(l)) for (e,l) in zip(arcslist,costslist)},font_color='red')\n",
        "nx.draw(example_graph,pos,with_labels=True)\n",
        "plt.show()"
      ],
      "metadata": {
        "colab": {
          "base_uri": "https://localhost:8080/",
          "height": 265
        },
        "id": "4iWAK_UJM-KM",
        "outputId": "f9c0c673-3470-4efb-9bc5-71313339cedc"
      },
      "execution_count": null,
      "outputs": [
        {
          "output_type": "stream",
          "name": "stdout",
          "text": [
            "Number of nodes=4; number of arcs=5.\n"
          ]
        },
        {
          "output_type": "display_data",
          "data": {
            "image/png": "[encoded data removed]",
            "text/plain": [
              "<Figure size 432x288 with 1 Axes>"
            ]
          },
          "metadata": {}
        }
      ]
    },
    {
      "cell_type": "code",
      "source": [
        "example_pb.nodesDict"
      ],
      "metadata": {
        "colab": {
          "base_uri": "https://localhost:8080/"
        },
        "id": "fRPWnYk4WrEB",
        "outputId": "3902087c-491a-4ff6-dbe9-a2c9d78035e8"
      },
      "execution_count": null,
      "outputs": [
        {
          "output_type": "execute_result",
          "data": {
            "text/plain": [
              "{'s': 0, 't': 3, 'u': 1, 'v': 2}"
            ]
          },
          "metadata": {},
          "execution_count": 4
        }
      ]
    },
    {
      "cell_type": "code",
      "source": [
        "def Nabla(self):\n",
        "    data = np.concatenate([-np.ones(self.nbArcs),np.ones(self.nbArcs)])\n",
        "    arcsIndices = list(range(self.nbArcs))\n",
        "    arcsOrigins = [self.nodesDict[o] for o,d in self.arcsList]\n",
        "    arcsDestinations = [self.nodesDict[d] for o,d in self.arcsList]\n",
        "    theNabla = sp.csr_matrix((data, (arcsIndices+arcsIndices, arcsOrigins+arcsDestinations)), shape = (self.nbArcs,self.nbNodes))\n",
        "    return(theNabla)\n",
        "\n",
        "network_problem.Nabla = Nabla"
      ],
      "metadata": {
        "id": "qLr8Yz8jNEUT"
      },
      "execution_count": null,
      "outputs": []
    },
    {
      "cell_type": "markdown",
      "source": [
        "this is a matrix of the arcs, the first row represents the arrow from s to u for example"
      ],
      "metadata": {
        "id": "g_4bIie2NFSS"
      }
    },
    {
      "cell_type": "code",
      "source": [
        "example_pb.Nabla().toarray()"
      ],
      "metadata": {
        "colab": {
          "base_uri": "https://localhost:8080/"
        },
        "id": "Vj64-M1cNJcs",
        "outputId": "6ee26afb-0d6b-4abc-8be3-97ad23af3f08"
      },
      "execution_count": null,
      "outputs": [
        {
          "output_type": "execute_result",
          "data": {
            "text/plain": [
              "array([[-1.,  1.,  0.,  0.],\n",
              "       [ 0., -1.,  1.,  0.],\n",
              "       [-1.,  0.,  1.,  0.],\n",
              "       [ 0., -1.,  0.,  1.],\n",
              "       [ 0.,  0., -1.,  1.]])"
            ]
          },
          "metadata": {},
          "execution_count": 6
        }
      ]
    },
    {
      "cell_type": "markdown",
      "source": [
        "*mu* is 1 on arcs the path uses and 0 for arcs not used. This represents (s,u,v,t)"
      ],
      "metadata": {
        "id": "ROVB8e3QNLCq"
      }
    },
    {
      "cell_type": "code",
      "source": [
        "# example_pb.arcsList\n",
        "# example_pb.nodesList\n",
        "mu = np.array([1,1,0,0,1])\n",
        "(example_pb.Nabla().transpose() * mu.reshape(-1,1)).reshape(1,-1)"
      ],
      "metadata": {
        "colab": {
          "base_uri": "https://localhost:8080/"
        },
        "id": "GxSakq9JNLpg",
        "outputId": "c893db37-64a2-4330-9c61-f11dec74b1be"
      },
      "execution_count": null,
      "outputs": [
        {
          "output_type": "execute_result",
          "data": {
            "text/plain": [
              "array([[-1.,  0.,  0.,  1.]])"
            ]
          },
          "metadata": {},
          "execution_count": 7
        }
      ]
    },
    {
      "cell_type": "code",
      "source": [
        "def pathfinder(self,mu,sind,tind):\n",
        "    # assume mu is such that $\\Nabla^\\top \\mu =1 on t, =-1 on s, and =0 elsewhere\n",
        "    t = self.nodesList[tind]\n",
        "    arcs_active = [(x,y) for (x,y) in self.arcsList if (mu[self.arcsDict[(x,y)]] > 0) ]\n",
        "    current = self.nodesList[sind]\n",
        "    path = [current]\n",
        "    while current != t:\n",
        "        (x,y) = next((x,y) for (x,y) in arcs_active if x==current)\n",
        "        path.append(y)\n",
        "        current = y\n",
        "        arcs_active.remove((x,y))\n",
        "    return(path)\n",
        "    \n",
        "\n",
        "network_problem.pathfinder = pathfinder"
      ],
      "metadata": {
        "id": "OeAijKrJNTId"
      },
      "execution_count": null,
      "outputs": []
    },
    {
      "cell_type": "code",
      "source": [
        "example_pb.pathfinder(mu,0,3)"
      ],
      "metadata": {
        "colab": {
          "base_uri": "https://localhost:8080/"
        },
        "id": "_M6S9MMxNUhd",
        "outputId": "72fc72f2-883d-4862-a56c-24f71276d6ec"
      },
      "execution_count": null,
      "outputs": [
        {
          "output_type": "execute_result",
          "data": {
            "text/plain": [
              "['s', 'u', 'v', 't']"
            ]
          },
          "metadata": {},
          "execution_count": 9
        }
      ]
    },
    {
      "cell_type": "code",
      "source": [
        "def mincostflow(self,q):\n",
        "    Nabla = self.Nabla()\n",
        "    m=grb.Model()\n",
        "    p = m.addMVar(shape=self.nbNodes, name=\"p\", lb = float('-inf'))\n",
        "    m.setObjective(q @ p, grb.GRB.MAXIMIZE)\n",
        "    m.addConstr( Nabla @ p <= np.array(self.costsList), name=\"Constr\")\n",
        "    m.optimize()\n",
        "    if m.status == grb.GRB.Status.OPTIMAL:\n",
        "        p_z = m.getAttr('x')\n",
        "        mu_a = m.getAttr('pi')\n",
        "    return np.array((p_z,mu_a),dtype=object)\n",
        "\n",
        "network_problem.mincostflow = mincostflow"
      ],
      "metadata": {
        "id": "StmYENxLNV68"
      },
      "execution_count": null,
      "outputs": []
    },
    {
      "cell_type": "code",
      "source": [
        "p_z,mu_a = example_pb.mincostflow(np.array([[-1.,  0.,  0.,  1.]]))\n"
      ],
      "metadata": {
        "colab": {
          "base_uri": "https://localhost:8080/"
        },
        "id": "lFAYry7SNXiJ",
        "outputId": "b5a9d753-7c10-4002-e557-1159d3b2e7e6"
      },
      "execution_count": null,
      "outputs": [
        {
          "output_type": "stream",
          "name": "stdout",
          "text": [
            "Restricted license - for non-production use only - expires 2023-10-25\n",
            "Gurobi Optimizer version 9.5.1 build v9.5.1rc2 (linux64)\n",
            "Thread count: 1 physical cores, 2 logical processors, using up to 2 threads\n",
            "Optimize a model with 5 rows, 4 columns and 10 nonzeros\n",
            "Model fingerprint: 0xd068e937\n",
            "Coefficient statistics:\n",
            "  Matrix range     [1e+00, 1e+00]\n",
            "  Objective range  [1e+00, 1e+00]\n",
            "  Bounds range     [0e+00, 0e+00]\n",
            "  RHS range        [1e+00, 4e+00]\n",
            "Presolve removed 5 rows and 4 columns\n",
            "Presolve time: 0.02s\n",
            "Presolve: All rows and columns removed\n",
            "Iteration    Objective       Primal Inf.    Dual Inf.      Time\n",
            "       0    5.0000000e+00   0.000000e+00   2.000000e-06      0s\n",
            "\n",
            "Solved in 0 iterations and 0.03 seconds (0.00 work units)\n",
            "Optimal objective  5.000000000e+00\n"
          ]
        }
      ]
    },
    {
      "cell_type": "code",
      "source": [
        "print(f'\\np_z={p_z}, and \\nμ_a = {mu_a}' )"
      ],
      "metadata": {
        "colab": {
          "base_uri": "https://localhost:8080/"
        },
        "id": "igTIXtX4XY37",
        "outputId": "c49129af-f3c8-4b38-8f50-09c9e04691ea"
      },
      "execution_count": null,
      "outputs": [
        {
          "output_type": "stream",
          "name": "stdout",
          "text": [
            "\n",
            "p_z=[-3.0, 0.0, 0.0, 2.0], and \n",
            "μ_a = [1.0, 0.0, 0.0, 1.0, -0.0]\n"
          ]
        }
      ]
    },
    {
      "cell_type": "code",
      "source": [
        "example_pb.arcsList"
      ],
      "metadata": {
        "colab": {
          "base_uri": "https://localhost:8080/"
        },
        "id": "3W1dVQLRXV5D",
        "outputId": "68b7cb39-05ef-45f6-cfd1-117c63c1fce8"
      },
      "execution_count": null,
      "outputs": [
        {
          "output_type": "execute_result",
          "data": {
            "text/plain": [
              "[('s', 'u'), ('u', 'v'), ('s', 'v'), ('u', 't'), ('v', 't')]"
            ]
          },
          "metadata": {},
          "execution_count": 13
        }
      ]
    },
    {
      "cell_type": "code",
      "source": [
        "example_pb.pathfinder(mu_a,0,3)"
      ],
      "metadata": {
        "colab": {
          "base_uri": "https://localhost:8080/"
        },
        "id": "zDllvTfGXcNL",
        "outputId": "fb3eaf27-97d9-436b-c8ce-35aea969a07c"
      },
      "execution_count": null,
      "outputs": [
        {
          "output_type": "execute_result",
          "data": {
            "text/plain": [
              "['s', 'u', 't']"
            ]
          },
          "metadata": {},
          "execution_count": 14
        }
      ]
    },
    {
      "cell_type": "code",
      "source": [
        "example_pb.nodesList"
      ],
      "metadata": {
        "colab": {
          "base_uri": "https://localhost:8080/"
        },
        "id": "5jKYJ1fQnAwf",
        "outputId": "c2751c95-e7a5-4674-c3e7-fe1d8fb861c5"
      },
      "execution_count": null,
      "outputs": [
        {
          "output_type": "execute_result",
          "data": {
            "text/plain": [
              "['s', 'u', 'v', 't']"
            ]
          },
          "metadata": {},
          "execution_count": 15
        }
      ]
    },
    {
      "cell_type": "code",
      "source": [
        "thepath = 'https://raw.githubusercontent.com/math-econ-code/mec_optim_2021-01/master/data_mec_optim/'"
      ],
      "metadata": {
        "id": "mceysKwZoKCX"
      },
      "execution_count": null,
      "outputs": []
    },
    {
      "cell_type": "markdown",
      "source": [
        "soviet mathematician minimizing cost of transporting concrete from factories to cities"
      ],
      "metadata": {
        "id": "uuUGVZSCoW7a"
      }
    },
    {
      "cell_type": "code",
      "source": [
        "soviet_df = pd.read_csv(thepath+'networks_sovietplanning/distances.csv', sep=',',encoding = \"ISO-8859-1\")\n",
        "\n",
        "soviet_df"
      ],
      "metadata": {
        "colab": {
          "base_uri": "https://localhost:8080/",
          "height": 487
        },
        "id": "3dht8BJBoQga",
        "outputId": "181ce163-16eb-4e62-d559-168c19235e4e"
      },
      "execution_count": null,
      "outputs": [
        {
          "output_type": "execute_result",
          "data": {
            "text/html": [
              "\n",
              "  <div id=\"df-a657b46c-79ed-4563-ae07-8ffe3ce27e8c\">\n",
              "    <div class=\"colab-df-container\">\n",
              "      <div>\n",
              "<style scoped>\n",
              "    .dataframe tbody tr th:only-of-type {\n",
              "        vertical-align: middle;\n",
              "    }\n",
              "\n",
              "    .dataframe tbody tr th {\n",
              "        vertical-align: top;\n",
              "    }\n",
              "\n",
              "    .dataframe thead th {\n",
              "        text-align: right;\n",
              "    }\n",
              "</style>\n",
              "<table border=\"1\" class=\"dataframe\">\n",
              "  <thead>\n",
              "    <tr style=\"text-align: right;\">\n",
              "      <th></th>\n",
              "      <th>X</th>\n",
              "      <th>Arkhangelsk</th>\n",
              "      <th>Yaroslavl</th>\n",
              "      <th>Murom</th>\n",
              "      <th>Balakhonikha</th>\n",
              "      <th>Dzerzhinsk</th>\n",
              "      <th>Kishert</th>\n",
              "      <th>Sverdlovsk</th>\n",
              "      <th>Artemovsk</th>\n",
              "      <th>Iledzhk</th>\n",
              "      <th>Dekonskaya</th>\n",
              "      <th>demand:</th>\n",
              "    </tr>\n",
              "  </thead>\n",
              "  <tbody>\n",
              "    <tr>\n",
              "      <th>0</th>\n",
              "      <td>Agryz</td>\n",
              "      <td>NaN</td>\n",
              "      <td>NaN</td>\n",
              "      <td>NaN</td>\n",
              "      <td>709.0</td>\n",
              "      <td>1064.0</td>\n",
              "      <td>693.0</td>\n",
              "      <td>NaN</td>\n",
              "      <td>NaN</td>\n",
              "      <td>NaN</td>\n",
              "      <td>NaN</td>\n",
              "      <td>2.0</td>\n",
              "    </tr>\n",
              "    <tr>\n",
              "      <th>1</th>\n",
              "      <td>Aleksandrov</td>\n",
              "      <td>NaN</td>\n",
              "      <td>NaN</td>\n",
              "      <td>NaN</td>\n",
              "      <td>NaN</td>\n",
              "      <td>397.0</td>\n",
              "      <td>NaN</td>\n",
              "      <td>NaN</td>\n",
              "      <td>1180.0</td>\n",
              "      <td>NaN</td>\n",
              "      <td>NaN</td>\n",
              "      <td>4.0</td>\n",
              "    </tr>\n",
              "    <tr>\n",
              "      <th>2</th>\n",
              "      <td>Almaznaya</td>\n",
              "      <td>NaN</td>\n",
              "      <td>NaN</td>\n",
              "      <td>NaN</td>\n",
              "      <td>NaN</td>\n",
              "      <td>NaN</td>\n",
              "      <td>NaN</td>\n",
              "      <td>NaN</td>\n",
              "      <td>81.0</td>\n",
              "      <td>NaN</td>\n",
              "      <td>65.0</td>\n",
              "      <td>1.5</td>\n",
              "    </tr>\n",
              "    <tr>\n",
              "      <th>3</th>\n",
              "      <td>Alchevskaya</td>\n",
              "      <td>NaN</td>\n",
              "      <td>NaN</td>\n",
              "      <td>NaN</td>\n",
              "      <td>NaN</td>\n",
              "      <td>NaN</td>\n",
              "      <td>NaN</td>\n",
              "      <td>NaN</td>\n",
              "      <td>106.0</td>\n",
              "      <td>NaN</td>\n",
              "      <td>114.0</td>\n",
              "      <td>4.0</td>\n",
              "    </tr>\n",
              "    <tr>\n",
              "      <th>4</th>\n",
              "      <td>Baku</td>\n",
              "      <td>NaN</td>\n",
              "      <td>NaN</td>\n",
              "      <td>NaN</td>\n",
              "      <td>NaN</td>\n",
              "      <td>NaN</td>\n",
              "      <td>NaN</td>\n",
              "      <td>NaN</td>\n",
              "      <td>1554.0</td>\n",
              "      <td>NaN</td>\n",
              "      <td>1563.0</td>\n",
              "      <td>10.0</td>\n",
              "    </tr>\n",
              "    <tr>\n",
              "      <th>...</th>\n",
              "      <td>...</td>\n",
              "      <td>...</td>\n",
              "      <td>...</td>\n",
              "      <td>...</td>\n",
              "      <td>...</td>\n",
              "      <td>...</td>\n",
              "      <td>...</td>\n",
              "      <td>...</td>\n",
              "      <td>...</td>\n",
              "      <td>...</td>\n",
              "      <td>...</td>\n",
              "      <td>...</td>\n",
              "    </tr>\n",
              "    <tr>\n",
              "      <th>64</th>\n",
              "      <td>Shchigry</td>\n",
              "      <td>NaN</td>\n",
              "      <td>NaN</td>\n",
              "      <td>NaN</td>\n",
              "      <td>NaN</td>\n",
              "      <td>NaN</td>\n",
              "      <td>NaN</td>\n",
              "      <td>NaN</td>\n",
              "      <td>566.0</td>\n",
              "      <td>NaN</td>\n",
              "      <td>549.0</td>\n",
              "      <td>4.0</td>\n",
              "    </tr>\n",
              "    <tr>\n",
              "      <th>65</th>\n",
              "      <td>Yudino</td>\n",
              "      <td>NaN</td>\n",
              "      <td>NaN</td>\n",
              "      <td>NaN</td>\n",
              "      <td>403.0</td>\n",
              "      <td>757.0</td>\n",
              "      <td>999.0</td>\n",
              "      <td>NaN</td>\n",
              "      <td>NaN</td>\n",
              "      <td>NaN</td>\n",
              "      <td>NaN</td>\n",
              "      <td>0.5</td>\n",
              "    </tr>\n",
              "    <tr>\n",
              "      <th>66</th>\n",
              "      <td>Yama</td>\n",
              "      <td>NaN</td>\n",
              "      <td>NaN</td>\n",
              "      <td>NaN</td>\n",
              "      <td>NaN</td>\n",
              "      <td>NaN</td>\n",
              "      <td>NaN</td>\n",
              "      <td>NaN</td>\n",
              "      <td>44.0</td>\n",
              "      <td>NaN</td>\n",
              "      <td>52.0</td>\n",
              "      <td>5.0</td>\n",
              "    </tr>\n",
              "    <tr>\n",
              "      <th>67</th>\n",
              "      <td>Yasinovataya</td>\n",
              "      <td>NaN</td>\n",
              "      <td>NaN</td>\n",
              "      <td>NaN</td>\n",
              "      <td>NaN</td>\n",
              "      <td>NaN</td>\n",
              "      <td>NaN</td>\n",
              "      <td>NaN</td>\n",
              "      <td>85.0</td>\n",
              "      <td>NaN</td>\n",
              "      <td>93.0</td>\n",
              "      <td>6.0</td>\n",
              "    </tr>\n",
              "    <tr>\n",
              "      <th>68</th>\n",
              "      <td>supply:</td>\n",
              "      <td>5.0</td>\n",
              "      <td>11.5</td>\n",
              "      <td>8.5</td>\n",
              "      <td>12.0</td>\n",
              "      <td>100.0</td>\n",
              "      <td>12.0</td>\n",
              "      <td>15.0</td>\n",
              "      <td>314.0</td>\n",
              "      <td>10.0</td>\n",
              "      <td>55.0</td>\n",
              "      <td>543.0</td>\n",
              "    </tr>\n",
              "  </tbody>\n",
              "</table>\n",
              "<p>69 rows × 12 columns</p>\n",
              "</div>\n",
              "      <button class=\"colab-df-convert\" onclick=\"convertToInteractive('df-a657b46c-79ed-4563-ae07-8ffe3ce27e8c')\"\n",
              "              title=\"Convert this dataframe to an interactive table.\"\n",
              "              style=\"display:none;\">\n",
              "        \n",
              "  <svg xmlns=\"http://www.w3.org/2000/svg\" height=\"24px\"viewBox=\"0 0 24 24\"\n",
              "       width=\"24px\">\n",
              "    <path d=\"M0 0h24v24H0V0z\" fill=\"none\"/>\n",
              "    <path d=\"M18.56 5.44l.94 2.06.94-2.06 2.06-.94-2.06-.94-.94-2.06-.94 2.06-2.06.94zm-11 1L8.5 8.5l.94-2.06 2.06-.94-2.06-.94L8.5 2.5l-.94 2.06-2.06.94zm10 10l.94 2.06.94-2.06 2.06-.94-2.06-.94-.94-2.06-.94 2.06-2.06.94z\"/><path d=\"M17.41 7.96l-1.37-1.37c-.4-.4-.92-.59-1.43-.59-.52 0-1.04.2-1.43.59L10.3 9.45l-7.72 7.72c-.78.78-.78 2.05 0 2.83L4 21.41c.39.39.9.59 1.41.59.51 0 1.02-.2 1.41-.59l7.78-7.78 2.81-2.81c.8-.78.8-2.07 0-2.86zM5.41 20L4 18.59l7.72-7.72 1.47 1.35L5.41 20z\"/>\n",
              "  </svg>\n",
              "      </button>\n",
              "      \n",
              "  <style>\n",
              "    .colab-df-container {\n",
              "      display:flex;\n",
              "      flex-wrap:wrap;\n",
              "      gap: 12px;\n",
              "    }\n",
              "\n",
              "    .colab-df-convert {\n",
              "      background-color: #E8F0FE;\n",
              "      border: none;\n",
              "      border-radius: 50%;\n",
              "      cursor: pointer;\n",
              "      display: none;\n",
              "      fill: #1967D2;\n",
              "      height: 32px;\n",
              "      padding: 0 0 0 0;\n",
              "      width: 32px;\n",
              "    }\n",
              "\n",
              "    .colab-df-convert:hover {\n",
              "      background-color: #E2EBFA;\n",
              "      box-shadow: 0px 1px 2px rgba(60, 64, 67, 0.3), 0px 1px 3px 1px rgba(60, 64, 67, 0.15);\n",
              "      fill: #174EA6;\n",
              "    }\n",
              "\n",
              "    [theme=dark] .colab-df-convert {\n",
              "      background-color: #3B4455;\n",
              "      fill: #D2E3FC;\n",
              "    }\n",
              "\n",
              "    [theme=dark] .colab-df-convert:hover {\n",
              "      background-color: #434B5C;\n",
              "      box-shadow: 0px 1px 3px 1px rgba(0, 0, 0, 0.15);\n",
              "      filter: drop-shadow(0px 1px 2px rgba(0, 0, 0, 0.3));\n",
              "      fill: #FFFFFF;\n",
              "    }\n",
              "  </style>\n",
              "\n",
              "      <script>\n",
              "        const buttonEl =\n",
              "          document.querySelector('#df-a657b46c-79ed-4563-ae07-8ffe3ce27e8c button.colab-df-convert');\n",
              "        buttonEl.style.display =\n",
              "          google.colab.kernel.accessAllowed ? 'block' : 'none';\n",
              "\n",
              "        async function convertToInteractive(key) {\n",
              "          const element = document.querySelector('#df-a657b46c-79ed-4563-ae07-8ffe3ce27e8c');\n",
              "          const dataTable =\n",
              "            await google.colab.kernel.invokeFunction('convertToInteractive',\n",
              "                                                     [key], {});\n",
              "          if (!dataTable) return;\n",
              "\n",
              "          const docLinkHtml = 'Like what you see? Visit the ' +\n",
              "            '<a target=\"_blank\" href=https://colab.research.google.com/notebooks/data_table.ipynb>data table notebook</a>'\n",
              "            + ' to learn more about interactive tables.';\n",
              "          element.innerHTML = '';\n",
              "          dataTable['output_type'] = 'display_data';\n",
              "          await google.colab.output.renderOutput(dataTable, element);\n",
              "          const docLink = document.createElement('div');\n",
              "          docLink.innerHTML = docLinkHtml;\n",
              "          element.appendChild(docLink);\n",
              "        }\n",
              "      </script>\n",
              "    </div>\n",
              "  </div>\n",
              "  "
            ],
            "text/plain": [
              "               X  Arkhangelsk  Yaroslavl  ...  Iledzhk  Dekonskaya  demand:\n",
              "0          Agryz          NaN        NaN  ...      NaN         NaN      2.0\n",
              "1    Aleksandrov          NaN        NaN  ...      NaN         NaN      4.0\n",
              "2      Almaznaya          NaN        NaN  ...      NaN        65.0      1.5\n",
              "3    Alchevskaya          NaN        NaN  ...      NaN       114.0      4.0\n",
              "4           Baku          NaN        NaN  ...      NaN      1563.0     10.0\n",
              "..           ...          ...        ...  ...      ...         ...      ...\n",
              "64      Shchigry          NaN        NaN  ...      NaN       549.0      4.0\n",
              "65        Yudino          NaN        NaN  ...      NaN         NaN      0.5\n",
              "66          Yama          NaN        NaN  ...      NaN        52.0      5.0\n",
              "67  Yasinovataya          NaN        NaN  ...      NaN        93.0      6.0\n",
              "68       supply:          5.0       11.5  ...     10.0        55.0    543.0\n",
              "\n",
              "[69 rows x 12 columns]"
            ]
          },
          "metadata": {},
          "execution_count": 17
        }
      ]
    },
    {
      "cell_type": "markdown",
      "source": [
        ""
      ],
      "metadata": {
        "id": "_HF0VB_Iu0zm"
      }
    },
    {
      "cell_type": "code",
      "source": [
        "nbPlants = soviet_df.shape[1]-2\n",
        "nbCities = soviet_df.shape[0]-1\n",
        "arcsList = []\n",
        "costslist = []\n",
        "nodesList = [soviet_df.columns.values[plant+1]+ ' plant' for plant in range(nbPlants)] + [soviet_df.iloc[city,0]+ \" city\" for city in range(nbCities)]\n",
        "for plant in range(nbPlants):\n",
        "  for city in range(nbCities):\n",
        "    if not pd.isna(soviet_df.iloc[city,plant+1]):\n",
        "      arcsList.append((nodesList[plant],nodesList[nbPlants+city]))\n",
        "      costslist.append(soviet_df.iloc[city,plant+1])\n"
      ],
      "metadata": {
        "id": "_sQzo-EPoyp3"
      },
      "execution_count": null,
      "outputs": []
    },
    {
      "cell_type": "code",
      "source": [
        "q = np.concatenate((-soviet_df.iloc[68,1:-1], soviet_df.iloc[0:-1,11]))\n",
        "soviet_pb = network_problem(nodesList, arcsList, costslist)"
      ],
      "metadata": {
        "colab": {
          "base_uri": "https://localhost:8080/"
        },
        "id": "cCJgh_f0q5N8",
        "outputId": "6d0dea0d-7c85-44cc-9221-8abf7cec94ed"
      },
      "execution_count": null,
      "outputs": [
        {
          "output_type": "stream",
          "name": "stdout",
          "text": [
            "Number of nodes=78; number of arcs=155.\n"
          ]
        }
      ]
    },
    {
      "cell_type": "code",
      "source": [
        "p_z, mu_a = soviet_pb.mincostflow(q)"
      ],
      "metadata": {
        "colab": {
          "base_uri": "https://localhost:8080/"
        },
        "id": "nUG1lKsDr9Zd",
        "outputId": "27fdb951-b5d8-4d5d-d026-cd716537c33c"
      },
      "execution_count": null,
      "outputs": [
        {
          "output_type": "stream",
          "name": "stdout",
          "text": [
            "Gurobi Optimizer version 9.5.1 build v9.5.1rc2 (linux64)\n",
            "Thread count: 1 physical cores, 2 logical processors, using up to 2 threads\n",
            "Optimize a model with 155 rows, 78 columns and 310 nonzeros\n",
            "Model fingerprint: 0xa2640c49\n",
            "Coefficient statistics:\n",
            "  Matrix range     [1e+00, 1e+00]\n",
            "  Objective range  [5e-01, 3e+02]\n",
            "  Bounds range     [0e+00, 0e+00]\n",
            "  RHS range        [1e+01, 3e+03]\n",
            "Presolve removed 78 rows and 13 columns\n",
            "Presolve time: 0.01s\n",
            "Presolved: 77 rows, 65 columns, 259 nonzeros\n",
            "\n",
            "Iteration    Objective       Primal Inf.    Dual Inf.      Time\n",
            "       0      handle free variables                          0s\n",
            "      52    3.9505200e+05   0.000000e+00   0.000000e+00      0s\n",
            "\n",
            "Solved in 52 iterations and 0.02 seconds (0.00 work units)\n",
            "Optimal objective  3.950520000e+05\n"
          ]
        }
      ]
    },
    {
      "cell_type": "code",
      "source": [
        "arcsList[0:5]"
      ],
      "metadata": {
        "colab": {
          "base_uri": "https://localhost:8080/"
        },
        "id": "J0-7mA1RsDGt",
        "outputId": "6d925ecb-57fc-4a7f-efbc-b794c1e5cc90"
      },
      "execution_count": null,
      "outputs": [
        {
          "output_type": "execute_result",
          "data": {
            "text/plain": [
              "[('Arkhangelsk plant', 'Vologda city'),\n",
              " ('Arkhangelsk plant', 'Galich city'),\n",
              " ('Arkhangelsk plant', 'Leningrad city'),\n",
              " ('Arkhangelsk plant', 'Perm\\x92 city'),\n",
              " ('Arkhangelsk plant', 'Petrozavodsk city')]"
            ]
          },
          "metadata": {},
          "execution_count": 21
        }
      ]
    },
    {
      "cell_type": "code",
      "source": [
        "mu_a[0:5]"
      ],
      "metadata": {
        "colab": {
          "base_uri": "https://localhost:8080/"
        },
        "id": "1TMnnmFdsXFz",
        "outputId": "d79b7e30-872b-4f98-eaa6-7308742524fc"
      },
      "execution_count": null,
      "outputs": [
        {
          "output_type": "execute_result",
          "data": {
            "text/plain": [
              "[2.0, 0.0, 2.0, 0.0, 1.0]"
            ]
          },
          "metadata": {},
          "execution_count": 22
        }
      ]
    }
  ]
}