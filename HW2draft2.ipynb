{
  "nbformat": 4,
  "nbformat_minor": 0,
  "metadata": {
    "colab": {
      "name": "HW2draft2.ipynb",
      "provenance": [],
      "authorship_tag": "ABX9TyOVcc4j3zUWlpUzLPxzfS6U",
      "include_colab_link": true
    },
    "kernelspec": {
      "name": "python3",
      "display_name": "Python 3"
    },
    "language_info": {
      "name": "python"
    }
  },
  "cells": [
    {
      "cell_type": "markdown",
      "metadata": {
        "id": "view-in-github",
        "colab_type": "text"
      },
      "source": [
        "<a href=\"https://colab.research.google.com/github/Anitayea/Linear_and_Nonlinear_Optimization/blob/main/HW2draft2.ipynb\" target=\"_parent\"><img src=\"https://colab.research.google.com/assets/colab-badge.svg\" alt=\"Open In Colab\"/></a>"
      ]
    },
    {
      "cell_type": "markdown",
      "source": [
        "Q1 \n",
        "\n",
        "Simplex, starting with $x=0$\n",
        "\n",
        "a)\n",
        "\n",
        "\\begin{align}\n",
        "  min \\quad 2x_1 + 3x_2 &-x_3\\\\\n",
        "  s.t. \\quad x_1+x_2 &\\leq 1\\\\\n",
        "  x_3 &\\leq 2\\\\\n",
        "\\end{align}"
      ],
      "metadata": {
        "id": "96yU9OgFcOzD"
      }
    },
    {
      "cell_type": "markdown",
      "source": [
        "Turn the LP into standard form:\n",
        "\n",
        "\\begin{align}\n",
        "  min \\quad z=2x_1 + 3x_2 &-x_3\\\\\n",
        "  -2x_1-3x_2+x_3 &= z \\\\\n",
        "  s.t. \\quad x_1+x_2+s_1 &\\ = 1\\\\\n",
        "  x_3+s_2 &\\ = 2\\\\\n",
        "\\end{align}\n",
        "\n",
        "\n",
        "Turn the LP into standard form:\n",
        "\n",
        "\\begin{align}\n",
        "  min \\quad z=2x_1 + 3x_2 &-x_3\\\\\n",
        "  -2x_1-3x_2+x_3 &= z \\\\\n",
        "  s.t. \\quad x_1+x_2+s_1 &\\ = 1\\\\\n",
        "  x_3+s_2 &\\ = 2\\\\\n",
        "\\end{align}\n",
        "\n",
        "at $x = 0, 2x_1+3x_2-x_3=0$, enter $x_1$\n",
        "\\begin{align}\n",
        "z &= 2(1-x_2-s_1)+3x_2-x_3 \\\\\n",
        "&=2-2x_2-2s_1+3x_2-x_3$ \\\\\n",
        "&= 2+x_2-x_3-2s_1\n",
        "\\end{align}\n",
        "\n",
        "\\begin{array}{ccccccc|c}\n",
        "P &x_1 & x_2 & x_3 & s_1 & s_2 & z & & \\\\\n",
        "\\hline\\\\\n",
        "  &2 &3 &0 &0 &1 &1 &2\\\\\n",
        "1  &1 &1 &0 &1 &0 &0 &1 & 1/0\\\\\n",
        "2 &0 &0 &1 &0 &1 &0 &2 & 2/1\\\\\n",
        "\\hline\\\\\n",
        "0 &-2 &-3 &1 &0 &0 \\\\\n",
        "\\end{array}\n",
        "\n",
        "pick $x_3$,  do $R_3-R_4$:\n",
        "\\begin{array}{ccccccc|c}\n",
        "P &x_1 & x_2 & x_3 & s_1 & s_2 & z & & \\\\\n",
        "\\hline\\\\\n",
        "  &2 &3 &0 &0 &1 &1 &2\\\\\n",
        "1  &1 &1 &0 &1 &0 &0 &1 & 1/0\\\\\n",
        "2 &0 &0 &1 &0 &1 &0 &2 & 2/1\\\\\n",
        "\\hline\\\\\n",
        "-2 &-2 &-3 &0 &0 &-1 \\\\\n",
        "\\end{array}\n",
        "\n",
        "Therefore, we have $min = -2, x_3 = 2$"
      ],
      "metadata": {
        "id": "G0DCENQ3daqO"
      }
    },
    {
      "cell_type": "code",
      "source": [
        "!pip install gurobipy\n",
        "import gurobipy as grb\n",
        "import numpy as np"
      ],
      "metadata": {
        "colab": {
          "base_uri": "https://localhost:8080/"
        },
        "id": "IsgoD0vndz_p",
        "outputId": "65c7b1c0-4b48-46e2-91bf-ebf0e6c13cf5"
      },
      "execution_count": 1,
      "outputs": [
        {
          "output_type": "stream",
          "name": "stdout",
          "text": [
            "Collecting gurobipy\n",
            "  Downloading gurobipy-9.5.1-cp37-cp37m-manylinux2014_x86_64.whl (11.5 MB)\n",
            "\u001b[K     |████████████████████████████████| 11.5 MB 4.5 MB/s \n",
            "\u001b[?25hInstalling collected packages: gurobipy\n",
            "Successfully installed gurobipy-9.5.1\n"
          ]
        }
      ]
    },
    {
      "cell_type": "code",
      "source": [
        "A = np.array([[1,1,0], [0,0,1]])\n",
        "b = np.array([1,2])\n",
        "c = np.array([2,3,-1])\n",
        "m = grb.Model('1a')\n",
        "x = m.addMVar(shape = c.shape)\n",
        "m.setObjective(c@x,grb.GRB.MINIMIZE)\n",
        "constrain = m.addConstr(A@x <= b)\n",
        "m.optimize()\n",
        "print(m.getAttr('x'))"
      ],
      "metadata": {
        "colab": {
          "base_uri": "https://localhost:8080/"
        },
        "id": "4u3CNyUDeLLH",
        "outputId": "bad0def2-956b-4f7c-9736-c2441de4c9a2"
      },
      "execution_count": 2,
      "outputs": [
        {
          "output_type": "stream",
          "name": "stdout",
          "text": [
            "Restricted license - for non-production use only - expires 2023-10-25\n",
            "Gurobi Optimizer version 9.5.1 build v9.5.1rc2 (linux64)\n",
            "Thread count: 1 physical cores, 2 logical processors, using up to 2 threads\n",
            "Optimize a model with 2 rows, 3 columns and 3 nonzeros\n",
            "Model fingerprint: 0xfac12730\n",
            "Coefficient statistics:\n",
            "  Matrix range     [1e+00, 1e+00]\n",
            "  Objective range  [1e+00, 3e+00]\n",
            "  Bounds range     [0e+00, 0e+00]\n",
            "  RHS range        [1e+00, 2e+00]\n",
            "Presolve removed 2 rows and 3 columns\n",
            "Presolve time: 0.01s\n",
            "Presolve: All rows and columns removed\n",
            "Iteration    Objective       Primal Inf.    Dual Inf.      Time\n",
            "       0   -2.0000000e+00   0.000000e+00   0.000000e+00      0s\n",
            "\n",
            "Solved in 0 iterations and 0.02 seconds (0.00 work units)\n",
            "Optimal objective -2.000000000e+00\n",
            "[0.0, 0.0, 2.0]\n"
          ]
        }
      ]
    },
    {
      "cell_type": "markdown",
      "source": [
        "\n",
        "b)\n",
        "\n",
        "\\begin{align}\n",
        "  min \\quad x_1 - x_2 &-x_3\\\\\n",
        "  s.t. \\quad x_1-2x_2 &\\leq 0\\\\\n",
        "  x_2+x_3 &\\leq 1\\\\\n",
        "\\end{align}"
      ],
      "metadata": {
        "id": "W3_-V884ewuz"
      }
    },
    {
      "cell_type": "markdown",
      "source": [
        "Turn the LP into standard form:\n",
        "\n",
        "\\begin{align}\n",
        "  min \\quad x_1 - x_2 &-x_3\\\\\n",
        "  s.t. \\quad x_1-2x_2+s_1 &= 0\\\\\n",
        "  x_2+x_3+s_2 &= 1\\\\\n",
        "\\end{align}\n",
        "\n",
        "at $x = 0, x_1-x_2-x_3=0$, enter $x_2$\n",
        "\n",
        "\\begin{array}{cccccc|c}\n",
        "P &x_1 & x_2 & x_3 & s_1 & s_2 \\\\\n",
        "\\hline\\\\\n",
        "  &1 &-1 &-1 &0 &0\\\\\n",
        "0  &1 &-2 &0 &1 &0 &0\\\\\n",
        "1 &0 &1 &1 &0 &1 &1\\\\\n",
        "\\hline\\\\\n",
        "0 &-1 &1 &1 &0 &0 \\\\\n",
        "\\end{array}\n",
        "\n",
        "at $x = 0, 2x_1+3x_2-x_3=0$, enter $x_1$\n",
        "\n",
        "pick $x_3$,  do $R_3-R_4$:\n",
        "\n",
        "\n",
        "\\begin{array}{cccccc|c}\n",
        "P &x_1 & x_2 & x_3 & s_1 & s_2 \\\\\n",
        "\\hline\\\\\n",
        "  &1 &-1 &-1 &0 &0\\\\\n",
        "2  &1 &0 &2 &1 &2 \\\\\n",
        "1 &0 &1 &1 &0 &1 &1\\\\\n",
        "\\hline\\\\\n",
        "0 &-1 &1 &0 &0 &-1 \\\\\n",
        "\\end{array}\n",
        "\n",
        "Therefore, we have $min = -1, x_2 = 1$"
      ],
      "metadata": {
        "id": "YWJJIiA1exz_"
      }
    },
    {
      "cell_type": "code",
      "source": [
        "A = np.array([[1,-2,0], [0,1,1]])\n",
        "b = np.array([0,1])\n",
        "c = np.array([1,-1,-1])\n",
        "m2 = grb.Model('1b')\n",
        "x2 = m2.addMVar(shape = c.shape)\n",
        "m2.setObjective(c@x2,grb.GRB.MINIMIZE)\n",
        "constrain = m2.addConstr(A@x2 <= b)\n",
        "m2.optimize()\n",
        "print(m2.getAttr('x'))"
      ],
      "metadata": {
        "id": "5WHiyLgtjEH0"
      },
      "execution_count": null,
      "outputs": []
    },
    {
      "cell_type": "markdown",
      "source": [
        "Q2\n",
        "\n",
        "two-phase\n",
        "\n",
        "a) \n",
        "\n",
        "\\begin{align}\n",
        "  2x_1 - x_2 +x_3 &= 10\\\\\n",
        "  x_1 - x_2 - 3x_3 &= 6\\\\\n",
        "  x_j &\\geq 0\\\\\n",
        "\\end{align}\n",
        "\n",
        "if and only if the following linear program has min value 0\n",
        "\n",
        "\\begin{align}\n",
        "  min \\quad &z_1 + z_2\\\\\n",
        "  s.t. \\quad &2x_1 -2x_2 +3x_3 +z_1 =10\\\\\n",
        "  &x_1-x_2-3x_3+z_2 = 6\\\\\n",
        "\\end{align}"
      ],
      "metadata": {
        "id": "ktpBtL2ijHc1"
      }
    },
    {
      "cell_type": "markdown",
      "source": [
        "The minimum value of the above linear program is 0, since if we need to minimize $z_1+z_2$, we need them to be as small as possible, where $z_j \\geq 0$, so we simply have $z=0$ and the min value of $z_1+z_2=0$\n",
        "\n",
        "Therefore we have: \n",
        "\n",
        "\\begin{align}\n",
        "  &2x_1 -2x_2 +3x_3 +0 =10\\\\\n",
        "  &x_1-x_2-3x_3+0 = 6\\\\\n",
        "\\end{align}\n",
        "\n",
        "LP must have a feasible solution to have a minimum value, there must be a set of $x = [x_1,x_2,x_3]$ such that \n",
        "\n",
        "\\begin{align}\n",
        "  &2x_1 -2x_2 +3x_3 =10\\\\\n",
        "  &x_1-x_2-3x_3= 6\\\\\n",
        "\\end{align}"
      ],
      "metadata": {
        "id": "0Y5zhSDjnGlK"
      }
    },
    {
      "cell_type": "code",
      "source": [
        "A = np.array([[2,-2,3,1,0], [1,-1,-3,0,1]])\n",
        "b = np.array([10,6])\n",
        "c = np.array([0,0,0,1,1])\n",
        "m3 = grb.Model('2a')\n",
        "x3 = m3.addMVar(shape = c.shape)\n",
        "m3.setObjective(c@x3,grb.GRB.MINIMIZE)\n",
        "constrain = m3.addConstr(A@x3 == b)\n",
        "m3.optimize()\n",
        "print(m3.getAttr('x'))"
      ],
      "metadata": {
        "id": "kyzE8h_On5Ly"
      },
      "execution_count": null,
      "outputs": []
    },
    {
      "cell_type": "markdown",
      "source": [
        "\n",
        "\n",
        "b) Use the simplex method starting from $x=0, z_1 = 10, z_2 = 6$ to determine whether the set(1) is empty or not, and to find a basic feasible solution if it is not empty\n",
        "\n",
        "\n",
        "Start with $x=0, z_1 = 10, z_2 = 6$, where $z_1+z_2 = 16$\n",
        "\n",
        "Phase 1\n",
        "\n",
        "\\begin{array}{cccccccccc|c}\n",
        "&C_b &\\text{Base} &x_1 & x_2 & x_3 & z_1 & z_2 &A_1 &A_2 &R \\\\\n",
        "\\hline\\\\\n",
        "&1 &A_1 &2 &-2 &3 &1 &0 &1 &0 &10 \\\\\n",
        "&1 &A_2 &1 &-1 &-3 &0 &1 &0 &1 &6 \\\\\n",
        " &Z &3 &-3 &0 &1 &1 &0 &0 &0 &16\\\\\n",
        "\\end{array}\n",
        "\n",
        "Enter $x_1, A_1$ exits\n",
        "\n",
        "\n",
        "\\begin{array}{cccccccccc|c}\n",
        "&C_b &\\text{Base} &x_1 & x_2 & x_3 & z_1 & z_2 &A_1 &A_2 &R \\\\\n",
        "\\hline\\\\\n",
        "&0 &X_1 &1 &-1 &3/2 &1/2 &0 &1/2 &0 &5 \\\\\n",
        "&1 &A_2 &0 &0 &-9/2 &-1/2 &1 &-1/2 &1 &1\\\\\n",
        " &Z &3 &-3 &0 &1 &1 &0 &0 &0 &16\\\\\n",
        "\\end{array}\n",
        "\n",
        "Enter $x_5, A_2$ exits\n",
        "\n",
        "\\begin{array}{cccccccccc|c}\n",
        "&C_b &\\text{Base} &x_1 & x_2 & x_3 & z_1 & z_2 &A_1 &A_2 &R \\\\\n",
        "\\hline\\\\\n",
        "&0 &X_1 &1 &-1 &3/2 &1/2 &0 &1/2 &0 &5 \\\\\n",
        "&0 &X_5 &0 &0 &-9/2 &-1/2 &1 &-1/2 &1 &1\\\\\n",
        " &Z &0 &0 &0 &0 &0 &0 &-1 &-1 &0\\\\\n",
        "\\end{array}\n",
        "\n",
        "The first phase ends. \n",
        "\n",
        "Now we eliminate artificial variables to start phase 2\n",
        "\n",
        "Phase 2\n",
        "\n",
        "\n",
        "\\begin{array}{cccccccc|c}\n",
        "&C_b &\\text{Base} &x_1 & x_2 & x_3 & z_1 & z_2 &R \\\\\n",
        "\\hline\\\\\n",
        "&0 &X_1 &1 &-1 &3/2 &1/2 &0 &5 \\\\\n",
        "&0 &X_5 &0 &0 &-9/2 &-1/2 &1 &1\\\\\n",
        "& &Z &0 &0 &-9/2 &-3/2 &0 &1\\\\\n",
        "\\end{array}\n",
        "\n",
        "enter $x_3, x_1$ exits\n",
        "\n",
        "\\begin{array}{ccccccc}\n",
        "&C_b &\\text{Base} &x_1 & x_2 & x_3 & z_1 & z_2 &R \\\\\n",
        "\\hline\\\\\n",
        "&0 &X_3 &2/3 &-2/3 &1 &1/3 &0 &10/3 \\\\\n",
        "&0 &X_5 &3 &-3 &0 &1 &1 &16\\\\\n",
        "&  &Z &3 &-3 &0 &0 &0 &16\\\\\n",
        "\\end{array}\n",
        "\n",
        "Here we see that we have an unbounded solution, where $x_2$ need to enter while no variables can leave. \n",
        "\n",
        "Therefore, set(1) is empty\n"
      ],
      "metadata": {
        "id": "vUalG-Tsoddh"
      }
    },
    {
      "cell_type": "markdown",
      "source": [
        "c) Use the same procedure to determine whether the set of $x$ satisfying\n",
        "\n",
        "\\begin{align}\n",
        "  2x_1 - 2x_2 +3x_3 &= 9\\\\\n",
        "  x_1 - x_2 - 3x_3 &= 0\\\\\n",
        "  x_j &\\geq 0\\\\\n",
        "\\end{align}\n",
        "\n",
        "is empty or not, and to find a basic feasible solution if it is nonempty"
      ],
      "metadata": {
        "id": "nE-h3G4tovIT"
      }
    },
    {
      "cell_type": "markdown",
      "source": [
        "We have: \n",
        "\\begin{align}\n",
        "max \\quad z_1+z_2\\\\\n",
        "  2x_1 - 2x_2 +3x_3 +z_1&= 9\\\\\n",
        "  x_1 - x_2 - 3x_3 +z_2&= 0\\\\\n",
        "  x_j &\\geq 0\\\\\n",
        "\\end{align}\n",
        "\n",
        "Start with $x=0, z_1 = 9, z_2 = 0$, where $z_1+z_2 = 9$\n",
        "\n",
        "\\begin{array}{ccccc|c}\n",
        "x_1 & x_2 & x_3 & z_1 & z_2 &b \\\\\n",
        "\\hline\\\\\n",
        "2 &-2 &3 &1 &0 &9\\\\\n",
        "1 &-1 &-3 &0 &1 &0\\\\\n",
        "\\end{array}\n",
        "\n",
        "$z_1+z_2 = min (9-2x_1+2x_2-3x_3)+(0-x_1+x_2+3x_3)$\n",
        "\n",
        "$x_1$ enters and $z_1$ leaves\n",
        "\n",
        "\\begin{array}{ccccc|c}\n",
        "x_1 & x_2 & x_3 & z_1 & z_2 &b \\\\\n",
        "\\hline\\\\\n",
        "2 &-2 &3 &1 &0 &9\\\\\n",
        "1 &-1 &-3 &0 &1 &0\\\\\n",
        "\\end{array}\n",
        "\n"
      ],
      "metadata": {
        "id": "m9L2XEtQpBqO"
      }
    }
  ]
}