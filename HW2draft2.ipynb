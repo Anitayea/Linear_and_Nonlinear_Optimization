{
  "nbformat": 4,
  "nbformat_minor": 0,
  "metadata": {
    "colab": {
      "name": "HW2draft2.ipynb",
      "provenance": [],
      "authorship_tag": "ABX9TyNpQHxb0SJZI1EI/3dAG1tr",
      "include_colab_link": true
    },
    "kernelspec": {
      "name": "python3",
      "display_name": "Python 3"
    },
    "language_info": {
      "name": "python"
    }
  },
  "cells": [
    {
      "cell_type": "markdown",
      "metadata": {
        "id": "view-in-github",
        "colab_type": "text"
      },
      "source": [
        "<a href=\"https://colab.research.google.com/github/Anitayea/Linear_and_Nonlinear_Optimization/blob/main/HW2draft2.ipynb\" target=\"_parent\"><img src=\"https://colab.research.google.com/assets/colab-badge.svg\" alt=\"Open In Colab\"/></a>"
      ]
    },
    {
      "cell_type": "markdown",
      "source": [
        "Q1 \n",
        "\n",
        "Simplex, starting with $x=0$\n",
        "\n",
        "a)\n",
        "\n",
        "\\begin{align}\n",
        "  min \\quad 2x_1 + 3x_2 &-x_3\\\\\n",
        "  s.t. \\quad x_1+x_2 &\\leq 1\\\\\n",
        "  x_3 &\\leq 2\\\\\n",
        "\\end{align}"
      ],
      "metadata": {
        "id": "96yU9OgFcOzD"
      }
    },
    {
      "cell_type": "markdown",
      "source": [
        "Turn the LP into standard form:\n",
        "\n",
        "\\begin{align}\n",
        "  min \\quad z=2x_1 + 3x_2 &-x_3\\\\\n",
        "  -2x_1-3x_2+x_3 &= z \\\\\n",
        "  s.t. \\quad x_1+x_2+s_1 &\\ = 1\\\\\n",
        "  x_3+s_2 &\\ = 2\\\\\n",
        "\\end{align}\n",
        "\n",
        "\n",
        "Turn the LP into standard form:\n",
        "\n",
        "\\begin{align}\n",
        "  min \\quad z=2x_1 + 3x_2 &-x_3\\\\\n",
        "  -2x_1-3x_2+x_3 &= z \\\\\n",
        "  s.t. \\quad x_1+x_2+s_1 &\\ = 1\\\\\n",
        "  x_3+s_2 &\\ = 2\\\\\n",
        "\\end{align}\n",
        "\n",
        "at $x = 0, 2x_1+3x_2-x_3=0$, enter $x_3$\n",
        "\\begin{align}\n",
        "z &= 2(1-x_2-s_1)+3x_2-x_3 \\\\\n",
        "&=2-2x_2-2s_1+3x_2-x_3$ \\\\\n",
        "&= 2+x_2-x_3-2s_1\n",
        "\\end{align}\n",
        "\n",
        "\\begin{array}{ccccccc|c}\n",
        "P &x_1 & x_2 & x_3 & s_1 & s_2 & z & & \\\\\n",
        "\\hline\\\\\n",
        "  &2 &3 &0 &0 &1 &1 &2\\\\\n",
        "1  &1 &1 &0 &1 &0 &0 &1 & 1/0\\\\\n",
        "2 &0 &0 &1 &0 &1 &0 &2 & 2/1\\\\\n",
        "\\hline\\\\\n",
        "0 &-2 &-3 &1 &0 &0 \\\\\n",
        "\\end{array}\n",
        "\n",
        "$R_3-R_4$:\n",
        "\\begin{array}{ccccccc|c}\n",
        "P &x_1 & x_2 & x_3 & s_1 & s_2 & z & & \\\\\n",
        "\\hline\\\\\n",
        "  &2 &3 &0 &0 &1 &1 &2\\\\\n",
        "1  &1 &1 &0 &1 &0 &0 &1 & 1/0\\\\\n",
        "2 &0 &0 &1 &0 &1 &0 &2 & 2/1\\\\\n",
        "\\hline\\\\\n",
        "-2 &-2 &-3 &0 &0 &-1 \\\\\n",
        "\\end{array}\n",
        "\n",
        "Therefore, we have $min = -2, x_3 = 2$"
      ],
      "metadata": {
        "id": "G0DCENQ3daqO"
      }
    },
    {
      "cell_type": "code",
      "source": [
        "!pip install gurobipy\n",
        "import gurobipy as grb\n",
        "import numpy as np"
      ],
      "metadata": {
        "colab": {
          "base_uri": "https://localhost:8080/"
        },
        "id": "IsgoD0vndz_p",
        "outputId": "3f4380f7-521e-40c1-986b-9f6455a1c758"
      },
      "execution_count": 1,
      "outputs": [
        {
          "output_type": "stream",
          "name": "stdout",
          "text": [
            "Collecting gurobipy\n",
            "  Downloading gurobipy-9.5.1-cp37-cp37m-manylinux2014_x86_64.whl (11.5 MB)\n",
            "\u001b[K     |████████████████████████████████| 11.5 MB 13.6 MB/s \n",
            "\u001b[?25hInstalling collected packages: gurobipy\n",
            "Successfully installed gurobipy-9.5.1\n"
          ]
        }
      ]
    },
    {
      "cell_type": "code",
      "source": [
        "A = np.array([[1,1,0], [0,0,1]])\n",
        "b = np.array([1,2])\n",
        "c = np.array([2,3,-1])\n",
        "m = grb.Model('1a')\n",
        "x = m.addMVar(shape = c.shape)\n",
        "m.setObjective(c@x,grb.GRB.MINIMIZE)\n",
        "constrain = m.addConstr(A@x <= b)\n",
        "m.optimize()\n",
        "print(m.getAttr('x'))"
      ],
      "metadata": {
        "colab": {
          "base_uri": "https://localhost:8080/"
        },
        "id": "4u3CNyUDeLLH",
        "outputId": "bad0def2-956b-4f7c-9736-c2441de4c9a2"
      },
      "execution_count": null,
      "outputs": [
        {
          "output_type": "stream",
          "name": "stdout",
          "text": [
            "Restricted license - for non-production use only - expires 2023-10-25\n",
            "Gurobi Optimizer version 9.5.1 build v9.5.1rc2 (linux64)\n",
            "Thread count: 1 physical cores, 2 logical processors, using up to 2 threads\n",
            "Optimize a model with 2 rows, 3 columns and 3 nonzeros\n",
            "Model fingerprint: 0xfac12730\n",
            "Coefficient statistics:\n",
            "  Matrix range     [1e+00, 1e+00]\n",
            "  Objective range  [1e+00, 3e+00]\n",
            "  Bounds range     [0e+00, 0e+00]\n",
            "  RHS range        [1e+00, 2e+00]\n",
            "Presolve removed 2 rows and 3 columns\n",
            "Presolve time: 0.01s\n",
            "Presolve: All rows and columns removed\n",
            "Iteration    Objective       Primal Inf.    Dual Inf.      Time\n",
            "       0   -2.0000000e+00   0.000000e+00   0.000000e+00      0s\n",
            "\n",
            "Solved in 0 iterations and 0.02 seconds (0.00 work units)\n",
            "Optimal objective -2.000000000e+00\n",
            "[0.0, 0.0, 2.0]\n"
          ]
        }
      ]
    },
    {
      "cell_type": "markdown",
      "source": [
        "\n",
        "b)\n",
        "\n",
        "\\begin{align}\n",
        "  min \\quad x_1 - x_2 &-x_3\\\\\n",
        "  s.t. \\quad x_1-2x_2 &\\leq 0\\\\\n",
        "  x_2+x_3 &\\leq 1\\\\\n",
        "\\end{align}"
      ],
      "metadata": {
        "id": "W3_-V884ewuz"
      }
    },
    {
      "cell_type": "markdown",
      "source": [
        "Turn the LP into standard form:\n",
        "\n",
        "\\begin{align}\n",
        "  min \\quad x_1 - x_2 &-x_3\\\\\n",
        "  s.t. \\quad x_1-2x_2+s_1 &= 0\\\\\n",
        "  x_2+x_3+s_2 &= 1\\\\\n",
        "\\end{align}\n",
        "\n",
        "at $x = 0, x_1-x_2-x_3=0$, enter $x_1$\n",
        "\n",
        "\\begin{array}{cccccc|c}\n",
        "P &x_1 & x_2 & x_3 & s_1 & s_2 \\\\\n",
        "\\hline\\\\\n",
        "  &1 &-1 &-1 &0 &0\\\\\n",
        "0  &1 &-2 &0 &1 &0 &0\\\\\n",
        "1 &0 &1 &1 &0 &1 &1\\\\\n",
        "\\hline\\\\\n",
        "0 &-1 &1 &1 &0 &0 \\\\\n",
        "\\end{array}\n",
        "\n",
        "enter $x_2$,\n",
        "\n",
        "\n",
        "\\begin{array}{cccccc|c}\n",
        "P &x_1 & x_2 & x_3 & s_1 & s_2 \\\\\n",
        "\\hline\\\\\n",
        "  &1 &-1 &-1 &0 &0\\\\\n",
        "2  &1 &0 &2 &1 &2 \\\\\n",
        "1 &0 &1 &1 &0 &1 &1\\\\\n",
        "\\hline\\\\\n",
        "0 &-1 &1 &0 &0 &-1 \\\\\n",
        "\\end{array}\n",
        "\n",
        "Therefore, we have $min = -1, x_2 = 1$"
      ],
      "metadata": {
        "id": "YWJJIiA1exz_"
      }
    },
    {
      "cell_type": "code",
      "source": [
        "A = np.array([[1,-2,0], [0,1,1]])\n",
        "b = np.array([0,1])\n",
        "c = np.array([1,-1,-1])\n",
        "m2 = grb.Model('1b')\n",
        "x2 = m2.addMVar(shape = c.shape)\n",
        "m2.setObjective(c@x2,grb.GRB.MINIMIZE)\n",
        "constrain = m2.addConstr(A@x2 <= b)\n",
        "m2.optimize()\n",
        "print(m2.getAttr('x'))"
      ],
      "metadata": {
        "id": "5WHiyLgtjEH0",
        "colab": {
          "base_uri": "https://localhost:8080/",
          "height": 0
        },
        "outputId": "e4e95dc5-ea86-4856-a5ed-32d034d7d450"
      },
      "execution_count": 17,
      "outputs": [
        {
          "output_type": "stream",
          "name": "stdout",
          "text": [
            "Gurobi Optimizer version 9.5.1 build v9.5.1rc2 (linux64)\n",
            "Thread count: 1 physical cores, 2 logical processors, using up to 2 threads\n",
            "Optimize a model with 2 rows, 3 columns and 4 nonzeros\n",
            "Model fingerprint: 0x29d289e5\n",
            "Coefficient statistics:\n",
            "  Matrix range     [1e+00, 2e+00]\n",
            "  Objective range  [1e+00, 1e+00]\n",
            "  Bounds range     [0e+00, 0e+00]\n",
            "  RHS range        [1e+00, 1e+00]\n",
            "Presolve removed 2 rows and 3 columns\n",
            "Presolve time: 0.01s\n",
            "Presolve: All rows and columns removed\n",
            "Iteration    Objective       Primal Inf.    Dual Inf.      Time\n",
            "       0   -1.0000000e+00   0.000000e+00   0.000000e+00      0s\n",
            "\n",
            "Solved in 0 iterations and 0.02 seconds (0.00 work units)\n",
            "Optimal objective -1.000000000e+00\n",
            "[0.0, 1.0, 0.0]\n"
          ]
        }
      ]
    },
    {
      "cell_type": "markdown",
      "source": [
        "Q2\n",
        "\n",
        "two-phase\n",
        "\n",
        "a) \n",
        "\n",
        "\\begin{align}\n",
        "  2x_1 - x_2 +x_3 &= 10\\\\\n",
        "  x_1 - x_2 - 3x_3 &= 6\\\\\n",
        "  x_j &\\geq 0\\\\\n",
        "\\end{align}\n",
        "\n",
        "if and only if the following linear program has min value 0\n",
        "\n",
        "\\begin{align}\n",
        "  min \\quad &z_1 + z_2\\\\\n",
        "  s.t. \\quad &2x_1 -2x_2 +3x_3 +z_1 =10\\\\\n",
        "  &x_1-x_2-3x_3+z_2 = 6\\\\\n",
        "\\end{align}"
      ],
      "metadata": {
        "id": "ktpBtL2ijHc1"
      }
    },
    {
      "cell_type": "markdown",
      "source": [
        "The minimum value of the above linear program is 0, since if we need to minimize $z_1+z_2$, we need them to be as small as possible, where $z_j \\geq 0$, so we simply have $z=0$ and the min value of $z_1+z_2=0$\n",
        "\n",
        "Therefore we have: \n",
        "\n",
        "\\begin{align}\n",
        "  &2x_1 -2x_2 +3x_3 +0 =10\\\\\n",
        "  &x_1-x_2-3x_3+0 = 6\\\\\n",
        "\\end{align}\n",
        "\n",
        "LP must have a feasible solution to have a minimum value, there must be a set of $x = [x_1,x_2,x_3]$ such that \n",
        "\n",
        "\\begin{align}\n",
        "  &2x_1 -2x_2 +3x_3 =10\\\\\n",
        "  &x_1-x_2-3x_3= 6\\\\\n",
        "\\end{align}"
      ],
      "metadata": {
        "id": "0Y5zhSDjnGlK"
      }
    },
    {
      "cell_type": "code",
      "source": [
        "A = np.array([[2,-2,3,1,0], [1,-1,-3,0,1]])\n",
        "b = np.array([10,6])\n",
        "c = np.array([0,0,0,1,1])\n",
        "m3 = grb.Model('2a')\n",
        "x3 = m3.addMVar(shape = c.shape)\n",
        "m3.setObjective(c@x3,grb.GRB.MINIMIZE)\n",
        "constrain = m3.addConstr(A@x3 == b)\n",
        "m3.optimize()\n",
        "print(m3.getAttr('x'))"
      ],
      "metadata": {
        "id": "kyzE8h_On5Ly",
        "colab": {
          "base_uri": "https://localhost:8080/",
          "height": 0
        },
        "outputId": "bfa23a1d-211b-400a-cee9-c0f90e079cc5"
      },
      "execution_count": 18,
      "outputs": [
        {
          "output_type": "stream",
          "name": "stdout",
          "text": [
            "Gurobi Optimizer version 9.5.1 build v9.5.1rc2 (linux64)\n",
            "Thread count: 1 physical cores, 2 logical processors, using up to 2 threads\n",
            "Optimize a model with 2 rows, 5 columns and 8 nonzeros\n",
            "Model fingerprint: 0x4e189280\n",
            "Coefficient statistics:\n",
            "  Matrix range     [1e+00, 3e+00]\n",
            "  Objective range  [1e+00, 1e+00]\n",
            "  Bounds range     [0e+00, 0e+00]\n",
            "  RHS range        [6e+00, 1e+01]\n",
            "Presolve removed 2 rows and 5 columns\n",
            "Presolve time: 0.03s\n",
            "Presolve: All rows and columns removed\n",
            "Iteration    Objective       Primal Inf.    Dual Inf.      Time\n",
            "       0    1.0000000e+00   0.000000e+00   0.000000e+00      0s\n",
            "\n",
            "Solved in 0 iterations and 0.03 seconds (0.00 work units)\n",
            "Optimal objective  1.000000000e+00\n",
            "[5.0, 0.0, 0.0, 0.0, 1.0]\n"
          ]
        }
      ]
    },
    {
      "cell_type": "markdown",
      "source": [
        "\n",
        "\n",
        "b) Use the simplex method starting from $x=0, z_1 = 10, z_2 = 6$ to determine whether the set(1) is empty or not, and to find a basic feasible solution if it is not empty"
      ],
      "metadata": {
        "id": "l86aa0v1nd-s"
      }
    },
    {
      "cell_type": "markdown",
      "source": [
        "\n",
        "Start with $x=0, z_1 = 10, z_2 = 6$, where $z_1+z_2 = 16$\n",
        "\n",
        "\\begin{array}{ccccc|c}\n",
        "x_1 & x_2 & x_3 & z_1 & z_2 &b \\\\\n",
        "\\hline\\\\\n",
        "2 &-2 &3 &1 &0 &10\\\\\n",
        "1 &-1 &-3 &0 &1 &6\\\\\n",
        "\\end{array}\n",
        "\n",
        "rewrite objective function:\n",
        "$min \\quad z_1+z_2 = min \\quad (16-3x_1+3x_2)$\n",
        "\n",
        "enter $x_1, z_1$ leaves:\n",
        "\n",
        "\\begin{array}{ccccc|c}\n",
        "x_1 & x_2 & x_3 & z_1 & z_2 &b \\\\\n",
        "\\hline\\\\\n",
        "2 &-2 &3 &1 &0 &10\\\\\n",
        "0 &0 &-9/2 &-1/2 &1 &1\\\\\n",
        "\\end{array}\n",
        "\n",
        "rewrite objective function: \n",
        "$min \\quad z_1+z_2 = min \\quad 3/2z_1+9/2x_3+1$\n",
        "\n",
        "We can stop here as we have all coefficients positive, which means that we have found the optimal solution. \n",
        "\n",
        "However, the objective function contradicts $z_1+z_2 = 0$, which means that the solution is not feasible, therefore the set is empty. "
      ],
      "metadata": {
        "id": "g9IvX6HXnh7X"
      }
    },
    {
      "cell_type": "markdown",
      "source": [
        "\n",
        "Start with $x=0, z_1 = 10, z_2 = 6$, where $z_1+z_2 = 16$\n",
        "\n",
        "Phase 1\n",
        "\n",
        "\\begin{array}{cccccccccc|c}\n",
        "&C_b &\\text{Base} &x_1 & x_2 & x_3 & z_1 & z_2 &A_1 &A_2 &R \\\\\n",
        "\\hline\\\\\n",
        "&1 &A_1 &2 &-2 &3 &1 &0 &1 &0 &10 \\\\\n",
        "&1 &A_2 &1 &-1 &-3 &0 &1 &0 &1 &6 \\\\\n",
        " &Z &3 &-3 &0 &1 &1 &0 &0 &0 &16\\\\\n",
        "\\end{array}\n",
        "\n",
        "Enter $x_1, A_1$ exits\n",
        "\n",
        "\n",
        "\\begin{array}{cccccccccc|c}\n",
        "&C_b &\\text{Base} &x_1 & x_2 & x_3 & z_1 & z_2 &A_1 &A_2 &R \\\\\n",
        "\\hline\\\\\n",
        "&0 &X_1 &1 &-1 &3/2 &1/2 &0 &1/2 &0 &5 \\\\\n",
        "&1 &A_2 &0 &0 &-9/2 &-1/2 &1 &-1/2 &1 &1\\\\\n",
        " &Z &3 &-3 &0 &1 &1 &0 &0 &0 &16\\\\\n",
        "\\end{array}\n",
        "\n",
        "Enter $x_5, A_2$ exits\n",
        "\n",
        "\\begin{array}{cccccccccc|c}\n",
        "&C_b &\\text{Base} &x_1 & x_2 & x_3 & z_1 & z_2 &A_1 &A_2 &R \\\\\n",
        "\\hline\\\\\n",
        "&0 &X_1 &1 &-1 &3/2 &1/2 &0 &1/2 &0 &5 \\\\\n",
        "&0 &X_5 &0 &0 &-9/2 &-1/2 &1 &-1/2 &1 &1\\\\\n",
        " &Z &0 &0 &0 &0 &0 &0 &-1 &-1 &0\\\\\n",
        "\\end{array}\n",
        "\n",
        "The first phase ends. \n",
        "\n",
        "Now we eliminate artificial variables to start phase 2\n",
        "\n",
        "Phase 2\n",
        "\n",
        "\n",
        "\\begin{array}{cccccccc|c}\n",
        "&C_b &\\text{Base} &x_1 & x_2 & x_3 & z_1 & z_2 &R \\\\\n",
        "\\hline\\\\\n",
        "&0 &X_1 &1 &-1 &3/2 &1/2 &0 &5 \\\\\n",
        "&0 &X_5 &0 &0 &-9/2 &-1/2 &1 &1\\\\\n",
        "& &Z &0 &0 &-9/2 &-3/2 &0 &1\\\\\n",
        "\\end{array}\n",
        "\n",
        "enter $x_3, x_1$ exits\n",
        "\n",
        "\\begin{array}{ccccccc}\n",
        "&C_b &\\text{Base} &x_1 & x_2 & x_3 & z_1 & z_2 &R \\\\\n",
        "\\hline\\\\\n",
        "&0 &X_3 &2/3 &-2/3 &1 &1/3 &0 &10/3 \\\\\n",
        "&0 &X_5 &3 &-3 &0 &1 &1 &16\\\\\n",
        "&  &Z &3 &-3 &0 &0 &0 &16\\\\\n",
        "\\end{array}\n",
        "\n",
        "Here we see that we have an unbounded solution, where $x_2$ need to enter while no variables can leave. \n",
        "\n",
        "Therefore, set(1) is empty\n"
      ],
      "metadata": {
        "id": "vUalG-Tsoddh"
      }
    },
    {
      "cell_type": "markdown",
      "source": [
        "c) Use the same procedure to determine whether the set of $x$ satisfying\n",
        "\n",
        "\\begin{align}\n",
        "  2x_1 - 2x_2 +3x_3 &= 9\\\\\n",
        "  x_1 - x_2 - 3x_3 &= 0\\\\\n",
        "  x_j &\\geq 0\\\\\n",
        "\\end{align}\n",
        "\n",
        "is empty or not, and to find a basic feasible solution if it is nonempty"
      ],
      "metadata": {
        "id": "nE-h3G4tovIT"
      }
    },
    {
      "cell_type": "markdown",
      "source": [
        "We have: \n",
        "\\begin{align}\n",
        "max \\quad z_1+z_2\\\\\n",
        "  2x_1 - 2x_2 +3x_3 +z_1&= 9\\\\\n",
        "  x_1 - x_2 - 3x_3 +z_2&= 0\\\\\n",
        "  x_j &\\geq 0\\\\\n",
        "\\end{align}\n",
        "\n",
        "Start with $x=0, z_1 = 9, z_2 = 0$, where $z_1+z_2 = 9$\n",
        "\n",
        "\\begin{array}{ccccc|c}\n",
        "x_1 & x_2 & x_3 & z_1 & z_2 &b \\\\\n",
        "\\hline\\\\\n",
        "2 &-2 &3 &1 &0 &9\\\\\n",
        "1 &-1 &-3 &0 &1 &0\\\\\n",
        "0 &0 &0 &1 &1 &0\n",
        "\\end{array}\n",
        "\n",
        "\n",
        "rewrite objective:\n",
        "\n",
        "$z_1+z_2 = min (9-2x_1+2x_2-3x_3)+(0-x_1+x_2+3x_3)$\n",
        "\n",
        "$x_1$ enters and $z_1$ leaves\n",
        "\n",
        "\\begin{array}{ccccc|c}\n",
        "x_1 & x_2 & x_3 & z_1 & z_2 &b \\\\\n",
        "\\hline\\\\\n",
        "2 &-2 &3 &1 &0 &9\\\\\n",
        "1 &-1 &-3 &0 &1 &0\\\\\n",
        "-3 &3 &0 &0 &0 &-9\n",
        "\\end{array}\n",
        "\n",
        "enter $x_1$ in $R_2$\n",
        "\n",
        "\\begin{array}{ccccc|c}\n",
        "x_1 & x_2 & x_3 & z_1 & z_2 &b \\\\\n",
        "\\hline\\\\\n",
        "0 &0 &9 &1 &-2 &9\\\\\n",
        "1 &-1 &-3 &0 &1 &0\\\\\n",
        "0 &0 &-9 &0 &3 &-9\n",
        "\\end{array}\n",
        "\n",
        "enter $x_3$\n",
        "\n",
        "\n",
        "\\begin{array}{ccccc|c}\n",
        "x_1 & x_2 & x_3 & z_1 & z_2 &b \\\\\n",
        "\\hline\\\\\n",
        "0 &0 &1 &1/9 &-2/9 &1\\\\\n",
        "1 &-1 &-3 &0 &1 &0\\\\\n",
        "0 &0 &-9 &0 &3 &-9\n",
        "\\end{array}\n",
        "\n",
        "\\begin{align}\n",
        "  min \\quad z_1+z_2 &= -9/2\\\\\n",
        "  &= min -9/2 +3/2z_1+9/2x_3\\\\\n",
        "\\end{align}\n",
        "\n",
        "since $z_2 = -9/2 <0$,\n",
        "this LP is not feasible, so the set is empty.\n"
      ],
      "metadata": {
        "id": "m9L2XEtQpBqO"
      }
    },
    {
      "cell_type": "code",
      "source": [
        "A = np.array([[2,-2,3,1,0], [1,-1,-3,0,1]])\n",
        "b = np.array([9,0])\n",
        "c = np.array([0,0,0,1,1])\n",
        "m5 = grb.Model('2a')\n",
        "x5 = m5.addMVar(shape = c.shape)\n",
        "m5.setObjective(c@x5,grb.GRB.MINIMIZE)\n",
        "constrain = m5.addConstr(A@x5 == b)\n",
        "m5.optimize()\n",
        "print(m5.getAttr('x'))"
      ],
      "metadata": {
        "colab": {
          "base_uri": "https://localhost:8080/"
        },
        "id": "GVfnXIHOaJYh",
        "outputId": "3f55aa1f-c1a1-402a-f3c0-96f1864f82f9"
      },
      "execution_count": 3,
      "outputs": [
        {
          "output_type": "stream",
          "name": "stdout",
          "text": [
            "Gurobi Optimizer version 9.5.1 build v9.5.1rc2 (linux64)\n",
            "Thread count: 1 physical cores, 2 logical processors, using up to 2 threads\n",
            "Optimize a model with 2 rows, 5 columns and 8 nonzeros\n",
            "Model fingerprint: 0x7c637d3d\n",
            "Coefficient statistics:\n",
            "  Matrix range     [1e+00, 3e+00]\n",
            "  Objective range  [1e+00, 1e+00]\n",
            "  Bounds range     [0e+00, 0e+00]\n",
            "  RHS range        [9e+00, 9e+00]\n",
            "Presolve removed 2 rows and 5 columns\n",
            "Presolve time: 0.02s\n",
            "Presolve: All rows and columns removed\n",
            "Iteration    Objective       Primal Inf.    Dual Inf.      Time\n",
            "       0    0.0000000e+00   0.000000e+00   0.000000e+00      0s\n",
            "\n",
            "Solved in 0 iterations and 0.02 seconds (0.00 work units)\n",
            "Optimal objective  0.000000000e+00\n",
            "[3.0, 0.0, 1.0, 0.0, 0.0]\n"
          ]
        }
      ]
    },
    {
      "cell_type": "markdown",
      "source": [
        "Q3\n",
        "\n",
        "\\begin{align}\n",
        "  max \\quad x_1 + x_2 - 3x_3\\\\\n",
        "  s.t. \\quad x_1 + 2x_2 - 3x_3 &= g\\\\\n",
        "  4x_1 + 5x_2 -9x_3 &= 13\\\\\n",
        "\\end{align}\n",
        "\n",
        "\n",
        "optimal value $V = V(g)$, and the optimal $x_* = x_*(g)$ are functions of g\n",
        "\n",
        "Dual:\n",
        "\n",
        "\\begin{align}\n",
        "  min \\quad gy_1 + 13y_2 \\\\\n",
        "  s.t. \\quad y_1 + 4y_2  &\\geq 1\\\\\n",
        "  2y_1 + 5y_2 &\\geq 1\\\\\n",
        "  (-3)y_1 - 9 y_2 &\\geq -3\n",
        "\\end{align}\n"
      ],
      "metadata": {
        "id": "EtRwiR-RwOXh"
      }
    },
    {
      "cell_type": "markdown",
      "source": [
        "a) show strong duality holds for any g -> primal = dual\n",
        "\n",
        "Suppose $ A = [B, D], x^{B*} = B^{-1} b$ is optimal\n",
        "\n",
        "Primal:\n",
        "\n",
        "To maximize $ x_1+x_2-3x_3$, we make$x_1, x_2$ as large as possible and $x_3$ as small as possible, since $x_j \\geq 0, x_3 = 0$ \n",
        "\n",
        "Plug it back to the euqation, we have \n",
        "\n",
        "\\begin{align}\n",
        "  x_1 + 2x_2 &= g\\\\\n",
        "  4x_1 + 5x_2 &= 13\\\\\n",
        "\\end{align}\n",
        "\n",
        "Equation2 - 4*equation1, we have:\n",
        "$-3x_2 = 13-4g$\n",
        "\n",
        "Which means that we can solve for all variables for any g, and therefore $V(g)$:\n",
        "\n",
        "\\begin{align}\n",
        "  x_1 &= (104-20g)/(12)\\\\\n",
        "  x_2 &= (13-4g)/(-3)\\\\\n",
        "  x_3 &= 0\\\\\n",
        "  x &= x_1+x_2-3x_3\\\\\n",
        "  &= 4-g/3\n",
        "\\end{align}\n",
        "\n",
        "$\\therefore \\quad z(x^*) = 13/3-g/3$\n"
      ],
      "metadata": {
        "id": "oXFNV1_2wWN6"
      }
    },
    {
      "cell_type": "markdown",
      "source": [
        "\n",
        "Dual:\n",
        "\n",
        "\\begin{align}\n",
        "  min \\quad gy_1 + 13y_2 \\\\\n",
        "  s.t. \\quad y_1 + 4y_2  &\\geq 1\\\\\n",
        "  2y_1 + 5y_2 &\\geq 1\\\\\n",
        "  (-3)y_1 - 9 y_2 &\\geq -3\n",
        "\\end{align}\n",
        "\n",
        "\n",
        "To minimize $gy_1 +13y_2$, we need $y_1, y_2$ to be as small as possible.\n",
        "\n",
        "The feasible solutions lies in (1,0), (-1/3, 1/3), (-2,1)\n",
        "\n",
        "(1,0): min = g\n",
        "(-1/3,1/3): min = -g/3+13/3\n",
        "(-2,1): min = -2g+13\n",
        "\n",
        "\\begin{align}\n",
        "  (1,0): min &= g \\\\\n",
        "  (-1/3,1/3): min &= -g/3+13/3\\\\\n",
        "(-2,1): min &= -2g+13\n",
        "\\end{align}"
      ],
      "metadata": {
        "id": "_l8jBcVtwfQd"
      }
    },
    {
      "cell_type": "markdown",
      "source": [
        "At $(-1/3,1/3), V_D = V_P = 13/3-g/3$, therefore, strong duality holds for any g"
      ],
      "metadata": {
        "id": "zwOiEwhfwmkC"
      }
    },
    {
      "cell_type": "markdown",
      "source": [
        "b) complementary slackness\n",
        "\n",
        "$ x_i >0 \\implies (A^T y)_i = c_i$\n",
        "\n",
        "\\begin{align}\n",
        "  x_i >0 &\\implies (A^T y)_i = c_i\\\\\n",
        "  x_1^*>0 &\\implies y_1^* +4y_2^*=1\\\\\n",
        "  x_2^*>0 &\\implies 2y_1^* +5y_2^*=1\\\\\n",
        "  x_3^*>0 &\\implies -3y_1^* +-9y_2^*=-3\\\\\n",
        "\\end{align}"
      ],
      "metadata": {
        "id": "Q1P1mAwnwpCl"
      }
    },
    {
      "cell_type": "markdown",
      "source": [
        "c)"
      ],
      "metadata": {
        "id": "WvvTu9QewykW"
      }
    },
    {
      "cell_type": "markdown",
      "source": [
        "Output see below\n",
        "\n",
        "Compare to the calculations in part a), it is obvious that the output is consistent with the conditions. "
      ],
      "metadata": {
        "id": "pGJQzJTYyjax"
      }
    },
    {
      "cell_type": "code",
      "source": [
        "def V(g):\n",
        "  A = np.array([[1,2,-3], [4,5,-9]])\n",
        "  b = np.array([g,13])\n",
        "  c = np.array([1,1,-3])\n",
        "  m4 = grb.Model('3c')\n",
        "  x4 = m4.addMVar(shape = c.shape)\n",
        "  m4.setObjective(c@x4,grb.GRB.MAXIMIZE)\n",
        "  constrain = m4.addConstr(A@x4 == b)\n",
        "  m4.optimize()\n",
        "  print(m4.getAttr('x'))\n",
        "  print(m4.getAttr('pi'))\n",
        "\n",
        "for i in range (10):\n",
        "  print(i)\n",
        "  V(i)"
      ],
      "metadata": {
        "colab": {
          "base_uri": "https://localhost:8080/",
          "height": 0
        },
        "id": "aHQ0ZC_4w0aw",
        "outputId": "3c27f144-11b3-4ad4-c1a2-a4535e246bd4"
      },
      "execution_count": 13,
      "outputs": [
        {
          "output_type": "stream",
          "name": "stdout",
          "text": [
            "0\n",
            "Gurobi Optimizer version 9.5.1 build v9.5.1rc2 (linux64)\n",
            "Thread count: 1 physical cores, 2 logical processors, using up to 2 threads\n",
            "Optimize a model with 2 rows, 3 columns and 6 nonzeros\n",
            "Model fingerprint: 0xd39048c6\n",
            "Coefficient statistics:\n",
            "  Matrix range     [1e+00, 9e+00]\n",
            "  Objective range  [1e+00, 3e+00]\n",
            "  Bounds range     [0e+00, 0e+00]\n",
            "  RHS range        [1e+01, 1e+01]\n",
            "Presolve time: 0.01s\n",
            "Presolved: 2 rows, 3 columns, 6 nonzeros\n",
            "\n",
            "Iteration    Objective       Primal Inf.    Dual Inf.      Time\n",
            "       0    3.0000000e+30   3.625000e+30   3.000000e+00      0s\n",
            "       4   -0.0000000e+00   0.000000e+00   0.000000e+00      0s\n",
            "\n",
            "Solved in 4 iterations and 0.02 seconds (0.00 work units)\n",
            "Optimal objective -0.000000000e+00\n",
            "[13.0, 0.0, 4.333333333333333]\n",
            "[1.0, 0.0]\n",
            "1\n",
            "Gurobi Optimizer version 9.5.1 build v9.5.1rc2 (linux64)\n",
            "Thread count: 1 physical cores, 2 logical processors, using up to 2 threads\n",
            "Optimize a model with 2 rows, 3 columns and 6 nonzeros\n",
            "Model fingerprint: 0xf6203052\n",
            "Coefficient statistics:\n",
            "  Matrix range     [1e+00, 9e+00]\n",
            "  Objective range  [1e+00, 3e+00]\n",
            "  Bounds range     [0e+00, 0e+00]\n",
            "  RHS range        [1e+00, 1e+01]\n",
            "Presolve time: 0.01s\n",
            "Presolved: 2 rows, 3 columns, 6 nonzeros\n",
            "\n",
            "Iteration    Objective       Primal Inf.    Dual Inf.      Time\n",
            "       0    3.0000000e+30   3.625000e+30   3.000000e+00      0s\n",
            "       4    1.0000000e+00   0.000000e+00   0.000000e+00      0s\n",
            "\n",
            "Solved in 4 iterations and 0.02 seconds (0.00 work units)\n",
            "Optimal objective  1.000000000e+00\n",
            "[10.0, 0.0, 3.0]\n",
            "[1.0, 0.0]\n",
            "2\n",
            "Gurobi Optimizer version 9.5.1 build v9.5.1rc2 (linux64)\n",
            "Thread count: 1 physical cores, 2 logical processors, using up to 2 threads\n",
            "Optimize a model with 2 rows, 3 columns and 6 nonzeros\n",
            "Model fingerprint: 0xad072271\n",
            "Coefficient statistics:\n",
            "  Matrix range     [1e+00, 9e+00]\n",
            "  Objective range  [1e+00, 3e+00]\n",
            "  Bounds range     [0e+00, 0e+00]\n",
            "  RHS range        [2e+00, 1e+01]\n",
            "Presolve time: 0.01s\n",
            "Presolved: 2 rows, 3 columns, 6 nonzeros\n",
            "\n",
            "Iteration    Objective       Primal Inf.    Dual Inf.      Time\n",
            "       0    3.0000000e+30   3.625000e+30   3.000000e+00      0s\n",
            "       4    2.0000000e+00   0.000000e+00   0.000000e+00      0s\n",
            "\n",
            "Solved in 4 iterations and 0.02 seconds (0.00 work units)\n",
            "Optimal objective  2.000000000e+00\n",
            "[7.0, 0.0, 1.6666666666666667]\n",
            "[1.0, 0.0]\n",
            "3\n",
            "Gurobi Optimizer version 9.5.1 build v9.5.1rc2 (linux64)\n",
            "Thread count: 1 physical cores, 2 logical processors, using up to 2 threads\n",
            "Optimize a model with 2 rows, 3 columns and 6 nonzeros\n",
            "Model fingerprint: 0x1d8072d7\n",
            "Coefficient statistics:\n",
            "  Matrix range     [1e+00, 9e+00]\n",
            "  Objective range  [1e+00, 3e+00]\n",
            "  Bounds range     [0e+00, 0e+00]\n",
            "  RHS range        [3e+00, 1e+01]\n",
            "Presolve time: 0.01s\n",
            "Presolved: 2 rows, 3 columns, 6 nonzeros\n",
            "\n",
            "Iteration    Objective       Primal Inf.    Dual Inf.      Time\n",
            "       0    3.0000000e+30   3.625000e+30   3.000000e+00      0s\n",
            "       4    3.0000000e+00   0.000000e+00   0.000000e+00      0s\n",
            "\n",
            "Solved in 4 iterations and 0.02 seconds (0.00 work units)\n",
            "Optimal objective  3.000000000e+00\n",
            "[4.0, 0.0, 0.3333333333333333]\n",
            "[1.0, 0.0]\n",
            "4\n",
            "Gurobi Optimizer version 9.5.1 build v9.5.1rc2 (linux64)\n",
            "Thread count: 1 physical cores, 2 logical processors, using up to 2 threads\n",
            "Optimize a model with 2 rows, 3 columns and 6 nonzeros\n",
            "Model fingerprint: 0x7fe5ae2e\n",
            "Coefficient statistics:\n",
            "  Matrix range     [1e+00, 9e+00]\n",
            "  Objective range  [1e+00, 3e+00]\n",
            "  Bounds range     [0e+00, 0e+00]\n",
            "  RHS range        [4e+00, 1e+01]\n",
            "Presolve time: 0.01s\n",
            "Presolved: 2 rows, 3 columns, 6 nonzeros\n",
            "\n",
            "Iteration    Objective       Primal Inf.    Dual Inf.      Time\n",
            "       0    3.0000000e+30   3.625000e+30   3.000000e+00      0s\n",
            "       3    3.0000000e+00   0.000000e+00   0.000000e+00      0s\n",
            "\n",
            "Solved in 3 iterations and 0.02 seconds (0.00 work units)\n",
            "Optimal objective  3.000000000e+00\n",
            "[2.0, 1.0, 0.0]\n",
            "[-0.3333333333333333, 0.3333333333333333]\n",
            "5\n",
            "Gurobi Optimizer version 9.5.1 build v9.5.1rc2 (linux64)\n",
            "Thread count: 1 physical cores, 2 logical processors, using up to 2 threads\n",
            "Optimize a model with 2 rows, 3 columns and 6 nonzeros\n",
            "Model fingerprint: 0x8c058873\n",
            "Coefficient statistics:\n",
            "  Matrix range     [1e+00, 9e+00]\n",
            "  Objective range  [1e+00, 3e+00]\n",
            "  Bounds range     [0e+00, 0e+00]\n",
            "  RHS range        [5e+00, 1e+01]\n",
            "Presolve time: 0.01s\n",
            "Presolved: 2 rows, 3 columns, 6 nonzeros\n",
            "\n",
            "Iteration    Objective       Primal Inf.    Dual Inf.      Time\n",
            "       0    3.0000000e+30   3.625000e+30   3.000000e+00      0s\n",
            "       3    2.6666667e+00   0.000000e+00   0.000000e+00      0s\n",
            "\n",
            "Solved in 3 iterations and 0.02 seconds (0.00 work units)\n",
            "Optimal objective  2.666666667e+00\n",
            "[0.33333333333333304, 2.3333333333333335, 0.0]\n",
            "[-0.3333333333333333, 0.3333333333333333]\n",
            "6\n",
            "Gurobi Optimizer version 9.5.1 build v9.5.1rc2 (linux64)\n",
            "Thread count: 1 physical cores, 2 logical processors, using up to 2 threads\n",
            "Optimize a model with 2 rows, 3 columns and 6 nonzeros\n",
            "Model fingerprint: 0xd42b54f6\n",
            "Coefficient statistics:\n",
            "  Matrix range     [1e+00, 9e+00]\n",
            "  Objective range  [1e+00, 3e+00]\n",
            "  Bounds range     [0e+00, 0e+00]\n",
            "  RHS range        [6e+00, 1e+01]\n",
            "Presolve time: 0.01s\n",
            "Presolved: 2 rows, 3 columns, 6 nonzeros\n",
            "\n",
            "Iteration    Objective       Primal Inf.    Dual Inf.      Time\n",
            "       0    3.0000000e+30   3.625000e+30   3.000000e+00      0s\n",
            "       2    1.0000000e+00   0.000000e+00   0.000000e+00      0s\n",
            "\n",
            "Solved in 2 iterations and 0.02 seconds (0.00 work units)\n",
            "Optimal objective  1.000000000e+00\n",
            "[0.0, 5.0, 1.3333333333333333]\n",
            "[-2.0, 1.0]\n",
            "7\n",
            "Gurobi Optimizer version 9.5.1 build v9.5.1rc2 (linux64)\n",
            "Thread count: 1 physical cores, 2 logical processors, using up to 2 threads\n",
            "Optimize a model with 2 rows, 3 columns and 6 nonzeros\n",
            "Model fingerprint: 0x691a472e\n",
            "Coefficient statistics:\n",
            "  Matrix range     [1e+00, 9e+00]\n",
            "  Objective range  [1e+00, 3e+00]\n",
            "  Bounds range     [0e+00, 0e+00]\n",
            "  RHS range        [7e+00, 1e+01]\n",
            "Presolve time: 0.01s\n",
            "Presolved: 2 rows, 3 columns, 6 nonzeros\n",
            "\n",
            "Iteration    Objective       Primal Inf.    Dual Inf.      Time\n",
            "       0    3.0000000e+30   3.625000e+30   3.000000e+00      0s\n",
            "       2   -1.0000000e+00   0.000000e+00   0.000000e+00      0s\n",
            "\n",
            "Solved in 2 iterations and 0.02 seconds (0.00 work units)\n",
            "Optimal objective -1.000000000e+00\n",
            "[0.0, 8.0, 3.0]\n",
            "[-2.0, 1.0]\n",
            "8\n",
            "Gurobi Optimizer version 9.5.1 build v9.5.1rc2 (linux64)\n",
            "Thread count: 1 physical cores, 2 logical processors, using up to 2 threads\n",
            "Optimize a model with 2 rows, 3 columns and 6 nonzeros\n",
            "Model fingerprint: 0x3690904e\n",
            "Coefficient statistics:\n",
            "  Matrix range     [1e+00, 9e+00]\n",
            "  Objective range  [1e+00, 3e+00]\n",
            "  Bounds range     [0e+00, 0e+00]\n",
            "  RHS range        [8e+00, 1e+01]\n",
            "Presolve time: 0.01s\n",
            "Presolved: 2 rows, 3 columns, 6 nonzeros\n",
            "\n",
            "Iteration    Objective       Primal Inf.    Dual Inf.      Time\n",
            "       0    3.0000000e+30   3.625000e+30   3.000000e+00      0s\n",
            "       2   -3.0000000e+00   0.000000e+00   0.000000e+00      0s\n",
            "\n",
            "Solved in 2 iterations and 0.02 seconds (0.00 work units)\n",
            "Optimal objective -3.000000000e+00\n",
            "[0.0, 11.0, 4.666666666666667]\n",
            "[-2.0, 1.0]\n",
            "9\n",
            "Gurobi Optimizer version 9.5.1 build v9.5.1rc2 (linux64)\n",
            "Thread count: 1 physical cores, 2 logical processors, using up to 2 threads\n",
            "Optimize a model with 2 rows, 3 columns and 6 nonzeros\n",
            "Model fingerprint: 0x24d1248f\n",
            "Coefficient statistics:\n",
            "  Matrix range     [1e+00, 9e+00]\n",
            "  Objective range  [1e+00, 3e+00]\n",
            "  Bounds range     [0e+00, 0e+00]\n",
            "  RHS range        [9e+00, 1e+01]\n",
            "Presolve time: 0.01s\n",
            "Presolved: 2 rows, 3 columns, 6 nonzeros\n",
            "\n",
            "Iteration    Objective       Primal Inf.    Dual Inf.      Time\n",
            "       0    3.0000000e+30   3.625000e+30   3.000000e+00      0s\n",
            "       2   -5.0000000e+00   0.000000e+00   0.000000e+00      0s\n",
            "\n",
            "Solved in 2 iterations and 0.03 seconds (0.00 work units)\n",
            "Optimal objective -5.000000000e+00\n",
            "[0.0, 14.0, 6.333333333333333]\n",
            "[-2.0, 1.0]\n"
          ]
        }
      ]
    },
    {
      "cell_type": "markdown",
      "source": [
        "d)\n",
        "The resulting shape of the best feasible solution is a triangle where the endpoints are at $(-2,1), (-1/3, 1/3), (1,0)$\n",
        "\n",
        "Therefore, we can simply plug in the values of g for $ g\\in [1,9]$, see the output below:"
      ],
      "metadata": {
        "id": "HkZI9zNazUfR"
      }
    },
    {
      "cell_type": "code",
      "source": [
        "def d(x,y,g):\n",
        "  return g*x+13*y\n",
        "\n",
        "for i in range(10):\n",
        "  print(i)\n",
        "  print(d(-2,1,i), str(13-i)+\"/3\", d(1,0,i))\n"
      ],
      "metadata": {
        "colab": {
          "base_uri": "https://localhost:8080/",
          "height": 0
        },
        "id": "BHFMtCY1zvyx",
        "outputId": "5f8a77f4-86c6-4ccd-a89b-d06c8205ee7d"
      },
      "execution_count": 16,
      "outputs": [
        {
          "output_type": "stream",
          "name": "stdout",
          "text": [
            "0\n",
            "13 13/3 0\n",
            "1\n",
            "11 12/3 1\n",
            "2\n",
            "9 11/3 2\n",
            "3\n",
            "7 10/3 3\n",
            "4\n",
            "5 9/3 4\n",
            "5\n",
            "3 8/3 5\n",
            "6\n",
            "1 7/3 6\n",
            "7\n",
            "-1 6/3 7\n",
            "8\n",
            "-3 5/3 8\n",
            "9\n",
            "-5 4/3 9\n"
          ]
        }
      ]
    },
    {
      "cell_type": "markdown",
      "source": [
        "Therefore, when $g=4,6, V'$ changes"
      ],
      "metadata": {
        "id": "hBnSTUeL1d1m"
      }
    },
    {
      "cell_type": "markdown",
      "source": [
        "Q4\n",
        "a)\n",
        "\\begin{align}\n",
        "  V(w) = max \\quad w^T d& \\\\\n",
        "  s.t. \\quad w^T d &\\leq 1\\\\\n",
        "  v_i^Td \\leq 0, i=1,...,m\\\\\n",
        "\\end{align}\n",
        "\n",
        "$V(w) = 1,0$ for any $w$"
      ],
      "metadata": {
        "id": "u8ZIsxNc1lIA"
      }
    },
    {
      "cell_type": "markdown",
      "source": [
        "case 1: $w=0$\n",
        "\n",
        "$V(w) = 0$ since $w^Td = 0$\n",
        "\n",
        "\\\\\n",
        "\n",
        "case 2: $w \\neq 0$\n",
        "\n",
        "if $w \\neq 0, \\exists$ vector $ {dn} \\quad s.t. w^Td_n \\leq 1 \\forall n \\in N$\n",
        "\n",
        "$ \\lim_{n\\to\\infty} w^Td_n = 1$\n",
        "\n",
        "take $d_n = (1-1/n) w$,\n",
        "\n",
        "therefore $1 \\geq max w^Td \\geq 1$\n",
        "\n",
        "$\\therefore V(w)=1$"
      ],
      "metadata": {
        "id": "vpmRgDfP3cs8"
      }
    },
    {
      "cell_type": "markdown",
      "source": [
        "b) dual to 5\n",
        "\n",
        "\\begin{align}\n",
        "  min \\quad y\\\\\n",
        "  y \\in R\\\\\n",
        "  s.t. \\quad wy=w, y &\\geq 0\\\\\n",
        "\\end{align}\n"
      ],
      "metadata": {
        "id": "-L4DKcYTAdt5"
      }
    },
    {
      "cell_type": "markdown",
      "source": [
        "c)\n",
        "\n",
        "$w = \\sum"
      ],
      "metadata": {
        "id": "t1-8nWo0HqjX"
      }
    },
    {
      "cell_type": "markdown",
      "source": [
        "Q5\n",
        "Proof using separating hyperplane theorem:\n",
        "\n",
        "primal LP:\n",
        "\n",
        "\n",
        "\\begin{align}\n",
        "  V_P \\quad 2x_1 + 3x_2 &-x_3\\\\\n",
        "  s.t. \\quad x_1+x_2 &\\leq 1\\\\\n",
        "  x_3 &\\leq 2\\\\\n",
        "\\end{align}"
      ],
      "metadata": {
        "id": "anexk6NIBCu5"
      }
    },
    {
      "cell_type": "markdown",
      "source": [
        "a)\n",
        "show that C is convex and that C is a cone\n",
        "\n",
        "To prove C is convex, we have $ x \\in X$ and $y \\in X$ \n",
        "\n",
        "then $\\forall \\lambda \\in (0,1)$ we have that $\\lambda x +(1-\\lambda)y \\in X$\n",
        "\n",
        "We want to show if $(r_1, w_1) \\in C$ and $(r_2, w_2 ) \\in C$ then \n",
        "\n",
        "$(\\lambda r_1+(1-\\lambda)r_2, \\lambda w_1 +(1-\\lambda)w_2) \\in C \\quad \\forall \\lambda \\in (0,1)$\n",
        "\n",
        "\\\\\n",
        "$r_1 = t_1  V_p - c^T x_1$\n",
        " \n",
        "$w_1 = t_1 b - Ax_1$\n",
        "\n",
        "$r_2 = t_2  V_p - c^T x_2$\n",
        " \n",
        "$w_2 = t_2 b - Ax_2$\n",
        "\n",
        "\n",
        "\n",
        "\n",
        "\\\\\n",
        "\\begin{align} \\lambda r_1 +(1-\\lambda)r_2 &= \\lambda(t_1  V_p - c^T x_1) + (1-\\lambda)(t_2  V_p - c^T x_2)\\\\\n",
        "&=(\\lambda t_1 + (1-\\lambda) t_2)V_p - c^T(\\lambda x_1+(1-\\lambda)x_2\\\\\n",
        "&= t_3 V_p - c^Tx_3 \\quad \\text{Where } t_3 = \\lambda t_1 +(1-\\lambda)t_2 \\in R_+ \\text{and } x_3 = \\lambda x_1 +(1-\\lambda)x_2 \\in R_+^n \n",
        "\\end{align} \n",
        "\n",
        "$ \\lambda w_1 +(1-\\lambda)w_2$\n",
        "\n",
        "\n",
        "if$(r,w) \\in C$ and $\\lambda \\geq 0$ then $(\\lambda r, \\lambda w) \\in C \\implies \\exists x,t $ s.t.\n",
        "\n",
        "$r = t  V_p - c^T x$\n",
        " \n",
        "$w = t b - Ax$\n",
        "\n",
        "claim:\n",
        "\n",
        "$\\lambda = t' V_p - c^Tx'$\n",
        "\n",
        "$w = t'b - Ax'$\n",
        "\n",
        "scale left and right side by lambda\n",
        "\n",
        "$t' = \\lambda t$\n",
        "\n",
        "$x' = \\lambda x$\n",
        "\n",
        "Therefore, it is a cone. "
      ],
      "metadata": {
        "id": "iP7lGu9gBvjV"
      }
    },
    {
      "cell_type": "markdown",
      "source": [
        "b) \n",
        "if $(1,0) \\in C$, then $\\exists x,t$ s.t.\n",
        "\n",
        "$\\because $ it is a cone,\n",
        "\n",
        "$(\\lambda,0) \\in C$\n",
        "\n",
        "$tV_p - c^Tx = 1 = \\lambda$\n",
        "\n",
        "$tb - Ax =0$\n",
        "\n",
        "$Ax = tb$\n",
        "\n",
        "Use contradiction\n",
        "\n",
        "two cases:\n",
        "\n",
        "Case 1:\n",
        "$t=0$, where $ Ax=tb $ just $Ax=0$\n",
        "\n",
        "if we found some $x$ such that $Ax=0$ and $c^Tx = t = -1 = -\\lambda \\quad \\forall \\lambda \\geq 0$ \n",
        "\n",
        "since $t=0, (1,0) \\in C$\n",
        "\n",
        "there is a feasible x, and we can add multiples of x to make it very negative, while this contradicts the finite condition.\n",
        "\n",
        "This means that there exist $x^*$ such that $ c^Tx^* = V_p$ and $Ax^* = b$\n",
        "\n",
        "but now if we have $x'$ such that $c^Tx' = -1$ and $Ax' = 0$ then for any $\\lambda$ we have that $c^T(x^* +\\lambda x') = V_p -\\lambda$ and $A(x^* + \\lambda x') = b$ \n",
        "\n",
        "We can keep adding multiples and decrease the value of objective values, and $V_p -\\lambda$ will be less than the objective function.\n",
        "\n",
        "This contradicts the fact that $V_p$ is optimal.\n"
      ],
      "metadata": {
        "id": "bvCwKztpB202"
      }
    },
    {
      "cell_type": "markdown",
      "source": [
        "Case 2\n",
        "\n",
        "for $t>0$\n",
        "\n",
        "$c^Tx = tV_p -1$ \n",
        "\n",
        "$\\because t>0$, we can devide it by $t$ \n",
        "\n",
        "$A(\\frac{x}{t}) = b$ and $\\frac{x}{t} \\in R^n_+$, so $\\frac{x}{t}$ is feasible\n",
        "\n",
        "$\\because V_p$ is the min and it is finite, we can divide the first equation by t\n",
        "\n",
        "$c^T(\\frac{x}{t}) = V_p - \\frac{1}{t} < V_p$ because $t>0$\n",
        "\n",
        "which contradicts the fact that $V_p$ is optimal\n",
        "\n",
        "\\\\\n",
        "\n",
        "by the SHT, we can state that $\\exists y \\in R^d$ and $\\alpha$ such that $\\forall z$ we have that $z^Ty \\geq s$\n",
        "\n",
        "the hyperplane $z^Ty =s$ seperates the two\n",
        "\n",
        "If we take the point (1,0) and put that in the hyperplane formula we get:\n",
        "\n",
        "$s+y^T0 = s < u $ \n",
        "\n",
        "which means that it is strictly less than when we plug in any point in $C$ as the hyperplane strictly separates the spaces. \n",
        "\n",
        "Take any point in c and plug it in u, we will get a value; looking at the smallest value, it will be larger than 1, therefore, $s1 +y^T0=s<u$ hold strictly\n",
        "\n",
        "*typo here for b, it should be 1 since we are in (1,0)\n"
      ],
      "metadata": {
        "id": "5RECmywtCHYp"
      }
    }
  ]
}