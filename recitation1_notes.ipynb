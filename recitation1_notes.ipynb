{
  "cells": [
    {
      "cell_type": "markdown",
      "metadata": {
        "id": "view-in-github",
        "colab_type": "text"
      },
      "source": [
        "<a href=\"https://colab.research.google.com/github/Anitayea/Linear_and_Nonlinear_Optimization/blob/recitations/recitation1_notes.ipynb\" target=\"_parent\"><img src=\"https://colab.research.google.com/assets/colab-badge.svg\" alt=\"Open In Colab\"/></a>"
      ]
    },
    {
      "cell_type": "markdown",
      "source": [
        "# Recitation 1\n",
        "Much of the recitation was taken shamelessly from Alfred's course below. I have appended my notes of additional topics covered at the end of his notes so some of this may be in a slightly different order than covered in class"
      ],
      "metadata": {
        "id": "W_-dLBbKe395"
      }
    },
    {
      "cell_type": "markdown",
      "metadata": {
        "id": "j9vRHHaFezf-"
      },
      "source": [
        "# <center>Crash course 1: Vectors and matrices in numpy and scipy</center>\n",
        "### <center>Alfred Galichon (NYU & ScPo) and Clément Montes (ScPo)</center>\n",
        "## <center>'math+econ+code' masterclass on optimal transport and economic applications</center>\n",
        "#### <center>With python code examples</center>\n",
        "© 2018-2022 by Alfred Galichon. Past and present support from NSF grant DMS-1716489, ERC grant CoG-866274 are acknowledged, as well as inputs from contributors listed [here](http://www.math-econ-code.org/theteam).\n",
        "\n",
        "**If you reuse material from this masterclass, please cite as:**<br>\n",
        "Alfred Galichon, 'math+econ+code' masterclass on optimal transport and economic applications, January 2022. https://github.com/math-econ-code/mec_optim"
      ]
    },
    {
      "cell_type": "markdown",
      "metadata": {
        "id": "Ym4_1im2ezgB"
      },
      "source": [
        "# Introducing NumPy\n",
        "\n",
        "* Unlike R or Matlab, Python has no built-in matrix algebra interface. Fortunately, the NumPy library provides powerful matrix capabilities, on par with R or Matlab. Here is a quick introduction to vectorization, operations on vectors and matrices, higher-dimensional arrays, Kronecker products and sparse matrices, etc. in NumPy.\n",
        "\n",
        "* This is *not* a tutorial on Python itself. They are plenty good ones available on the web.\n",
        "\n",
        "* First, we load numpy (with its widely used alias):"
      ]
    },
    {
      "cell_type": "code",
      "execution_count": null,
      "metadata": {
        "id": "R_fQaFgyezgC"
      },
      "outputs": [],
      "source": [
        "import numpy as np"
      ]
    },
    {
      "cell_type": "markdown",
      "metadata": {
        "id": "jk-L13QoezgD"
      },
      "source": [
        "In NumPy, an `array` is built from a lists as follows:"
      ]
    },
    {
      "cell_type": "code",
      "execution_count": null,
      "metadata": {
        "colab": {
          "base_uri": "https://localhost:8080/"
        },
        "id": "kWv2T905ezgD",
        "outputId": "aed350b3-ce70-4558-fc02-5c5c022ca78f"
      },
      "outputs": [
        {
          "output_type": "stream",
          "name": "stdout",
          "text": [
            "[1 2 3]\n",
            "[3 2 5]\n"
          ]
        }
      ],
      "source": [
        "u = np.array([1,2,3])\n",
        "print(u)\n",
        "v = np.array([3,2,5])\n",
        "print(v)"
      ]
    },
    {
      "cell_type": "markdown",
      "metadata": {
        "id": "2mvCuWF7ezgE"
      },
      "source": [
        "One can then add arrays as:"
      ]
    },
    {
      "cell_type": "code",
      "execution_count": null,
      "metadata": {
        "colab": {
          "base_uri": "https://localhost:8080/"
        },
        "id": "L8m7TFqSezgF",
        "outputId": "88d9b683-766b-4984-abca-533f69645e18"
      },
      "outputs": [
        {
          "output_type": "stream",
          "name": "stdout",
          "text": [
            "[4 4 8]\n"
          ]
        }
      ],
      "source": [
        "print(np.array([1,2,3])+np.array([3,2,5]))"
      ]
    },
    {
      "cell_type": "markdown",
      "metadata": {
        "id": "p0rOyXlCezgF"
      },
      "source": [
        "Note the difference between the + operator when applied to numpy arrays vs. when applied to lists:"
      ]
    },
    {
      "cell_type": "code",
      "execution_count": null,
      "metadata": {
        "colab": {
          "base_uri": "https://localhost:8080/"
        },
        "id": "zboN0qibezgF",
        "outputId": "360d27d5-27cf-40ff-8adf-a9126d8d76f5"
      },
      "outputs": [
        {
          "output_type": "execute_result",
          "data": {
            "text/plain": [
              "[1, 2, 3, 3, 2, 5]"
            ]
          },
          "metadata": {},
          "execution_count": 4
        }
      ],
      "source": [
        "[1,2,3]+[3,2,5]"
      ]
    },
    {
      "cell_type": "markdown",
      "metadata": {
        "id": "oWrxPNrKezgG"
      },
      "source": [
        "In the latter case, it returns list concatenation."
      ]
    },
    {
      "cell_type": "markdown",
      "metadata": {
        "id": "U8_uDdFvezgG"
      },
      "source": [
        "To input matrices in NumPy, one simply inputs a list of rows, which are themselves represented as lists."
      ]
    },
    {
      "cell_type": "code",
      "execution_count": null,
      "metadata": {
        "colab": {
          "base_uri": "https://localhost:8080/"
        },
        "id": "ep5blZoEezgH",
        "outputId": "d0a34bc8-4850-449a-86dd-86c9368d84dc"
      },
      "outputs": [
        {
          "output_type": "execute_result",
          "data": {
            "text/plain": [
              "array([[11, 12],\n",
              "       [21, 22],\n",
              "       [31, 32]])"
            ]
          },
          "metadata": {},
          "execution_count": 5
        }
      ],
      "source": [
        "A = np.array([[11,12],[21,22],[31,32]])\n",
        "A"
      ]
    },
    {
      "cell_type": "markdown",
      "metadata": {
        "id": "Kw8DKu7DezgH"
      },
      "source": [
        "The `shape` attribute of an array indicated the dimension of that array."
      ]
    },
    {
      "cell_type": "code",
      "execution_count": null,
      "metadata": {
        "colab": {
          "base_uri": "https://localhost:8080/"
        },
        "id": "ZH8_VgyeezgH",
        "outputId": "41e684bf-93de-45d3-e897-bc0bc3a1c669"
      },
      "outputs": [
        {
          "output_type": "execute_result",
          "data": {
            "text/plain": [
              "(3, 2)"
            ]
          },
          "metadata": {},
          "execution_count": 6
        }
      ],
      "source": [
        "A.shape"
      ]
    },
    {
      "cell_type": "markdown",
      "metadata": {
        "id": "KZUSEN1vezgI"
      },
      "source": [
        "## Vectorization and memory order\n",
        "\n",
        "* Matrices in all mathematical softwares are represented in a *vectorized* way as a sequence of numbers in the computers memory. This representation can involve either stacking the lines, or stacking the columns.\n",
        "\n",
        "* Different programming languages can use either of the two stacking conventions:\n",
        "    + Stacking the lines (Row-major order) is used by `C`, and is the default convention for Python (NumPy). A matrix $M$ is represented by varying the last index first, i.e. a $2\\times2$ matrix will be represented as $vec_C\\left(M\\right) = \\left(M_{11}, M_{12}, M_{21}, M_{22}\\right).$ \n",
        "    + Stacking the columns (Column-major order) is used by `Fortran`, `Matlab`, `R`, and most underlying core linear algebra libraries (like BLAS). A 2x2x2 3-dimensional array $A$ will be represented by varying the first index first, then the second, i.e. $vec_C\\left(A\\right) = \\left( A_{111}, A_{112}, A_{121}, A_{122}, A_{211}, A_{212}, A_{221}, A_{222} \\right)$. "
      ]
    },
    {
      "cell_type": "markdown",
      "metadata": {
        "id": "mpGI3-z3ezgI"
      },
      "source": [
        "The command `flatten()` provides the vectorized representation of a matrix."
      ]
    },
    {
      "cell_type": "code",
      "execution_count": null,
      "metadata": {
        "colab": {
          "base_uri": "https://localhost:8080/"
        },
        "id": "7pERcpncezgI",
        "outputId": "06501b29-3468-4889-810c-648381b443ef"
      },
      "outputs": [
        {
          "output_type": "execute_result",
          "data": {
            "text/plain": [
              "array([11, 12, 21, 22, 31, 32])"
            ]
          },
          "metadata": {},
          "execution_count": 7
        }
      ],
      "source": [
        "A.flatten()"
      ]
    },
    {
      "cell_type": "markdown",
      "metadata": {
        "id": "4limiPQKezgJ"
      },
      "source": [
        "Remember, NumPy represents matrices by **varying the last index first**."
      ]
    },
    {
      "cell_type": "markdown",
      "metadata": {
        "id": "UQZz9aFTezgJ"
      },
      "source": [
        "In order to reshape the matrix `a`, one modifies its `shape` attribute. The following reshapes the matrix `a` into a row vector. "
      ]
    },
    {
      "cell_type": "code",
      "execution_count": null,
      "metadata": {
        "colab": {
          "base_uri": "https://localhost:8080/"
        },
        "id": "aLgVUVyhezgJ",
        "outputId": "6661d940-91d1-4825-f3d1-a08293dc02d7"
      },
      "outputs": [
        {
          "output_type": "execute_result",
          "data": {
            "text/plain": [
              "array([[11, 12, 21, 22, 31, 32]])"
            ]
          },
          "metadata": {},
          "execution_count": 8
        }
      ],
      "source": [
        "A.shape = 1,6\n",
        "A"
      ]
    },
    {
      "cell_type": "markdown",
      "metadata": {
        "id": "XMoOoq8MezgJ"
      },
      "source": [
        "The previous output evidences the fact that Python uses the row-major order: rows are stacked one after the other. \n",
        "To reshape the vector into a column vector, do:"
      ]
    },
    {
      "cell_type": "code",
      "execution_count": null,
      "metadata": {
        "colab": {
          "base_uri": "https://localhost:8080/"
        },
        "id": "gDBY3ZK9ezgJ",
        "outputId": "2c5b3841-5e86-4f82-8527-f966e13264f6"
      },
      "outputs": [
        {
          "output_type": "execute_result",
          "data": {
            "text/plain": [
              "array([[11],\n",
              "       [12],\n",
              "       [21],\n",
              "       [22],\n",
              "       [31],\n",
              "       [32]])"
            ]
          },
          "metadata": {},
          "execution_count": 9
        }
      ],
      "source": [
        "A.shape = 6,1\n",
        "A"
      ]
    },
    {
      "cell_type": "markdown",
      "metadata": {
        "id": "8bFqeNCPezgK"
      },
      "source": [
        "Equivalently, one could have set `A.shape=6,-1`, where Python would replace `-1` by the integer needed for the formula to make sense (in this case, `1`). \n",
        "Another way to reshape is to use the method `reshape,` which returns a duplicate of the object with the requested shape."
      ]
    },
    {
      "cell_type": "code",
      "execution_count": null,
      "metadata": {
        "colab": {
          "base_uri": "https://localhost:8080/"
        },
        "id": "rrbyeWpqezgK",
        "outputId": "31ff851a-344e-471a-8688-8b49ff391ce6"
      },
      "outputs": [
        {
          "output_type": "stream",
          "name": "stdout",
          "text": [
            "A1=\n",
            " [0 1 2 3 4 5]\n",
            "A2=\n",
            " [[0 1]\n",
            " [2 3]\n",
            " [4 5]]\n"
          ]
        }
      ],
      "source": [
        "A1=np.array(range(6))\n",
        "A2 = A1.reshape(3,2)\n",
        "print(\"A1=\\n\", A1)\n",
        "print(\"A2=\\n\",A2)"
      ]
    },
    {
      "cell_type": "markdown",
      "metadata": {
        "id": "j28IDR3dezgK"
      },
      "source": [
        "Note that `NumPy` also supports the column-major order, but you have to specifically ask for it, by passing the optional argument `order='F'`, where 'F' stands for `Fortran`."
      ]
    },
    {
      "cell_type": "code",
      "execution_count": null,
      "metadata": {
        "colab": {
          "base_uri": "https://localhost:8080/"
        },
        "id": "LxWtdBc8ezgL",
        "outputId": "511d9d5d-7680-4fde-b58c-d47a952a10d1"
      },
      "outputs": [
        {
          "output_type": "execute_result",
          "data": {
            "text/plain": [
              "array([[0, 3],\n",
              "       [1, 4],\n",
              "       [2, 5]])"
            ]
          },
          "metadata": {},
          "execution_count": 11
        }
      ],
      "source": [
        "A3 = np.array(range(6)).reshape(3,2, order='F')\n",
        "A3"
      ]
    },
    {
      "cell_type": "markdown",
      "metadata": {
        "id": "gOn4RKsMezgL"
      },
      "source": [
        "# Multiplication "
      ]
    },
    {
      "cell_type": "markdown",
      "metadata": {
        "id": "p6JiMo4tezgL"
      },
      "source": [
        "### Multiplication of arrays"
      ]
    },
    {
      "cell_type": "markdown",
      "metadata": {
        "id": "KBnb3Mo0ezgL"
      },
      "source": [
        "There are several ways to multiply two arrays using NumPy. The most commonly used is the following."
      ]
    },
    {
      "cell_type": "code",
      "execution_count": null,
      "metadata": {
        "colab": {
          "base_uri": "https://localhost:8080/"
        },
        "id": "DXkB2k8KezgL",
        "outputId": "f0192b93-d223-4327-c205-57aa5df99488"
      },
      "outputs": [
        {
          "output_type": "execute_result",
          "data": {
            "text/plain": [
              "array([[3., 3.],\n",
              "       [3., 3.]])"
            ]
          },
          "metadata": {},
          "execution_count": 12
        }
      ],
      "source": [
        "A = np.ones((2,2))\n",
        "B = 3*np.eye(2)\n",
        "A@B #@ is left associative. If you have A@B@C, it will compute (A@B)@C"
      ]
    },
    {
      "cell_type": "markdown",
      "metadata": {
        "id": "5O_wUKtqezgL"
      },
      "source": [
        "Note that `np.matmul(A,B)` would give the same result as well, but it is more difficult to read `np.matmul(A,np.matmul(B,C))` than `A@B@C`."
      ]
    },
    {
      "cell_type": "markdown",
      "metadata": {
        "id": "Z9opsUv9ezgM"
      },
      "source": [
        "### Multiplication by a scalar"
      ]
    },
    {
      "cell_type": "code",
      "execution_count": null,
      "metadata": {
        "colab": {
          "base_uri": "https://localhost:8080/"
        },
        "id": "7yNzdMYlezgM",
        "outputId": "5252a2d8-a6d3-4288-a893-443249fa7502"
      },
      "outputs": [
        {
          "output_type": "execute_result",
          "data": {
            "text/plain": [
              "array([[4., 0.],\n",
              "       [0., 4.]])"
            ]
          },
          "metadata": {},
          "execution_count": 13
        }
      ],
      "source": [
        "4*np.eye(2)"
      ]
    },
    {
      "cell_type": "markdown",
      "metadata": {
        "id": "VSgg4iLRezgM"
      },
      "source": [
        "The above assignation of B corresponds to the multiplication by a scalar. It is the simplest broadcasting allowed by numpy (which makes this library more powerful than just using lists -it is also much quicker-). More on broadcasting will arrive later in that Notebook."
      ]
    },
    {
      "cell_type": "markdown",
      "metadata": {
        "id": "qHIBvkccezgM"
      },
      "source": [
        "## Kronecker product\n",
        "\n",
        "A very important identity is\n",
        "\\begin{align*}\n",
        "vec_C\\left(AXB\\right) = \\left(  A\\otimes B^\\top\\right)  vec_C\\left(X\\right),\n",
        "\\end{align*}\n",
        "where $vec_C$ is the vectorization under the C (row-major) order, and where the Kronecker product $\\otimes$ is defined as follows for 2x2 matrices (with obvious generalization):\n",
        "\n",
        "\\begin{align*}\n",
        "A\\otimes B=\n",
        "\\begin{pmatrix}\n",
        "a_{11}B & a_{12}B\\\\\n",
        "a_{21}B & a_{22}B\n",
        "\\end{pmatrix}.\n",
        "\\end{align*}\n",
        "\n"
      ]
    },
    {
      "cell_type": "code",
      "execution_count": null,
      "metadata": {
        "colab": {
          "base_uri": "https://localhost:8080/"
        },
        "id": "wzKV_DTIezgM",
        "outputId": "a85cc186-843a-4e14-9521-c075f37c99e0"
      },
      "outputs": [
        {
          "output_type": "stream",
          "name": "stdout",
          "text": [
            "A= [[1. 0.]\n",
            " [0. 1.]]\n",
            "B= [[3. 0.]\n",
            " [0. 3.]]\n",
            "AXB= [[3. 0. 0. 0.]\n",
            " [0. 3. 0. 0.]\n",
            " [0. 0. 3. 0.]\n",
            " [0. 0. 0. 3.]]\n"
          ]
        }
      ],
      "source": [
        "A = np.eye(2)\n",
        "\n",
        "AXB = np.kron(A, B)\n",
        "print(\"A=\",A)\n",
        "print(\"B=\",B)\n",
        "print(\"AXB=\",AXB)"
      ]
    },
    {
      "cell_type": "markdown",
      "metadata": {
        "id": "sw0OiPguezgM"
      },
      "source": [
        "## Type broadcasting in NumPy\n"
      ]
    },
    {
      "cell_type": "markdown",
      "metadata": {
        "id": "ofIGHpuMezgN"
      },
      "source": [
        "The term broadcasting describes how NumPy treats arrays with different shapes during arithmetic operations. \n",
        "\n",
        "Subject to certain constraints, the smaller array is “broadcasted” across the larger array so that they have compatible shapes. Broadcasting provides a means of vectorizing array operations."
      ]
    },
    {
      "cell_type": "code",
      "execution_count": null,
      "metadata": {
        "colab": {
          "base_uri": "https://localhost:8080/"
        },
        "id": "QSDUtMbVezgN",
        "outputId": "2a576bbb-24a0-457e-b258-fa2dc619b3e5"
      },
      "outputs": [
        {
          "output_type": "stream",
          "name": "stdout",
          "text": [
            "A=\n",
            " [[10]\n",
            " [20]\n",
            " [30]]\n",
            "B=\n",
            " [1 2]\n",
            "A+B=\n",
            " [[11 12]\n",
            " [21 22]\n",
            " [31 32]]\n"
          ]
        }
      ],
      "source": [
        "A = 10*np.array([[1],[2],[3]]) #Simplest broadcasting\n",
        "B =  np.array([1,2])\n",
        "print('A=\\n',A)\n",
        "print('B=\\n',B)\n",
        "print('A+B=\\n',A+B)"
      ]
    },
    {
      "cell_type": "markdown",
      "metadata": {
        "id": "L8qik54LezgN"
      },
      "source": [
        "The operation `A[:,np.newaxis]` creates a new dimension."
      ]
    },
    {
      "cell_type": "code",
      "execution_count": null,
      "metadata": {
        "colab": {
          "base_uri": "https://localhost:8080/"
        },
        "id": "M20LidgOezgN",
        "outputId": "732e87f4-beb3-4c20-ec23-0657a983d242"
      },
      "outputs": [
        {
          "output_type": "stream",
          "name": "stdout",
          "text": [
            "[3 4 5]\n",
            "[[3]\n",
            " [4]\n",
            " [5]]\n",
            "[[3 4 5]]\n"
          ]
        }
      ],
      "source": [
        "v = np.array([3,4,5])\n",
        "print(v)\n",
        "print(v[:,np.newaxis])\n",
        "print(v[np.newaxis,:])"
      ]
    },
    {
      "cell_type": "markdown",
      "metadata": {
        "id": "-d6qrdCNezgN"
      },
      "source": [
        "# Arrays of larger dimensions"
      ]
    },
    {
      "cell_type": "code",
      "execution_count": null,
      "metadata": {
        "colab": {
          "base_uri": "https://localhost:8080/"
        },
        "id": "FCPHbqEmezgN",
        "outputId": "d5883c2d-b163-45ed-9785-22b83ce980fb"
      },
      "outputs": [
        {
          "output_type": "execute_result",
          "data": {
            "text/plain": [
              "array([[[1, 2],\n",
              "        [3, 4]],\n",
              "\n",
              "       [[5, 6],\n",
              "        [7, 8]]])"
            ]
          },
          "metadata": {},
          "execution_count": 17
        }
      ],
      "source": [
        "a_3d_array = np.array([[[1, 2], [3, 4]], [[5, 6], [7, 8]]])\n",
        "a_3d_array"
      ]
    },
    {
      "cell_type": "markdown",
      "metadata": {
        "id": "RqGISjTXezgO"
      },
      "source": [
        "Standard functions can also support arrays with more than 2 dimensions."
      ]
    },
    {
      "cell_type": "code",
      "execution_count": null,
      "metadata": {
        "colab": {
          "base_uri": "https://localhost:8080/"
        },
        "id": "wLYMbEAEezgO",
        "outputId": "ae8c4f66-9369-4751-f5aa-0c623c794003"
      },
      "outputs": [
        {
          "output_type": "stream",
          "name": "stdout",
          "text": [
            "[[[[0. 0. 0.]\n",
            "   [0. 0. 0.]\n",
            "   [0. 0. 0.]]\n",
            "\n",
            "  [[0. 0. 0.]\n",
            "   [0. 0. 0.]\n",
            "   [0. 0. 0.]]\n",
            "\n",
            "  [[0. 0. 0.]\n",
            "   [0. 0. 0.]\n",
            "   [0. 0. 0.]]]\n",
            "\n",
            "\n",
            " [[[0. 0. 0.]\n",
            "   [0. 0. 0.]\n",
            "   [0. 0. 0.]]\n",
            "\n",
            "  [[0. 0. 0.]\n",
            "   [0. 0. 0.]\n",
            "   [0. 0. 0.]]\n",
            "\n",
            "  [[0. 0. 0.]\n",
            "   [0. 0. 0.]\n",
            "   [0. 0. 0.]]]] (2, 3, 3, 3)\n"
          ]
        }
      ],
      "source": [
        "a_multiarray = np.zeros((2,3,3,3))\n",
        "print(a_multiarray, a_multiarray.shape)"
      ]
    },
    {
      "cell_type": "markdown",
      "metadata": {
        "id": "79LdbJS9ezgO"
      },
      "source": [
        "# Searching for a maximum"
      ]
    },
    {
      "cell_type": "markdown",
      "metadata": {
        "id": "-tp3QzVnezgO"
      },
      "source": [
        "### Maximum between 2 arrays"
      ]
    },
    {
      "cell_type": "markdown",
      "metadata": {
        "id": "0J3Sc9mOezgO"
      },
      "source": [
        "To compare two arrays (say $x$ and $y$) component by component, it is convenient to use `np.maximum`. It returns an array $z$ such that $ \\forall i: z[i] = \\max(x[i],y[i])$. "
      ]
    },
    {
      "cell_type": "code",
      "execution_count": null,
      "metadata": {
        "colab": {
          "base_uri": "https://localhost:8080/"
        },
        "id": "tFRmZ48FezgO",
        "outputId": "9a9f38ae-1512-47b4-d6a6-098d9944f2a6"
      },
      "outputs": [
        {
          "output_type": "execute_result",
          "data": {
            "text/plain": [
              "array([2, 5, 4])"
            ]
          },
          "metadata": {},
          "execution_count": 19
        }
      ],
      "source": [
        "np.maximum(np.array([2, 3, 4]), np.array([1, 5, 2]))"
      ]
    },
    {
      "cell_type": "markdown",
      "metadata": {
        "id": "mHyUBGq0ezgO"
      },
      "source": [
        "You can even broadcast."
      ]
    },
    {
      "cell_type": "code",
      "execution_count": null,
      "metadata": {
        "colab": {
          "base_uri": "https://localhost:8080/"
        },
        "id": "wbpbxJ59ezgO",
        "outputId": "73436c2a-0a91-4736-bbda-c1366355a021"
      },
      "outputs": [
        {
          "output_type": "execute_result",
          "data": {
            "text/plain": [
              "array([[1. , 2. ],\n",
              "       [0.5, 2. ]])"
            ]
          },
          "metadata": {},
          "execution_count": 20
        }
      ],
      "source": [
        "np.maximum(np.eye(2), [0.5, 2]) # broadcasting"
      ]
    },
    {
      "cell_type": "markdown",
      "metadata": {
        "id": "FVr9sm8fezgP"
      },
      "source": [
        "### Highest component within an array"
      ]
    },
    {
      "cell_type": "markdown",
      "metadata": {
        "id": "XowCWJ68ezgP"
      },
      "source": [
        "`np.max` and `np.argmax` respectively find the maximum entry of a given array along a specified axis, and its index. `np.min` and `np.argmin` perform similar functions."
      ]
    },
    {
      "cell_type": "code",
      "execution_count": null,
      "metadata": {
        "colab": {
          "base_uri": "https://localhost:8080/"
        },
        "id": "FupItb9aezgP",
        "outputId": "1230b894-a1e9-44be-e875-8ae5157e067d"
      },
      "outputs": [
        {
          "output_type": "execute_result",
          "data": {
            "text/plain": [
              "array([[0, 1, 3],\n",
              "       [0, 5, 7]])"
            ]
          },
          "metadata": {},
          "execution_count": 21
        }
      ],
      "source": [
        "A = np.array([[0, 1,3], [0, 5,7]])\n",
        "A"
      ]
    },
    {
      "cell_type": "code",
      "execution_count": null,
      "metadata": {
        "colab": {
          "base_uri": "https://localhost:8080/"
        },
        "id": "mcWKCla4ezgP",
        "outputId": "eca030a7-ca84-4e9a-f444-0cdc9abfde76"
      },
      "outputs": [
        {
          "output_type": "execute_result",
          "data": {
            "text/plain": [
              "array([0, 5, 7])"
            ]
          },
          "metadata": {},
          "execution_count": 22
        }
      ],
      "source": [
        "A.max(axis=0)"
      ]
    },
    {
      "cell_type": "code",
      "execution_count": null,
      "metadata": {
        "colab": {
          "base_uri": "https://localhost:8080/"
        },
        "id": "hu-Khk5pezgQ",
        "outputId": "7865a7c8-2aa6-4d25-87bb-431634369e4a"
      },
      "outputs": [
        {
          "output_type": "execute_result",
          "data": {
            "text/plain": [
              "array([0, 1, 1])"
            ]
          },
          "metadata": {},
          "execution_count": 23
        }
      ],
      "source": [
        "A.argmax(axis=0)"
      ]
    },
    {
      "cell_type": "code",
      "execution_count": null,
      "metadata": {
        "colab": {
          "base_uri": "https://localhost:8080/"
        },
        "id": "BES2M0bfezgQ",
        "outputId": "009e701a-61b2-4ce6-ad1a-aab785f047cc"
      },
      "outputs": [
        {
          "output_type": "execute_result",
          "data": {
            "text/plain": [
              "array([3, 7])"
            ]
          },
          "metadata": {},
          "execution_count": 24
        }
      ],
      "source": [
        "A.max(axis=1)"
      ]
    },
    {
      "cell_type": "code",
      "execution_count": null,
      "metadata": {
        "colab": {
          "base_uri": "https://localhost:8080/"
        },
        "id": "xqIUP0_kezgQ",
        "outputId": "d3f4f606-1402-4ee7-fa85-2801d9a5ae3c"
      },
      "outputs": [
        {
          "output_type": "execute_result",
          "data": {
            "text/plain": [
              "array([0, 1, 3])"
            ]
          },
          "metadata": {},
          "execution_count": 25
        }
      ],
      "source": [
        "A.min(axis=0)"
      ]
    },
    {
      "cell_type": "code",
      "execution_count": null,
      "metadata": {
        "colab": {
          "base_uri": "https://localhost:8080/"
        },
        "id": "wI2Lm6bBezgQ",
        "outputId": "0c88ac6d-c573-4ff2-b7ab-90bf1af7b61d"
      },
      "outputs": [
        {
          "output_type": "execute_result",
          "data": {
            "text/plain": [
              "array([0, 0, 0])"
            ]
          },
          "metadata": {},
          "execution_count": 26
        }
      ],
      "source": [
        "A.argmin(axis=0)"
      ]
    },
    {
      "cell_type": "markdown",
      "metadata": {
        "id": "kfWbi3OKezgQ"
      },
      "source": [
        "If `axis` is not specified, the maximum will be taken over all the entries of the matrix."
      ]
    },
    {
      "cell_type": "code",
      "execution_count": null,
      "metadata": {
        "colab": {
          "base_uri": "https://localhost:8080/"
        },
        "id": "_yJMEzZbezgQ",
        "outputId": "4c4924b5-f962-4892-9c27-e2f81d85cdea"
      },
      "outputs": [
        {
          "output_type": "execute_result",
          "data": {
            "text/plain": [
              "7"
            ]
          },
          "metadata": {},
          "execution_count": 27
        }
      ],
      "source": [
        "np.max(A) "
      ]
    },
    {
      "cell_type": "markdown",
      "metadata": {
        "id": "gJvT2vwPezgQ"
      },
      "source": [
        "Note: if your array contains a nan, you can use `np.nanmax` in order to ignore those values while searching for the highest component."
      ]
    },
    {
      "cell_type": "markdown",
      "metadata": {
        "id": "WISPfxhZezgR"
      },
      "source": [
        "## Summing all elements of an array"
      ]
    },
    {
      "cell_type": "markdown",
      "metadata": {
        "id": "hs7Eso6lezgR"
      },
      "source": [
        "In a similar fashion as above, `np.sum` sums the elements of an array over a given axis."
      ]
    },
    {
      "cell_type": "code",
      "execution_count": null,
      "metadata": {
        "colab": {
          "base_uri": "https://localhost:8080/"
        },
        "id": "qYdCDS3KezgR",
        "outputId": "c886866a-bb8d-4744-a3fb-347228e38cd5"
      },
      "outputs": [
        {
          "output_type": "execute_result",
          "data": {
            "text/plain": [
              "array([ 0,  6, 10])"
            ]
          },
          "metadata": {},
          "execution_count": 28
        }
      ],
      "source": [
        "A.sum( axis=0)"
      ]
    },
    {
      "cell_type": "code",
      "execution_count": null,
      "metadata": {
        "colab": {
          "base_uri": "https://localhost:8080/"
        },
        "id": "z0r3XB0cezgR",
        "outputId": "7fa71041-4e85-48ae-dea8-fc670d717604"
      },
      "outputs": [
        {
          "output_type": "execute_result",
          "data": {
            "text/plain": [
              "array([ 4, 12])"
            ]
          },
          "metadata": {},
          "execution_count": 29
        }
      ],
      "source": [
        "A.sum(axis=1)"
      ]
    },
    {
      "cell_type": "markdown",
      "metadata": {
        "id": "yLgGEhINezgR"
      },
      "source": [
        "If `axis` is not specified, the sum is done over all the entries of the matrix.\n"
      ]
    },
    {
      "cell_type": "code",
      "execution_count": null,
      "metadata": {
        "colab": {
          "base_uri": "https://localhost:8080/"
        },
        "id": "kGezPf8yezgR",
        "outputId": "7bc99cdc-c3e4-49df-b34e-999d643684b4"
      },
      "outputs": [
        {
          "output_type": "execute_result",
          "data": {
            "text/plain": [
              "16"
            ]
          },
          "metadata": {},
          "execution_count": 30
        }
      ],
      "source": [
        "A.sum()"
      ]
    },
    {
      "cell_type": "markdown",
      "metadata": {
        "id": "ZxhI5TQqezgR"
      },
      "source": [
        "# Sparse matrices in Scipy\n",
        "\n",
        "Sparse matrices are available in the `sparse` module of the `scipy` library. "
      ]
    },
    {
      "cell_type": "code",
      "execution_count": null,
      "metadata": {
        "id": "mw0QeiKXezgR"
      },
      "outputs": [],
      "source": [
        "import scipy.sparse as spr"
      ]
    },
    {
      "cell_type": "code",
      "execution_count": null,
      "metadata": {
        "colab": {
          "base_uri": "https://localhost:8080/"
        },
        "id": "2bLT8qupezgR",
        "outputId": "ef7cbc7f-1af8-4a0f-d465-786c4932768d"
      },
      "outputs": [
        {
          "output_type": "stream",
          "name": "stdout",
          "text": [
            "size of sparse identity matrix of size 1000 in MB = 0.00095367431640625\n",
            "size of dense identity matrix of size 1000 in MB  = 7.62939453125\n"
          ]
        }
      ],
      "source": [
        "n = 1000\n",
        "\n",
        "print('size of sparse identity matrix of size '+str(n) +' in MB = ' + str(spr.identity(n).data.size  / (1024**2)))\n",
        "\n",
        "print('size of dense identity matrix of size '+str(n) +' in MB  = ' + str(spr.identity(n).todense().nbytes  / (1024**2)))"
      ]
    },
    {
      "cell_type": "markdown",
      "metadata": {
        "id": "yWkHbNBSezgS"
      },
      "source": [
        "Working with sparse matrices requires less storage. It is explained by the fact that while a dense matrix needs to encode every coefficient on a byte, sparse matrices only store the non-null coefficients. It is really convenient to work with such objects when it comes to matrices with really high sizes."
      ]
    },
    {
      "cell_type": "code",
      "execution_count": null,
      "metadata": {
        "colab": {
          "base_uri": "https://localhost:8080/"
        },
        "id": "VmNstpZxezgS",
        "outputId": "765607a6-a8aa-4ed0-9f03-8280eacff287"
      },
      "outputs": [
        {
          "output_type": "execute_result",
          "data": {
            "text/plain": [
              "(1000, 8000000)"
            ]
          },
          "metadata": {},
          "execution_count": 33
        }
      ],
      "source": [
        "spr.identity(1000).data.size  , spr.identity(1000).todense().nbytes "
      ]
    },
    {
      "cell_type": "markdown",
      "metadata": {
        "id": "NIA7g0j2ezgS"
      },
      "source": [
        "## Creating sparse matrices..."
      ]
    },
    {
      "cell_type": "markdown",
      "metadata": {
        "id": "OIIdSpKSezgS"
      },
      "source": [
        "### ... with standard forms"
      ]
    },
    {
      "cell_type": "code",
      "execution_count": null,
      "metadata": {
        "scrolled": true,
        "colab": {
          "base_uri": "https://localhost:8080/"
        },
        "id": "kpKDig8zezgS",
        "outputId": "cf949703-7609-4802-ccbd-b87b0d7f5cea"
      },
      "outputs": [
        {
          "output_type": "execute_result",
          "data": {
            "text/plain": [
              "<5x5 sparse matrix of type '<class 'numpy.float64'>'\n",
              "\twith 5 stored elements (1 diagonals) in DIAgonal format>"
            ]
          },
          "metadata": {},
          "execution_count": 34
        }
      ],
      "source": [
        "I5 = spr.identity(5)\n",
        "I5"
      ]
    },
    {
      "cell_type": "markdown",
      "metadata": {
        "id": "XdlAHH5HezgS"
      },
      "source": [
        "You can convert your sparse matrix into a dense one in order to visualise it. "
      ]
    },
    {
      "cell_type": "code",
      "execution_count": null,
      "metadata": {
        "colab": {
          "base_uri": "https://localhost:8080/"
        },
        "id": "Mu3r46TkezgS",
        "outputId": "1250c644-30b5-428e-b7e6-2e5241a0f835"
      },
      "outputs": [
        {
          "output_type": "execute_result",
          "data": {
            "text/plain": [
              "matrix([[1., 0., 0., 0., 0.],\n",
              "        [0., 1., 0., 0., 0.],\n",
              "        [0., 0., 1., 0., 0.],\n",
              "        [0., 0., 0., 1., 0.],\n",
              "        [0., 0., 0., 0., 1.]])"
            ]
          },
          "metadata": {},
          "execution_count": 35
        }
      ],
      "source": [
        "I5.todense()"
      ]
    },
    {
      "cell_type": "markdown",
      "metadata": {
        "id": "0iLSXI_LezgS"
      },
      "source": [
        "### ... from a dense matrix"
      ]
    },
    {
      "cell_type": "markdown",
      "metadata": {
        "id": "CuaTsXRJezgT"
      },
      "source": [
        "Let's create a dense matrix and make it sparse."
      ]
    },
    {
      "cell_type": "code",
      "execution_count": null,
      "metadata": {
        "id": "2-O-zWxwezgT"
      },
      "outputs": [],
      "source": [
        "# import uniform module to create random numbers\n",
        "from scipy.stats import uniform"
      ]
    },
    {
      "cell_type": "code",
      "execution_count": null,
      "metadata": {
        "colab": {
          "base_uri": "https://localhost:8080/"
        },
        "id": "4r1I6JJ3ezgT",
        "outputId": "be0ee5d1-4c74-4c42-d139-47518330f8b3"
      },
      "outputs": [
        {
          "output_type": "execute_result",
          "data": {
            "text/plain": [
              "array([[0.74908024, 1.90142861, 1.46398788, 1.19731697],\n",
              "       [0.31203728, 0.31198904, 0.11616722, 1.73235229],\n",
              "       [1.20223002, 1.41614516, 0.04116899, 1.9398197 ],\n",
              "       [1.66488528, 0.42467822, 0.36364993, 0.36680902]])"
            ]
          },
          "metadata": {},
          "execution_count": 37
        }
      ],
      "source": [
        "np.random.seed(seed=42)\n",
        "dense_matrix = uniform.rvs(size=16, loc = 0, scale=2) #List of 16 random draws between 0 and 2\n",
        "dense_matrix = np.reshape(dense_matrix, (4, 4))\n",
        "dense_matrix"
      ]
    },
    {
      "cell_type": "code",
      "execution_count": null,
      "metadata": {
        "colab": {
          "base_uri": "https://localhost:8080/"
        },
        "id": "HP-UWvh9ezgT",
        "outputId": "3aef93f4-c92a-4ad8-ab03-5e70e7a07a12"
      },
      "outputs": [
        {
          "output_type": "execute_result",
          "data": {
            "text/plain": [
              "array([[0.        , 1.90142861, 1.46398788, 1.19731697],\n",
              "       [0.        , 0.        , 0.        , 1.73235229],\n",
              "       [1.20223002, 1.41614516, 0.        , 1.9398197 ],\n",
              "       [1.66488528, 0.        , 0.        , 0.        ]])"
            ]
          },
          "metadata": {},
          "execution_count": 38
        }
      ],
      "source": [
        "dense_matrix[dense_matrix < 1] = 0 #Arbitrar criterion\n",
        "dense_matrix"
      ]
    },
    {
      "cell_type": "code",
      "execution_count": null,
      "metadata": {
        "colab": {
          "base_uri": "https://localhost:8080/"
        },
        "id": "Texq_iNzezgT",
        "outputId": "29924b0f-9aae-4b7f-82fb-bfaf732ff14b"
      },
      "outputs": [
        {
          "output_type": "stream",
          "name": "stdout",
          "text": [
            "  (0, 1)\t1.9014286128198323\n",
            "  (0, 2)\t1.4639878836228102\n",
            "  (0, 3)\t1.1973169683940732\n",
            "  (1, 3)\t1.7323522915498704\n",
            "  (2, 0)\t1.2022300234864176\n",
            "  (2, 1)\t1.416145155592091\n",
            "  (2, 3)\t1.9398197043239886\n",
            "  (3, 0)\t1.6648852816008435\n"
          ]
        }
      ],
      "source": [
        "sparse_matrix = spr.csr_matrix(dense_matrix)\n",
        "print(sparse_matrix) #It prints a tuple giving the row and columns of the non-null component and its value."
      ]
    },
    {
      "cell_type": "markdown",
      "metadata": {
        "id": "RBEnd27TezgT"
      },
      "source": [
        "### ... from scratch"
      ]
    },
    {
      "cell_type": "markdown",
      "metadata": {
        "id": "NG-UL-HNezgT"
      },
      "source": [
        "You can create two arrays containing respectively the rows and the column of the non-null coefficients.\n",
        "A third array would give the value of the non-null coefficient. The result is as follows:"
      ]
    },
    {
      "cell_type": "code",
      "execution_count": null,
      "metadata": {
        "colab": {
          "base_uri": "https://localhost:8080/"
        },
        "id": "ta-TTfhwezgT",
        "outputId": "a1a6486e-f0ec-40c5-a8b4-f4a50c5c692d"
      },
      "outputs": [
        {
          "output_type": "stream",
          "name": "stdout",
          "text": [
            "  (0, 0)\t1.0\n",
            "  (1, 2)\t2.0\n",
            "  (1, 4)\t3.0\n",
            "  (3, 3)\t4.0\n",
            "  (4, 4)\t5.0\n"
          ]
        }
      ],
      "source": [
        "# row indices\n",
        "row_ind = np.array([0, 1, 1, 3, 4])\n",
        "# column indices\n",
        "col_ind = np.array([0, 2, 4, 3, 4])\n",
        "# coefficients\n",
        "data = np.array([1, 2, 3, 4, 5], dtype=float)\n",
        "\n",
        "mat_coo = spr.coo_matrix((data, (row_ind, col_ind)))\n",
        "print(mat_coo)"
      ]
    },
    {
      "cell_type": "markdown",
      "metadata": {
        "id": "t5TcVZ0oezgU"
      },
      "source": [
        "### Every common operation seen below works with sparse matrices."
      ]
    },
    {
      "cell_type": "code",
      "execution_count": null,
      "metadata": {
        "colab": {
          "base_uri": "https://localhost:8080/"
        },
        "id": "9q3YfgBwezgU",
        "outputId": "581d1189-f0e7-4647-c5ee-cc61f3cbfda1"
      },
      "outputs": [
        {
          "output_type": "execute_result",
          "data": {
            "text/plain": [
              "matrix([[2., 1., 1., 1., 1.],\n",
              "        [1., 2., 1., 1., 1.],\n",
              "        [1., 1., 2., 1., 1.],\n",
              "        [1., 1., 1., 2., 1.],\n",
              "        [1., 1., 1., 1., 2.]])"
            ]
          },
          "metadata": {},
          "execution_count": 41
        }
      ],
      "source": [
        "I5 = spr.identity(5)\n",
        "I5 + np.ones((5,5))"
      ]
    },
    {
      "cell_type": "code",
      "execution_count": null,
      "metadata": {
        "colab": {
          "base_uri": "https://localhost:8080/"
        },
        "id": "0r4K0rU-ezgU",
        "outputId": "d19fd70e-f0f2-438b-ae2b-deb1e299fcc6"
      },
      "outputs": [
        {
          "output_type": "execute_result",
          "data": {
            "text/plain": [
              "matrix([[2., 0., 0., 0., 0.],\n",
              "        [0., 3., 0., 0., 0.],\n",
              "        [0., 0., 4., 0., 0.],\n",
              "        [0., 0., 0., 5., 0.],\n",
              "        [0., 0., 0., 0., 6.]])"
            ]
          },
          "metadata": {},
          "execution_count": 42
        }
      ],
      "source": [
        "I5 + np.diag([1.,2.,3.,4.,5.])"
      ]
    },
    {
      "cell_type": "code",
      "execution_count": null,
      "metadata": {
        "colab": {
          "base_uri": "https://localhost:8080/"
        },
        "id": "jbpMJRvuezgU",
        "outputId": "d223517d-cce8-401e-ef39-6fe9c49872ed"
      },
      "outputs": [
        {
          "output_type": "execute_result",
          "data": {
            "text/plain": [
              "array([[1., 0., 0., 0., 0.],\n",
              "       [0., 2., 0., 0., 0.],\n",
              "       [0., 0., 3., 0., 0.],\n",
              "       [0., 0., 0., 4., 0.],\n",
              "       [0., 0., 0., 0., 5.]])"
            ]
          },
          "metadata": {},
          "execution_count": 43
        }
      ],
      "source": [
        "I5 @ np.diag([1.,2.,3.,4.,5.])"
      ]
    },
    {
      "cell_type": "code",
      "execution_count": null,
      "metadata": {
        "id": "9VCZisZXezgU"
      },
      "outputs": [],
      "source": [
        "kron_product = spr.kron(I5 , 10 *np.array([[1,2],[3,4]]))"
      ]
    },
    {
      "cell_type": "code",
      "execution_count": null,
      "metadata": {
        "colab": {
          "base_uri": "https://localhost:8080/"
        },
        "id": "aIT8_tdzezgU",
        "outputId": "46c10edc-30c4-4afc-8967-1ea21b3d97c4"
      },
      "outputs": [
        {
          "output_type": "execute_result",
          "data": {
            "text/plain": [
              "matrix([[10., 20.,  0.,  0.,  0.,  0.,  0.,  0.,  0.,  0.],\n",
              "        [30., 40.,  0.,  0.,  0.,  0.,  0.,  0.,  0.,  0.],\n",
              "        [ 0.,  0., 10., 20.,  0.,  0.,  0.,  0.,  0.,  0.],\n",
              "        [ 0.,  0., 30., 40.,  0.,  0.,  0.,  0.,  0.,  0.],\n",
              "        [ 0.,  0.,  0.,  0., 10., 20.,  0.,  0.,  0.,  0.],\n",
              "        [ 0.,  0.,  0.,  0., 30., 40.,  0.,  0.,  0.,  0.],\n",
              "        [ 0.,  0.,  0.,  0.,  0.,  0., 10., 20.,  0.,  0.],\n",
              "        [ 0.,  0.,  0.,  0.,  0.,  0., 30., 40.,  0.,  0.],\n",
              "        [ 0.,  0.,  0.,  0.,  0.,  0.,  0.,  0., 10., 20.],\n",
              "        [ 0.,  0.,  0.,  0.,  0.,  0.,  0.,  0., 30., 40.]])"
            ]
          },
          "metadata": {},
          "execution_count": 45
        }
      ],
      "source": [
        "kron_product.todense()"
      ]
    },
    {
      "cell_type": "markdown",
      "source": [
        "## This is where my additions to the notes begin"
      ],
      "metadata": {
        "id": "yGOzAfg3fhRG"
      }
    },
    {
      "cell_type": "markdown",
      "source": [
        "## Jupyter notebooks\n",
        "After openning up a new google colab file you can rename the file then begin coding and writing comments in text. In the top left you can create a new code or text block. Remember that code will excute in the order you run it so running code earlier in notebook may not have the same result if you've changed variables later in the notebook and haven't reset the notebook. The numbers next to the blocks tell you the order in which the blocks were executed. It is good practice to make sure that when the notebook is restarted and ran it will give the desired result. Additionally by going to view and executed code history you can look at previous versions of cells if you need to recover something from earlier in the session (this is lost when you close the window and open the file again!). \n",
        "\n",
        "Additionally, the [google colab web](https://colab.research.google.com/) page has good resources about how to use colab and some of its advantages over a standard jupyter notebook. I may mention some of these throughout the course but if you are interested I recommend looking through their resources.\n",
        "\n",
        "Also as demonstrated above you can insert hyperlinks (as well as images)"
      ],
      "metadata": {
        "id": "nBHCbyFIgB0j"
      }
    },
    {
      "cell_type": "markdown",
      "source": [
        "This is where you can put text. When you do homework you can explain your answers in text boxes.\n",
        "\n",
        "You can even use math symbols if you are familiar with latex:\n",
        "\\begin{align}\n",
        "\\frac{df}{dx} &= \\lim_{h \\to 0} \\frac{f(x+h)-f(x)}{h}\\\\ \n",
        "&= f'(x)\n",
        "\\end{align}\n",
        "\n",
        "You can also do inline math if you want: $g(x) = f'(x)$\n",
        "\n",
        "If you aren't familiar with latex I recommend learning enough to write equations in your notebooks as it might come in handy (though I do know if it a requirement). A useful tool is [detexify](https://detexify.kirelabs.org/classify.html) which tells you the text command for a symbol you write\n",
        "\n"
      ],
      "metadata": {
        "id": "-hl96B3OkSg8"
      }
    },
    {
      "cell_type": "code",
      "source": [
        "#remember that when you asign a variable a value it only references any used variables when it records the value, not later when it is called:\n",
        "x = 5\n",
        "y = x*3\n",
        "x = 2\n",
        "print(y)"
      ],
      "metadata": {
        "colab": {
          "base_uri": "https://localhost:8080/"
        },
        "id": "IMqucLD8kil3",
        "outputId": "31f1a6b2-fb7e-4806-bcab-42a44cc1017f"
      },
      "execution_count": null,
      "outputs": [
        {
          "output_type": "stream",
          "name": "stdout",
          "text": [
            "15\n"
          ]
        }
      ]
    },
    {
      "cell_type": "markdown",
      "source": [
        "#functinons\n",
        "functions must be defined before they are used and execute using the input variables as they are currently defined. However, setting a variable equal to the output of a function acts the same way as before"
      ],
      "metadata": {
        "id": "7vP8zm7Ak0ZD"
      }
    },
    {
      "cell_type": "code",
      "source": [
        "def func_example(x):\n",
        "  y = x*3\n",
        "  return y"
      ],
      "metadata": {
        "id": "_Fu_envLk2Fa"
      },
      "execution_count": null,
      "outputs": []
    },
    {
      "cell_type": "code",
      "source": [
        "print(func_example(x))"
      ],
      "metadata": {
        "colab": {
          "base_uri": "https://localhost:8080/"
        },
        "id": "wS1e3ZsSk4Ek",
        "outputId": "1c824d91-896e-4f9c-bfde-d5857beb25e0"
      },
      "execution_count": null,
      "outputs": [
        {
          "output_type": "stream",
          "name": "stdout",
          "text": [
            "6\n"
          ]
        }
      ]
    },
    {
      "cell_type": "code",
      "source": [
        "y = func_example(x)\n",
        "x = 10\n",
        "print(y)"
      ],
      "metadata": {
        "colab": {
          "base_uri": "https://localhost:8080/"
        },
        "id": "9qLmbX0XlHE4",
        "outputId": "61da5411-43ae-4b0b-af77-3f6a84dbccab"
      },
      "execution_count": null,
      "outputs": [
        {
          "output_type": "stream",
          "name": "stdout",
          "text": [
            "6\n"
          ]
        }
      ]
    },
    {
      "cell_type": "markdown",
      "source": [
        "## loops"
      ],
      "metadata": {
        "id": "fpwMYKQvfofI"
      }
    },
    {
      "cell_type": "code",
      "source": [
        "for i in np.arange(10):\n",
        "  print(i)"
      ],
      "metadata": {
        "colab": {
          "base_uri": "https://localhost:8080/"
        },
        "id": "c-N0HUA3fk_3",
        "outputId": "ceaa616d-ef23-42f7-fa8e-e88c09711f9c"
      },
      "execution_count": null,
      "outputs": [
        {
          "output_type": "stream",
          "name": "stdout",
          "text": [
            "0\n",
            "1\n",
            "2\n",
            "3\n",
            "4\n",
            "5\n",
            "6\n",
            "7\n",
            "8\n",
            "9\n"
          ]
        }
      ]
    },
    {
      "cell_type": "code",
      "source": [
        "i = 0\n",
        "while i < 10:\n",
        "  print(i)\n",
        "  i+=1 #this is the same as i=i+1"
      ],
      "metadata": {
        "colab": {
          "base_uri": "https://localhost:8080/"
        },
        "id": "z7AJsVWwfsEQ",
        "outputId": "561edfc0-6b90-4abd-90ae-103cf507ed3c"
      },
      "execution_count": null,
      "outputs": [
        {
          "output_type": "stream",
          "name": "stdout",
          "text": [
            "0\n",
            "1\n",
            "2\n",
            "3\n",
            "4\n",
            "5\n",
            "6\n",
            "7\n",
            "8\n",
            "9\n"
          ]
        }
      ]
    },
    {
      "cell_type": "markdown",
      "source": [
        "A quick note on optimizing loops for speed and for easier reading (see [Transforming Code into Beautiful, idiomatic python](https://youtu.be/OSGv2VnC0go) )"
      ],
      "metadata": {
        "id": "eClBFUp2ftvF"
      }
    },
    {
      "cell_type": "code",
      "source": [
        "import time\n",
        "\n",
        "colors = [\"red\",\"orange\",\"yellow\",\"green\",\"blue\",\"indigo\",\"violet\"]\n",
        "\n",
        "t = time.time()\n",
        "\n",
        "for i in range(len(colors)):\n",
        "  print(colors[i])\n",
        "\n",
        "elapsed = time.time() - t\n",
        "print(elapsed)\n",
        "\n",
        "for color in colors:\n",
        "  print(color)\n",
        "\n",
        "elapsed2 = time.time() - t - elapsed\n",
        "print(elapsed2)\n",
        "print(elapsed/elapsed2)"
      ],
      "metadata": {
        "colab": {
          "base_uri": "https://localhost:8080/"
        },
        "id": "paJLLZoLfwFZ",
        "outputId": "b8fd584f-9348-48ae-97d9-b6aaf6d713a4"
      },
      "execution_count": null,
      "outputs": [
        {
          "output_type": "stream",
          "name": "stdout",
          "text": [
            "red\n",
            "orange\n",
            "yellow\n",
            "green\n",
            "blue\n",
            "indigo\n",
            "violet\n",
            "0.004069805145263672\n",
            "red\n",
            "orange\n",
            "yellow\n",
            "green\n",
            "blue\n",
            "indigo\n",
            "violet\n",
            "0.003556489944458008\n",
            "1.144331970235302\n"
          ]
        }
      ]
    },
    {
      "cell_type": "markdown",
      "source": [
        "If you want some code in your text block\n",
        "\n",
        "```\n",
        "# This is formatted as code\n",
        "```\n",
        "you can do this. This code doesn't run and affect the code run in the notebook and is a good way to show examples of code that you don't want to run for some reason (maybe failed attempts or something you tried but couldn't get to work). This may be easier than including a code block thne overwriting relavent variables.\n",
        "\n",
        "Of course you can also **bold** and *italicise* your text and even make lists:\n",
        "\n",
        "1.   List item\n",
        "2.   List item\n",
        "or bullets:\n",
        "\n",
        "\n",
        "*   List item\n",
        "*   List item\n",
        "\n",
        "and make new sections\n",
        "\n",
        "# New Section"
      ],
      "metadata": {
        "id": "J69fMDNyf0oA"
      }
    },
    {
      "cell_type": "markdown",
      "source": [
        "# Introduction to matplotlib"
      ],
      "metadata": {
        "id": "ErBwG84zf1ri"
      }
    },
    {
      "cell_type": "code",
      "source": [
        "import matplotlib.pyplot as plt\n",
        "plt.rcParams['figure.figsize'] = [10, 10] #resize plots\n",
        "\n",
        "plt.plot([1,2,3,4])\n",
        "plt.ylabel('some numbers')\n",
        "plt.show()"
      ],
      "metadata": {
        "colab": {
          "base_uri": "https://localhost:8080/",
          "height": 592
        },
        "id": "rRsVReIXf1Hy",
        "outputId": "7bbd8ccc-5fa7-494a-aea9-17ee7326acaf"
      },
      "execution_count": null,
      "outputs": [
        {
          "output_type": "display_data",
          "data": {
            "image/png": "[encoded data removed]",
            "text/plain": [
              "<Figure size 720x720 with 1 Axes>"
            ]
          },
          "metadata": {
            "needs_background": "light"
          }
        }
      ]
    },
    {
      "cell_type": "code",
      "source": [
        "x = np.arange(0,2*np.pi,0.1)\n",
        "y = np.sin(x)\n",
        "y2 = np.cos(x)\n",
        "plt.plot(x,y)\n",
        "plt.plot(x,y2)\n",
        "plt.ylabel('function value')\n",
        "plt.title('trig example')\n",
        "plt.xlabel('x')\n",
        "plt.legend(['sine', 'cosine'], prop={'size': 20})\n",
        "plt.show()"
      ],
      "metadata": {
        "colab": {
          "base_uri": "https://localhost:8080/",
          "height": 621
        },
        "id": "bjTNjLL0f8AN",
        "outputId": "4c88784c-f0b1-476c-e7a7-edb9643109b3"
      },
      "execution_count": null,
      "outputs": [
        {
          "output_type": "display_data",
          "data": {
            "image/png": "[encoded data removed]",
            "text/plain": [
              "<Figure size 720x720 with 1 Axes>"
            ]
          },
          "metadata": {
            "needs_background": "light"
          }
        }
      ]
    },
    {
      "cell_type": "markdown",
      "source": [
        "## an example I did not cover in recitation\n",
        "This is an example of a 2d plot using plt\n",
        "It also shows how you can use np to make a grid\n",
        "The details of this example are less important, it is more just a demonstration of other things you can do with python and plt"
      ],
      "metadata": {
        "id": "tkzeQnj8f-jj"
      }
    },
    {
      "cell_type": "code",
      "source": [
        "x = np.arange(0,1,0.1)\n",
        "y = np.arange(1,2,0.1)\n",
        "X,Y = np.meshgrid(x,y)\n",
        "X.shape"
      ],
      "metadata": {
        "colab": {
          "base_uri": "https://localhost:8080/"
        },
        "id": "rLevB9HPg-GY",
        "outputId": "cd84c561-0504-419c-f446-6b41500f9571"
      },
      "execution_count": null,
      "outputs": [
        {
          "output_type": "execute_result",
          "data": {
            "text/plain": [
              "(10, 10)"
            ]
          },
          "metadata": {},
          "execution_count": 55
        }
      ]
    },
    {
      "cell_type": "code",
      "source": [
        "print(x)\n",
        "print(X)"
      ],
      "metadata": {
        "colab": {
          "base_uri": "https://localhost:8080/"
        },
        "id": "RRGDJz_uhTQi",
        "outputId": "6bfe5539-901a-4e56-c6be-852028a95812"
      },
      "execution_count": null,
      "outputs": [
        {
          "output_type": "stream",
          "name": "stdout",
          "text": [
            "[0.  0.1 0.2 0.3 0.4 0.5 0.6 0.7 0.8 0.9]\n",
            "[[0.  0.1 0.2 0.3 0.4 0.5 0.6 0.7 0.8 0.9]\n",
            " [0.  0.1 0.2 0.3 0.4 0.5 0.6 0.7 0.8 0.9]\n",
            " [0.  0.1 0.2 0.3 0.4 0.5 0.6 0.7 0.8 0.9]\n",
            " [0.  0.1 0.2 0.3 0.4 0.5 0.6 0.7 0.8 0.9]\n",
            " [0.  0.1 0.2 0.3 0.4 0.5 0.6 0.7 0.8 0.9]\n",
            " [0.  0.1 0.2 0.3 0.4 0.5 0.6 0.7 0.8 0.9]\n",
            " [0.  0.1 0.2 0.3 0.4 0.5 0.6 0.7 0.8 0.9]\n",
            " [0.  0.1 0.2 0.3 0.4 0.5 0.6 0.7 0.8 0.9]\n",
            " [0.  0.1 0.2 0.3 0.4 0.5 0.6 0.7 0.8 0.9]\n",
            " [0.  0.1 0.2 0.3 0.4 0.5 0.6 0.7 0.8 0.9]]\n"
          ]
        }
      ]
    },
    {
      "cell_type": "code",
      "source": [
        "from matplotlib import cm\n",
        "from mpl_toolkits.mplot3d import Axes3D\n",
        "\n",
        "# Our 2-dimensional distribution will be over variables X and Y\n",
        "N = 40\n",
        "X = np.linspace(-2, 2, N)\n",
        "Y = np.linspace(-2, 2, N)\n",
        "X, Y = np.meshgrid(X, Y)\n",
        "\n",
        "# Mean vector and covariance matrix\n",
        "mu = np.array([0., 0.])\n",
        "Sigma = np.array([[ 1. , -0.5], [-0.5,  1.]])\n",
        "\n",
        "# Pack X and Y into a single 3-dimensional array\n",
        "pos = np.empty(X.shape + (2,))\n",
        "pos[:, :, 0] = X\n",
        "pos[:, :, 1] = Y\n",
        "\n",
        "def multivariate_gaussian(pos, mu, Sigma):\n",
        "    \"\"\"Return the multivariate Gaussian distribution on array pos.\"\"\"\n",
        "    n = mu.shape[0]\n",
        "    Sigma_det = np.linalg.det(Sigma)\n",
        "    Sigma_inv = np.linalg.inv(Sigma)\n",
        "    N = np.sqrt((2*np.pi)**n * Sigma_det)\n",
        "    fac = np.einsum('...k,kl,...l->...', pos-mu, Sigma_inv, pos-mu) #einstein summation\n",
        "    return np.exp(-fac / 2) / N\n",
        "\n",
        "# The distribution on the variables X, Y packed into pos.\n",
        "Z = multivariate_gaussian(pos, mu, Sigma)\n",
        "\n",
        "# plot using subplots\n",
        "fig = plt.figure() #creates figure\n",
        "ax1 = fig.add_subplot(2,1,1,projection='3d') #creates first subplot, 3d allows us to plot a surface graph\n",
        "\n",
        "ax1.plot_surface(X, Y, Z, cmap=cm.viridis)\n",
        "\n",
        "ax2 = fig.add_subplot(2,1,2) #now we plot a contour map of the function\n",
        "ax2.contourf(X, Y, Z, cmap=cm.viridis)\n",
        "\n",
        "plt.show()"
      ],
      "metadata": {
        "colab": {
          "base_uri": "https://localhost:8080/",
          "height": 592
        },
        "id": "eQlqV_fKhWCR",
        "outputId": "f2c9a81d-e545-4f5e-e791-6b8d4b32d9b0"
      },
      "execution_count": null,
      "outputs": [
        {
          "output_type": "display_data",
          "data": {
            "image/png": "[encoded data removed]",
            "text/plain": [
              "<Figure size 720x720 with 2 Axes>"
            ]
          },
          "metadata": {
            "needs_background": "light"
          }
        }
      ]
    },
    {
      "cell_type": "markdown",
      "source": [
        "An advantage to defining the multi-variate gaussian as a function is that now we can plot another graph using the same function and just tweek the variables.\n",
        "We may even want to create a function to plot the function so we don't have to repeat that again"
      ],
      "metadata": {
        "id": "cFtpXtPHik48"
      }
    },
    {
      "cell_type": "code",
      "source": [
        "def plot_gaussian(pos, mu, Sigma):\n",
        "  Z = multivariate_gaussian(pos, mu, Sigma)\n",
        "  \n",
        "  # plot using subplots \n",
        "  fig = plt.figure() #creates figure\n",
        "  \n",
        "  ax1 = fig.add_subplot(2,1,1,projection='3d') #creates first subplot, 3d allows us to plot a surface graph\n",
        "  ax1.plot_surface(X, Y, Z, cmap=cm.viridis)\n",
        "  \n",
        "  ax2 = fig.add_subplot(2,1,2) #now we plot a contour map of the function\n",
        "  ax2.contourf(X, Y, Z, cmap=cm.viridis)\n",
        "  \n",
        "  plt.show() #note that we do not need to return a value and we can have spaces in the function, it is the indentation that marks when the function ends"
      ],
      "metadata": {
        "id": "xzvctMp4izpk"
      },
      "execution_count": null,
      "outputs": []
    },
    {
      "cell_type": "markdown",
      "source": [
        "now let us use this function to make another plot by changing the mean and covariance then runing the function"
      ],
      "metadata": {
        "id": "PRZ7KB_kjIoH"
      }
    },
    {
      "cell_type": "code",
      "source": [
        "# Mean vector and covariance matrix\n",
        "mu = np.array([0.5, -0.5])\n",
        "Sigma = np.array([[ 0.5 , -0.25], [-0.25,  0.5]])\n",
        "\n",
        "#now we can easily run our function and visualize how moving the mean and  changing the covariance has change the gaussian\n",
        "plot_gaussian(pos, mu, Sigma)"
      ],
      "metadata": {
        "colab": {
          "base_uri": "https://localhost:8080/",
          "height": 592
        },
        "id": "2CWW_yEgjIYc",
        "outputId": "c7221ec5-986d-45a2-d592-4b2c2e968831"
      },
      "execution_count": null,
      "outputs": [
        {
          "output_type": "display_data",
          "data": {
            "image/png": "[encoded data removed]",
            "text/plain": [
              "<Figure size 720x720 with 2 Axes>"
            ]
          },
          "metadata": {
            "needs_background": "light"
          }
        }
      ]
    }
  ],
  "metadata": {
    "kernelspec": {
      "display_name": "Python 3 (ipykernel)",
      "language": "python",
      "name": "python3"
    },
    "language_info": {
      "codemirror_mode": {
        "name": "ipython",
        "version": 3
      },
      "file_extension": ".py",
      "mimetype": "text/x-python",
      "name": "python",
      "nbconvert_exporter": "python",
      "pygments_lexer": "ipython3",
      "version": "3.9.1"
    },
    "colab": {
      "name": "recitation1_notes.ipynb",
      "provenance": [],
      "collapsed_sections": [
        "p6JiMo4tezgL",
        "Z9opsUv9ezgM",
        "-tp3QzVnezgO",
        "FVr9sm8fezgP"
      ],
      "include_colab_link": true
    }
  },
  "nbformat": 4,
  "nbformat_minor": 0
}