{
  "nbformat": 4,
  "nbformat_minor": 0,
  "metadata": {
    "colab": {
      "name": "HW3Q2.ipynb",
      "provenance": [],
      "authorship_tag": "ABX9TyMJQMAYAsPwmh7Z9doy+h+8",
      "include_colab_link": true
    },
    "kernelspec": {
      "name": "python3",
      "display_name": "Python 3"
    },
    "language_info": {
      "name": "python"
    }
  },
  "cells": [
    {
      "cell_type": "markdown",
      "metadata": {
        "id": "view-in-github",
        "colab_type": "text"
      },
      "source": [
        "<a href=\"https://colab.research.google.com/github/Anitayea/Linear_and_Nonlinear_Optimization/blob/main/HW3Q2.ipynb\" target=\"_parent\"><img src=\"https://colab.research.google.com/assets/colab-badge.svg\" alt=\"Open In Colab\"/></a>"
      ]
    },
    {
      "cell_type": "code",
      "source": [
        "!pip install gurobipy"
      ],
      "metadata": {
        "colab": {
          "base_uri": "https://localhost:8080/"
        },
        "id": "4BbgFiwgPEIt",
        "outputId": "19599bf6-d1ed-42d4-d599-90e852748ea7"
      },
      "execution_count": null,
      "outputs": [
        {
          "output_type": "stream",
          "name": "stdout",
          "text": [
            "Collecting gurobipy\n",
            "  Downloading gurobipy-9.5.1-cp37-cp37m-manylinux2014_x86_64.whl (11.5 MB)\n",
            "\u001b[K     |████████████████████████████████| 11.5 MB 30.9 MB/s \n",
            "\u001b[?25hInstalling collected packages: gurobipy\n",
            "Successfully installed gurobipy-9.5.1\n"
          ]
        }
      ]
    },
    {
      "cell_type": "code",
      "source": [
        "import numpy as np\n",
        "import gurobipy as grb\n",
        "import scipy.sparse as spr\n",
        "import pandas as pd"
      ],
      "metadata": {
        "id": "54-iVcHsPGKq"
      },
      "execution_count": null,
      "outputs": []
    },
    {
      "cell_type": "markdown",
      "source": [
        "2.\n",
        "\n",
        "\\begin{align}\n",
        "  V_{12} = max_{p_i \\geq 0} \\quad &s\\\\\n",
        "  s.t. \\quad &s \\leq ∑_i pi\\prod_{ij} \\quad \\forall j \\in J\\\\\n",
        "  &∑_{i\\in I} p_i = 1 [t]\\\\\n",
        "\\end{align}"
      ],
      "metadata": {
        "id": "eGK9PzPNJjpw"
      }
    },
    {
      "cell_type": "markdown",
      "source": [
        "(a) let $x_i - p_i/s$\n",
        "\n",
        "\\begin{align}\n",
        "  V_{12} = \\quad &max_{x_i \\geq 0} \\quad s\\\\\n",
        "  s.t. \\quad &∑_{i \\in I} x_i\\prod_{ij} \\geq 1\\\\\n",
        "  &∑_{i\\in I} x_i = 1/s\\\\\n",
        "\\end{align}\n",
        "\n",
        "therefore:\n",
        "\n",
        "\\begin{align}\n",
        "  V_{12} = \\quad &max_{x_i \\geq 0} \\quad 1 / ∑_{i \\in I} x_i\\\\\n",
        "  s.t. \\quad &∑_{i \\in I} x_i\\prod_{ij} \\geq 1\\\\\n",
        "\\end{align}\n",
        "\n",
        "hence:\n",
        "\n",
        "\\begin{align}\n",
        "  1/V_{12} = \\quad &min_{x_i \\geq 0} \\quad ∑_{i \\in I} x_i\\\\\n",
        "  s.t. \\quad &∑_{i \\in I} x_i\\prod_{ij} \\geq 1\\\\\n",
        "\\end{align}\n"
      ],
      "metadata": {
        "id": "YCApYCt4KVvt"
      }
    },
    {
      "cell_type": "markdown",
      "source": [
        "b) compute the dual to(1) and show that it coincides with $min_{q\\in \\vartriangle_J} max_{q\\in \\vartriangle_I} p^T \\prod q$ \n",
        "\n",
        "The dual problem for $V_{12} = V_{21}:$\n",
        "\n",
        "\\begin{align}\n",
        "  1/V_{21} = \\quad &max_{y_j \\geq 0} \\quad ∑_{j \\in J} y_i\\\\\n",
        "  s.t. \\quad &∑_{j \\in J} y_i\\prod_{ij} \\leq 1\\\\\n",
        "\\end{align}\n",
        "\n",
        "We have:\n",
        "\n",
        "\\begin{align}\n",
        "  1/V_{21} = \\quad &max_{y_j \\geq 0} \\quad ∑_{j \\in J} y_i\\\\\n",
        "  s.t. \\quad &∑_{j \\in J} y_i\\prod_{ij} \\leq 1\\\\\n",
        "\\end{align}"
      ],
      "metadata": {
        "id": "eQuUVdwF-CnT"
      }
    },
    {
      "cell_type": "markdown",
      "source": [
        "b) compute the dual to(1) and show that it coincides with $min_{q\\in \\vartriangle_J} max_{q\\in \\vartriangle_I} p^T \\prod q$\n",
        "\n",
        "#Alternative proof see below\n",
        "\n",
        "The dual problem for $V_{12} = V_{21}:$\n",
        "\n",
        "\\begin{align}\n",
        "  1/V_{21} = \\quad &max_{y_j \\geq 0} \\quad ∑_{j \\in J} y_i\\\\\n",
        "  s.t. \\quad &∑_{j \\in J} y_i\\prod_{ij} \\leq 1\\\\\n",
        "\\end{align}\n",
        "\n",
        "since both LPs are feasible, by strong duality, they coincide, which means that $V_{21} = V_{12}$\n",
        "\n",
        "Denote $x^*$ to be the optimal solution to $V_{12}$ and $y^*$ to $V_{21}$, we have:\n",
        "\n",
        "$p_i^* = x_i^*/ ∑_{i \\in I}x_i^*, q_j^* = y_j^*/ ∑_{j \\in J}y_j^*$\n",
        "\n",
        "which gives us\n",
        "\n",
        "$(p^*)^T \\prod q^* = min_{q \\in \\vartriangle_J} (p^*)^T \\prod q = max_{p \\in \\vartriangle_I} p^T \\prod q^*$\n",
        "\n",
        "which means that there exist a optimal solution $(p^*, q^*)$ that is the equilibrium in mixed strategy."
      ],
      "metadata": {
        "id": "DmBueVN1MH-W"
      }
    },
    {
      "cell_type": "markdown",
      "source": [
        "(c) Deduce value of the game, and eq strategies"
      ],
      "metadata": {
        "id": "tM6djam7Oxsv"
      }
    },
    {
      "cell_type": "code",
      "source": [
        "Pi_i_j = np.array([[3, 2, 7, 5], \n",
        "                    [10, 8, 3, 1], \n",
        "                    [2, 9, 4, 6],\n",
        "                   [4, 5, 1, 7]])\n",
        "Pi_i_j\n",
        "\n",
        "matrixgame_model = grb.Model()\n",
        "nbi,nbj = Pi_i_j.shape\n",
        "p_iv = matrixgame_model.addMVar(shape = nbi)\n",
        "sv = matrixgame_model.addMVar(1, lb = - grb.GRB.INFINITY )\n",
        "matrixgame_model.setObjective(sv, grb.GRB.MAXIMIZE)\n",
        "matrixgame_model.addConstr( np.ones( (nbj,1) ) @ sv - Pi_i_j.T @ p_iv   <=0  )\n",
        "matrixgame_model.addConstr( p_iv.sum()==1 )\n",
        "matrixgame_model.optimize() "
      ],
      "metadata": {
        "colab": {
          "base_uri": "https://localhost:8080/"
        },
        "id": "5mnlTqg8tPoK",
        "outputId": "f3fb9a85-a85e-4918-8782-005e0f9bc159"
      },
      "execution_count": null,
      "outputs": [
        {
          "output_type": "stream",
          "name": "stdout",
          "text": [
            "Gurobi Optimizer version 9.5.1 build v9.5.1rc2 (linux64)\n",
            "Thread count: 1 physical cores, 2 logical processors, using up to 2 threads\n",
            "Optimize a model with 5 rows, 5 columns and 24 nonzeros\n",
            "Model fingerprint: 0x64aaa09d\n",
            "Coefficient statistics:\n",
            "  Matrix range     [1e+00, 1e+01]\n",
            "  Objective range  [1e+00, 1e+00]\n",
            "  Bounds range     [0e+00, 0e+00]\n",
            "  RHS range        [1e+00, 1e+00]\n",
            "Presolve removed 1 rows and 0 columns\n",
            "Presolve time: 0.01s\n",
            "Presolved: 4 rows, 5 columns, 19 nonzeros\n",
            "\n",
            "Iteration    Objective       Primal Inf.    Dual Inf.      Time\n",
            "       0    1.0000000e+01   3.125000e+00   0.000000e+00      0s\n",
            "       3    4.6258278e+00   0.000000e+00   0.000000e+00      0s\n",
            "\n",
            "Solved in 3 iterations and 0.02 seconds (0.00 work units)\n",
            "Optimal objective  4.625827815e+00\n"
          ]
        }
      ]
    },
    {
      "cell_type": "code",
      "source": [
        "p_i = np.array(matrixgame_model.getAttr('x'))[:-1]\n",
        "p_i"
      ],
      "metadata": {
        "colab": {
          "base_uri": "https://localhost:8080/"
        },
        "id": "ht7uF8ogt-4Y",
        "outputId": "30efa312-3678-4095-b106-8af749059fcc"
      },
      "execution_count": null,
      "outputs": [
        {
          "output_type": "execute_result",
          "data": {
            "text/plain": [
              "array([0.48013245, 0.21854305, 0.10264901, 0.1986755 ])"
            ]
          },
          "metadata": {},
          "execution_count": 12
        }
      ]
    },
    {
      "cell_type": "code",
      "source": [
        "q_j = np.array(matrixgame_model.getAttr('pi'))[:-1]\n",
        "q_j"
      ],
      "metadata": {
        "colab": {
          "base_uri": "https://localhost:8080/"
        },
        "id": "Jd0YyrcEt2Yj",
        "outputId": "fe4b9c65-f719-4143-adce-c608cfaa7c0b"
      },
      "execution_count": null,
      "outputs": [
        {
          "output_type": "execute_result",
          "data": {
            "text/plain": [
              "array([0.29139073, 0.0794702 , 0.22350993, 0.40562914])"
            ]
          },
          "metadata": {},
          "execution_count": 13
        }
      ]
    },
    {
      "cell_type": "code",
      "source": [
        "np.array(matrixgame_model.getAttr('x'))[-1]"
      ],
      "metadata": {
        "colab": {
          "base_uri": "https://localhost:8080/"
        },
        "id": "N8p7LP_1VKCT",
        "outputId": "8b1160dc-1a5e-4d9d-ed6a-6ccbc50327c3"
      },
      "execution_count": null,
      "outputs": [
        {
          "output_type": "execute_result",
          "data": {
            "text/plain": [
              "4.625827814569536"
            ]
          },
          "metadata": {},
          "execution_count": 14
        }
      ]
    },
    {
      "cell_type": "code",
      "source": [
        "np.array(matrixgame_model.getAttr('pi'))[-1]"
      ],
      "metadata": {
        "colab": {
          "base_uri": "https://localhost:8080/"
        },
        "id": "DpaOdgN4txcF",
        "outputId": "66691c31-29b3-4a7a-8c37-d6b4ae7a6f3f"
      },
      "execution_count": null,
      "outputs": [
        {
          "output_type": "execute_result",
          "data": {
            "text/plain": [
              "4.6258278145695355"
            ]
          },
          "metadata": {},
          "execution_count": 15
        }
      ]
    }
  ]
}