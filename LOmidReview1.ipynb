{
  "nbformat": 4,
  "nbformat_minor": 0,
  "metadata": {
    "colab": {
      "name": "LOmidReview1.ipynb",
      "provenance": [],
      "authorship_tag": "ABX9TyPRImNkeaGW9peqdYcl/CZI",
      "include_colab_link": true
    },
    "kernelspec": {
      "name": "python3",
      "display_name": "Python 3"
    },
    "language_info": {
      "name": "python"
    }
  },
  "cells": [
    {
      "cell_type": "markdown",
      "metadata": {
        "id": "view-in-github",
        "colab_type": "text"
      },
      "source": [
        "<a href=\"https://colab.research.google.com/github/Anitayea/Linear_and_Nonlinear_Optimization/blob/main/LOmidReview1.ipynb\" target=\"_parent\"><img src=\"https://colab.research.google.com/assets/colab-badge.svg\" alt=\"Open In Colab\"/></a>"
      ]
    },
    {
      "cell_type": "markdown",
      "source": [
        "#Linear and Nonlinear Optimization midterm review"
      ],
      "metadata": {
        "id": "IQYW6CLy5XEl"
      }
    },
    {
      "cell_type": "markdown",
      "source": [
        "1. Linear Programming\n"
      ],
      "metadata": {
        "id": "K3i3-4zS5dpk"
      }
    },
    {
      "cell_type": "markdown",
      "source": [
        "Req for LP:\n",
        "1. max/min objective function\n",
        "2. one or more constrains: linear combination of parameters"
      ],
      "metadata": {
        "id": "ujTowNcXA4Mi"
      }
    },
    {
      "cell_type": "markdown",
      "source": [
        "Standard Form:\n",
        "\n",
        "$\\sum_{j} A_{ij} x_j = b_1 \\forall i$\n",
        "\n",
        "  - surplus variables: $ x \\geq d \\implies x-z=d \\quad \\forall z_i \\geq 0$\n",
        "  - slack varibles: $ x \\geq 0 \\implies x-z=0 \\quad \\forall z_i \\geq 0$"
      ],
      "metadata": {
        "id": "rcH9LCNqE8zs"
      }
    },
    {
      "cell_type": "markdown",
      "source": [
        "$\\sum_{i=1}^{m}$"
      ],
      "metadata": {
        "id": "alSgsvvM9Ngh"
      }
    },
    {
      "cell_type": "markdown",
      "source": [
        "2. Simplex Method"
      ],
      "metadata": {
        "id": "ewu6ZRcn9GL4"
      }
    },
    {
      "cell_type": "markdown",
      "source": [
        "3. Duality"
      ],
      "metadata": {
        "id": "WQ3v_cvU9HmM"
      }
    },
    {
      "cell_type": "markdown",
      "source": [
        "4. Matrix Games"
      ],
      "metadata": {
        "id": "TnsE0oSj9IrM"
      }
    },
    {
      "cell_type": "markdown",
      "source": [
        "5. Network Flow"
      ],
      "metadata": {
        "id": "BkT5GS9w9KXj"
      }
    }
  ]
}