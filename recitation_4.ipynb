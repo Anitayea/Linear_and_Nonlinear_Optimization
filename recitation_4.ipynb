{
  "nbformat": 4,
  "nbformat_minor": 0,
  "metadata": {
    "colab": {
      "name": "recitation 4.ipynb",
      "provenance": [],
      "include_colab_link": true
    },
    "kernelspec": {
      "name": "python3",
      "display_name": "Python 3"
    },
    "language_info": {
      "name": "python"
    }
  },
  "cells": [
    {
      "cell_type": "markdown",
      "metadata": {
        "id": "view-in-github",
        "colab_type": "text"
      },
      "source": [
        "<a href=\"https://colab.research.google.com/github/Anitayea/Linear_and_Nonlinear_Optimization/blob/recitations/recitation_4.ipynb\" target=\"_parent\"><img src=\"https://colab.research.google.com/assets/colab-badge.svg\" alt=\"Open In Colab\"/></a>"
      ]
    },
    {
      "cell_type": "markdown",
      "source": [
        "# Recitation 4 - Feb 16th\n",
        "\n",
        "\n",
        "*   Quiz\n",
        "*   Gurobi get dual variables\n",
        "*   Dual problem discussion\n",
        "*   Dual problem example\n",
        "*   Practice problem"
      ],
      "metadata": {
        "id": "kVXwTF8EIv3G"
      }
    },
    {
      "cell_type": "markdown",
      "source": [
        "## Quiz\n",
        "\n",
        "\n",
        "1) [T/F] Is the following statement T or F: In the simplex method, we\n",
        "determine which variable leaves the basis, and then we determine which\n",
        "variable should replace it.\n",
        "\n",
        "ANSWER: FALSE - because we choose what enters first. When we decide which variable leaves, our choice depends on what variable is enters\n",
        "\n",
        "---\n",
        "\n",
        "For the remaining questions, consider the following tableau\n",
        "\n",
        "\\begin{array}{cccccc}\n",
        "x_{1} &  & -x_{3} & 2x_{4} & +x_{5} & =1 \\\\ \n",
        "& x_{2} & x_{3} & +2x_{4} & -3x_{5} & =2\n",
        "\\end{array}\n",
        "\n",
        "and assume that the cost to minimize is $z=2x_{2}+x_{3}$. \n",
        "\n",
        "---\n",
        "\n",
        "2) [Numerical question] What is the value of the cost associated with the\n",
        "basic feasible solution?\n",
        "\n",
        "\n",
        "ANSWER: The basic variables are $x_1 = 1$ and $x_2 = 2$ so the rest are $0$ then plugging that in we get $z = 2x_2 + 0 = 4$\n",
        "\n",
        "---\n",
        "\n",
        "3) We run a simplex step in the above tableau. State if the following\n",
        "statements are T/F [note that more than one statement may be true]:\n",
        "\n",
        "(i) entering $x_{3}$ will improve the cost\n",
        "\n",
        "(ii) entering $x_{4}$ will improve the cost\n",
        "\n",
        "(iii) entering $x_{5}$ will improve the cost\n",
        "\n",
        "(iv) the existing solution is optimal: entering no basic variable will\n",
        "improve the cost.\n",
        "\n",
        "\n",
        "\n",
        "ANSWER: Rewritting the objective function in terms of non-basic variables yields $z = 2(2- x_3 - 2x_4 + 3x_5) + x_3 = 4 - x_3 - 4x_4 +6x_5$\n",
        "\n",
        "(ii) , (i)\n",
        "\n",
        "NOTE: In optimization improving the objective depends on whether we are minimizing or maximizing. In this case we are minimizing so improving means decreasing the objective function, not increasing. \n",
        "---\n",
        "\n",
        "4) [Multiple choice] Assume we enter $x_{4}$ in the tableau above. Which\n",
        "variable should leave so that the basis remains feasible?\n",
        "\n",
        "(i) $x_{1}$\n",
        "\n",
        "(ii) $x_{2}$\n",
        "\n",
        "(iii) $x_{3}$\n",
        "\n",
        "(iv) $x_{5}$\n",
        "\n",
        "\n",
        "\n",
        "ANSWER: $x_1$\n",
        "\n",
        "---\n",
        "\n",
        "5) [Numerical question] Run a pivot step where $x_{4}$ enters and $x_{1}$\n",
        "leaves. What is the new cost?\n",
        "\n",
        "\n",
        "\n",
        "ANSWER: 2 \n",
        "For $x_4$ to enter subtract the first row from the second row, since $x_2$ isn't in the first equation it remains a basic variable. We get the following\n",
        "\n",
        "\\begin{array}{cccccc}\n",
        "x_{1} &  & -x_{3} & 2x_{4} & +x_{5} & =1 \\\\ \n",
        "-x_1 & x_{2} & 2x_{3} &  & -4x_{5} & = 1\n",
        "\\end{array}\n",
        "\n",
        "$z = 2x_2 + x_3 = 2$  "
      ],
      "metadata": {
        "id": "JWR6_8gLI4s6"
      }
    },
    {
      "cell_type": "markdown",
      "source": [
        "## Gurobi - getting dual variable"
      ],
      "metadata": {
        "id": "LQvUqwyBu2EH"
      }
    },
    {
      "cell_type": "code",
      "source": [
        "!pip install gurobipy"
      ],
      "metadata": {
        "colab": {
          "base_uri": "https://localhost:8080/"
        },
        "id": "Uxe6TEXberWT",
        "outputId": "88189672-2042-48e1-ded6-d1d719f341b4"
      },
      "execution_count": null,
      "outputs": [
        {
          "output_type": "stream",
          "name": "stdout",
          "text": [
            "Requirement already satisfied: gurobipy in /usr/local/lib/python3.7/dist-packages (9.5.1)\n"
          ]
        }
      ]
    },
    {
      "cell_type": "code",
      "source": [
        "import gurobipy as grb\n",
        "import numpy as np"
      ],
      "metadata": {
        "id": "A-52EC4ueuUI"
      },
      "execution_count": null,
      "outputs": []
    },
    {
      "cell_type": "markdown",
      "source": [
        "here is an example we covered last recitation\n",
        "\n",
        "1. (a) $c^TX$, $AX \\geq b$, where $X = (x,y,z)$\n",
        "\n",
        "c = (1,2,3), \n",
        "\n",
        "\\begin{align}\n",
        "  x+y &\\geq 2\\\\\n",
        "  -x-y &\\geq -3\\\\\n",
        "  x+z &\\geq 4\\\\\n",
        "  -x - z &\\geq -5\\\\\n",
        "  x,y,z &\\geq 0\n",
        "\\end{align}\n"
      ],
      "metadata": {
        "id": "Pqu5OfNTfDbN"
      }
    },
    {
      "cell_type": "code",
      "source": [
        "A = np.array([[1,1,0], [-1,-1,0], [1,0,1], [-1,0,-1], [1,0,0], [0,1,0], [0,0,1]])\n",
        "b = np.array([2,-3,4,-5,0,0,0])\n",
        "c = np.array([1,2,3])"
      ],
      "metadata": {
        "id": "DUR7JfEqey3H"
      },
      "execution_count": null,
      "outputs": []
    },
    {
      "cell_type": "code",
      "source": [
        "m2 = grb.Model('p1')\n",
        "x2 = m2.addMVar(shape = c.shape)\n",
        "m2.setObjective(c@x2,grb.GRB.MAXIMIZE)\n",
        "constrain2 = m2.addConstr(A@x2 >= b)"
      ],
      "metadata": {
        "id": "JiRfrV8efORH"
      },
      "execution_count": null,
      "outputs": []
    },
    {
      "cell_type": "code",
      "source": [
        "m2.optimize()"
      ],
      "metadata": {
        "colab": {
          "base_uri": "https://localhost:8080/"
        },
        "id": "DCz_j8ZCfPgt",
        "outputId": "d2b807b2-7699-4eb0-d7c6-b379fa2d93f6"
      },
      "execution_count": null,
      "outputs": [
        {
          "output_type": "stream",
          "name": "stdout",
          "text": [
            "Gurobi Optimizer version 9.5.1 build v9.5.1rc2 (linux64)\n",
            "Thread count: 1 physical cores, 2 logical processors, using up to 2 threads\n",
            "Optimize a model with 7 rows, 3 columns and 11 nonzeros\n",
            "Model fingerprint: 0x7e24d555\n",
            "Coefficient statistics:\n",
            "  Matrix range     [1e+00, 1e+00]\n",
            "  Objective range  [1e+00, 3e+00]\n",
            "  Bounds range     [0e+00, 0e+00]\n",
            "  RHS range        [2e+00, 5e+00]\n",
            "Presolve removed 7 rows and 3 columns\n",
            "Presolve time: 0.01s\n",
            "Presolve: All rows and columns removed\n",
            "Iteration    Objective       Primal Inf.    Dual Inf.      Time\n",
            "       0    2.1000000e+01   0.000000e+00   0.000000e+00      0s\n",
            "\n",
            "Solved in 0 iterations and 0.02 seconds (0.00 work units)\n",
            "Optimal objective  2.100000000e+01\n"
          ]
        }
      ]
    },
    {
      "cell_type": "code",
      "source": [
        "print(m2.getAttr('x'))"
      ],
      "metadata": {
        "colab": {
          "base_uri": "https://localhost:8080/"
        },
        "id": "Xms2t8fTfSfB",
        "outputId": "cf3258e6-4537-49ab-eb3e-39fcb2d89188"
      },
      "execution_count": null,
      "outputs": [
        {
          "output_type": "stream",
          "name": "stdout",
          "text": [
            "[0.0, 3.0, 5.0]\n"
          ]
        }
      ]
    },
    {
      "cell_type": "code",
      "source": [
        "print(m2.getAttr('pi'))"
      ],
      "metadata": {
        "colab": {
          "base_uri": "https://localhost:8080/"
        },
        "id": "Zt4Z1rUvffoJ",
        "outputId": "9758069a-d655-4949-fc42-d00aaa88be02"
      },
      "execution_count": null,
      "outputs": [
        {
          "output_type": "stream",
          "name": "stdout",
          "text": [
            "[0.0, -2.0, 0.0, -3.0, 0.0, 0.0, 0.0]\n"
          ]
        }
      ]
    },
    {
      "cell_type": "markdown",
      "source": [
        "## Dual problem discussion"
      ],
      "metadata": {
        "id": "irNQq4HVu7-T"
      }
    },
    {
      "cell_type": "markdown",
      "source": [
        "\n",
        "In general, constrained optimization is of the form \n",
        "\\begin{align}\n",
        "\\min f(x) \\text{ s.t. } g(x) \\geq b\n",
        "\\end{align}"
      ],
      "metadata": {
        "id": "v7cfCcpvgmKe"
      }
    },
    {
      "cell_type": "markdown",
      "source": [
        "$\\min x$ s.t. $x\\geq 1$\n",
        "\n",
        "f(x) = x = g(x), b = 1\n",
        "\n",
        "L(x,y) = x - y(x-1)\n",
        "\n",
        "y + (1 - y) x\n",
        "\n",
        "$\\max y$ s.t. $y\\leq 1$"
      ],
      "metadata": {
        "id": "uSQErd6lu8sX"
      }
    },
    {
      "cell_type": "markdown",
      "source": [
        "[link text](https://)Constraints are often difficult to work with so we get rid of the constraints by constructing the following function \n",
        "\\begin{align}\n",
        "L(x,\\pi) = f(x) - \\pi^T(g(x) -b)\\\\\n",
        "\\pi \\geq 0\n",
        "\\end{align}\n",
        "\n",
        "It is constructed this way so that \n",
        "So, for feasible $x$ and $\\pi \\geq 0$:\n",
        "\\begin{align}\n",
        "  &g(x) \\geq b\\\\\n",
        "  &\\implies g(x) - b \\geq 0\\\\\n",
        "  \\pi\\geq \\pi & \\implies \\pi^T(g(x)-b)\\geq0\\\\\n",
        "  \\implies f(x) - \\pi^T(g(x)-b) &\\leq f(x)\\\\\n",
        "  L(x,\\pi) \\leq f(x)\n",
        "\\end{align}\n",
        "\n",
        "Thus we have that for feasible $x$ $\\forall \\pi\\geq 0 \\quad L(x,\\pi) \\leq f(x)$ so $\\max_{\\pi\\geq0} L(x,\\pi) \\leq f(x)$"
      ],
      "metadata": {
        "id": "f6Enx82chUDh"
      }
    },
    {
      "cell_type": "markdown",
      "source": [
        "When constructing $L$, do so in a way that $\\pi$ can send $L$ to infinity when constraints aren't statisfied for a minimization problem, and to negative infinity when the constraints aren't satisfied for a maximization"
      ],
      "metadata": {
        "id": "MKBzC2WlzV8x"
      }
    },
    {
      "cell_type": "markdown",
      "source": [
        "For a linear program we have $f(x) = c^Tx$ and $g(x) = Ax$ so \n",
        "\\begin{align}\n",
        "L(x,\\pi) &= c^Tx - \\pi^T(Ax-b)\\\\ \n",
        "&= \\pi^Tb + (c - A^T\\pi)^Tx\n",
        "\\end{align}\n",
        "\n",
        "It is useful to view this as a game between two players, $x$ wants to minimize $L$ while $\\pi$ wants to maximize it. If $x$ goes first it must set $Ax\\geq b$ otherwise $\\pi$ can bring $L$ to infinity. \n",
        "\n",
        "In this second line we've rearrange the equation and now we can see that if $\\pi$ is chosen first then if $A^T\\pi \\leq c$ then $x$ can bring $L$ to negative infinity. Thus, if $\\pi$ wants to maximize $L$ it must satisfy the constraint $A^T\\pi \\geq c$ and the objective is $b^T\\pi$ so out dual problem is\n",
        "\\begin{align}\n",
        "\\max_{\\pi\\geq0}b^T\\pi\\\\\n",
        "\\text{s.t. } A^T\\pi \\leq c\n",
        "\\end{align}"
      ],
      "metadata": {
        "id": "qRkMjm5Ii6Jv"
      }
    },
    {
      "cell_type": "markdown",
      "source": [
        "$x + y = 1$\n",
        "\n",
        "is equivalent to\n",
        "\n",
        "$x + y \\geq 1$\n",
        "\n",
        "and \n",
        "\n",
        "$-x - y \\geq -1$"
      ],
      "metadata": {
        "id": "r9XV8ZBotj4n"
      }
    },
    {
      "cell_type": "markdown",
      "source": [
        "### what about equality constraints?\n",
        "One way deal with equality constraints is to change them to inequality constraints. Afterall $a = b$ is equivalent to $a \\leq b$ and $a\\geq b$ (which can be written as $-a \\leq -b$ so that the inequalities face the same direction.  \n",
        "\n",
        "For formally, given\n",
        "\\begin{align}\n",
        "\\max c^T x\\\\\n",
        "\\text{s.t. } Ax = b\\\\\n",
        "x\\geq 0\n",
        "\\end{align}\n",
        "\n",
        "can be rewritten as \n",
        "\\begin{align}\n",
        "\\max c^T x\\\\\n",
        "\\text{s.t. } Ax \\leq b\\\\\n",
        "-Ax\\leq -b\\\\\n",
        "x\\geq 0\n",
        "\\end{align}\n",
        "(note we use $\\leq$ for $\\max$ this is not necessay but it is useful to be consistent)\n",
        "\n",
        "then \n",
        "\\begin{align}\n",
        "L(x,y) &= c^Tx - (y_1, y_2)^T(Ax-b, -Ax+b)\\\\\n",
        "&= (y_1, y_2)^T(b,-b) + (c - A^Ty_1 + A^Ty_2)^Tx\\\\\n",
        "&= (y_1-y_2)^Tb + (c - A^T(y_1-y_2))^Tx\\\\\n",
        "\\end{align}\n",
        "\n",
        "We could just set $y = (y_1,y_2)$ and have twice as many variables, but another thing we can do is set $y = y_1 -y_2$ and note that since both were positive we can view $y_1$ as the positive part of $y$ and $y_2$ as the negative part (so we could go back and replace our variables with $y_1 = y_+, y_2 = y_-$), thus we can just write \n",
        "\n",
        "\\begin{align}\n",
        "L(x,y) &= y^Tb + (c - A^Ty)^Tx\n",
        "\\end{align}\n",
        "\n",
        "and have $y$ be unrestricted rather than $y\\geq 0$. This yields the dual problem\n",
        "\n",
        "\\begin{align}\n",
        "\\min y^Tb\\\\\n",
        "\\text{s.t } A^Ty \\geq c\n",
        "\\end{align}\n",
        "\n",
        "\n",
        "---\n",
        "\n",
        "A general procedure for finding duals is \n",
        "\n",
        "\n",
        "1.   Convert constraints to $Ax\\geq b$ for minimizations and $Ax \\leq b$ for maximizations\n",
        "2.   Formulate $L$ and double check that objective and constraints make sense (which variables can send function to $\\pm\\infty$\n",
        "3.   Rearrange $L$ so that $x$ only shows up once. Now the objective and constraints for the dual should be clear\n",
        "      3.a If there are any equality constraints, consider combining two variables to make one unconstrained variable\n",
        "4.   Formulate dual based on $L$\n",
        "\n",
        "Note: It is useful to have two dual variables, one for equality constraints and one for inequality constraints if the constaints are of the form $A_1x=b_1$ and $A_2x\\leq b_2$. It is not necessary to include positivity constraints as the latter form because positivity of $x$ is implied by the construction of $L$"
      ],
      "metadata": {
        "id": "PmyERBWc7p6w"
      }
    },
    {
      "cell_type": "markdown",
      "source": [
        "### example"
      ],
      "metadata": {
        "id": "-VLKSmkMyxoW"
      }
    },
    {
      "cell_type": "markdown",
      "source": [
        "(a) maximize $c^TX$, $AX \\geq b$, where $X = (x,y,z)$\n",
        "\n",
        "c = (1,2,3), \n",
        "\n",
        "\\begin{align}\n",
        "  x+y &\\geq 2\\\\\n",
        "  -x-y &\\geq -3\\\\\n",
        "  x+z &\\geq 4\\\\\n",
        "  -x - z &\\geq -5\\\\\n",
        "  x,y,z &\\geq 0\n",
        "\\end{align}\n"
      ],
      "metadata": {
        "id": "2SkUoy16kobv"
      }
    },
    {
      "cell_type": "markdown",
      "source": [
        "We wish to write this as \n",
        "\\begin{align}\n",
        "\\max_{x\\in R^3\\\\x\\geq 0} c^Tx\\\\\n",
        "\\text{s.t. } Ax \\leq b\n",
        "\\end{align}\n",
        "\n",
        "Thus we set \n",
        " $x = (x_1,x_2,x_3)$ \n",
        "\n",
        "A = [[ -1  -1  0]\n",
        " [1 1  0]\n",
        " [ -1  0  -1]\n",
        " [1  0 1]\n",
        " [ -1  0  0]\n",
        " [ 0  -1  0]\n",
        " [ 0  0  -1]]\n",
        "\n",
        " b = [ -2 3  -4 5  0  0  0]^T\n",
        "\n",
        " c = (1,2,3)^T\n",
        "\n",
        " Note that compared to last lecture we have swapped the signs of $A$ and $b$. This makes it so that we won't have negative signs in out future work. In general if you have a maximization problem you want your inequalities to be $\\leq$ and for minimization you want $\\geq$. \n"
      ],
      "metadata": {
        "id": "7XY0bt4VqfqU"
      }
    },
    {
      "cell_type": "markdown",
      "source": [
        "So our problem is \n",
        "\\begin{align}\n",
        "\\max_{x\\in R^3} c^Tx\\\\\n",
        "\\text{s.t. } Ax \\leq b\n",
        "\\end{align}\n",
        "\n",
        "Let's find the dual\n",
        "\n",
        "1st step find $L$\n",
        "\\begin{align}\n",
        "L(x,y) &= c^Tx - y^T(Ax-b)\\\\\n",
        " &= -b^Ty + (c - A^Ty)^Tx\n",
        "\\end{align}\n",
        "\n",
        "Note that when $Ax \\leq b$ isn't satisfied $Ax - b$ is positive, thus for positive $y$ $L$ can be brought to negative infinity when the constraints aren't satisfied.\n",
        "\n",
        "We can think of this as a two player game with one player controlling $x$ and the other $y$. One is trying to minimize $L(x,y)$ and the other is trying to maximize it. In the primal problem player $x$ goes first and wants to pick a feasible solution because otherwise player $y$ can take advantage of this.\n",
        "\n",
        "In this example, if we take $x = (1,0,3)$ (a non-feasible point) then $(Ax-b)[0] = -1$ so sending $y[0]$ to $\\infty$ sends $L(x,y)$ to $-\\infty$.\n",
        "\n",
        "\n",
        "\n",
        "Back to constructing out dual problem. We know we must minimize with respect to $y$ and that we need $c-A^Ty \\leq 0$ else $x$ could send $L$ to positive infinity\n",
        "\\begin{align}\n",
        "\\min_{y\\in R^7\\\\y\\geq 0} b^Ty \\\\\n",
        "\\text{s.t. } A^Ty \\geq c \n",
        "\\end{align}\n",
        "\n",
        "Now we have a minimization problem with a $\\geq$ inequality constraint. "
      ],
      "metadata": {
        "id": "Cjrb-pqfq02o"
      }
    },
    {
      "cell_type": "markdown",
      "source": [
        "# Practice problems\n",
        "Calculate the duals of the duals we calculated above. Do you notice anything interesting? \n",
        "\n",
        "As a reminder we calculated the following duals:\n",
        "1. The dual of\n",
        "\\begin{align}\n",
        "\\min_{x \\geq 0} c^Tx\\\\\n",
        "\\text{s.t. } Ax\\geq b\n",
        "\\end{align}\n",
        "is \n",
        "\\begin{align}\n",
        "\\max_{y \\geq 0} b^Ty\\\\\n",
        "\\text{s.t. } A^Ty \\leq c\n",
        "\\end{align}\n",
        "\n",
        "2. The dual of \n",
        "\\begin{align}\n",
        "\\max_{x \\geq 0} c^Tx\\\\\n",
        "\\text{s.t. } Ax = b\n",
        "\\end{align}\n",
        "is \n",
        "\\begin{align}\n",
        "\\min_{y} b^Ty\\\\\n",
        "\\text{s.t. } A^Ty \\geq c\n",
        "\\end{align}\n",
        "\n"
      ],
      "metadata": {
        "id": "KtJwKufv18OC"
      }
    }
  ]
}