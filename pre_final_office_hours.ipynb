{
  "nbformat": 4,
  "nbformat_minor": 0,
  "metadata": {
    "colab": {
      "name": "pre-final office hours.ipynb",
      "provenance": [],
      "collapsed_sections": [],
      "include_colab_link": true
    },
    "kernelspec": {
      "name": "python3",
      "display_name": "Python 3"
    },
    "language_info": {
      "name": "python"
    }
  },
  "cells": [
    {
      "cell_type": "markdown",
      "metadata": {
        "id": "view-in-github",
        "colab_type": "text"
      },
      "source": [
        "<a href=\"https://colab.research.google.com/github/Anitayea/Linear_and_Nonlinear_Optimization/blob/recitations/pre_final_office_hours.ipynb\" target=\"_parent\"><img src=\"https://colab.research.google.com/assets/colab-badge.svg\" alt=\"Open In Colab\"/></a>"
      ]
    },
    {
      "cell_type": "markdown",
      "source": [
        "## Question 4\n",
        "\n",
        "Note there was a mistake in this question I believe, this is the correct work and there is no optimal value as the function is unbounded. A quick way to check this is to look at $e^{f(x)}$ and note that this approaches 0 as $x \\to \\infty$. \n",
        "\n",
        "$\\exp(f(x)) = (1+ e^{x_1/2}+e^{x_2/2})^5e^{-x_1-3x_2}$\n",
        "\n",
        "Take $x_1 = x_2 = x$\n",
        "\n",
        "\n",
        "$\\exp(f(x)) = (1+ 2e^{x_1/2})^5e^{-4x}$\n",
        "\n",
        "For large $x$ we can ignore the 1 in the parenthesis \n",
        "\n",
        "$\\approx 32e^{5x_1/2}e^{-4x} = 32e^{-3x/2}$\n",
        "\n",
        "And this clearly goes to 0 as x$x\\to\\infty$ so that means $f$ is minimized by letting $x_1=x_2 \\to \\infty$\n",
        "\n",
        "### correct hessian calculation\n",
        "\n",
        "f(x) = $5\\log(1+e^{x_1/2}+e^{x_2/2})-x_1-3x_2$\n",
        "\n",
        "$\\nabla f(x) = \\begin{pmatrix}\\frac{5}{2} \\frac{e^{x_1/2}}{1+e^{x_1/2}+e^{x_2/2}} -1 \\\\\\frac{5}{2} \\frac{e^{x_2/2}}{1+e^{x_1/2}+e^{x_2/2}} -3\\end{pmatrix}$\n",
        "\n",
        "\\begin{align}\n",
        "\\frac{d}{dx} \\frac{5}{2} \\frac{e^{x_1/2}}{1+e^{x_1/2}+e^{x_2/2}} -1 &= \\frac{5}{4} \\Big(\\frac{e^{x_1/2}}{1+e^{x_1/2}+e^{x_2/2}} - \\frac{e^{x_1/2}}{(1+e^{x_1/2}+e^{x_2/2})^2}\\Big)\\\\\n",
        "&= \\frac{5}{4} \\Big(\\frac{e^{x_1/2}(1+e^{x_1/2}+e^{x_2/2}) - e^{x_1}}{(1+e^{x_1/2}+e^{x_2/2})^2}\\Big)\\\\\n",
        "&= \\frac{5}{4} \\Big(\\frac{e^{x_1/2}(1+e^{x_2/2})}{(1+e^{x_1/2}+e^{x_2/2})^2}\\Big)\\\\\n",
        "\\end{align}\n",
        "\n",
        "\n",
        "let $\\pi_1 = e^{x_1/2}$, $\\pi_2 = e^{x_2/2}$\n",
        "\n",
        "Then\n",
        "\n",
        "then\n",
        "\\begin{align}\\nabla^2 f(x) &= \\frac{5}{4}\\frac{1}{(\\pi_1+\\pi_2+1)^2}\\begin{pmatrix} \\pi_1+\\pi_1\\pi_2 & \\pi_1 \\pi_2 \\\\ \\pi_1\\pi_2 & \\pi_2+\\pi_1\\pi_2 \\end{pmatrix}\\\\\n",
        "&=\\frac{5}{4(1+\\pi_1+\\pi_2)^2}\\Bigg(\\text{diag}(\\pi) + \\pi_1\\pi_2\\Bigg)\n",
        "\\end{align}\n"
      ],
      "metadata": {
        "id": "xjg8rHclT3oL"
      }
    },
    {
      "cell_type": "markdown",
      "source": [
        "### another way to see that the function is unbounded\n",
        "\n",
        "Let $x = x_1 = x_2$ now we have a function of one variable:\n",
        "\n",
        "$f(x) = 5\\log(1+2e^{x/2}) - 4x$\n",
        "\n",
        "\\begin{align}\n",
        "f'(x) &= \\frac{5}{2}\\frac{e^{x/2}}{x^x/2+1}-4\n",
        "\\end{align}\n",
        "\n",
        "Thus as we let $x\\to\\infty$ and we get that the slope approaches $\\frac{5}{2} -4 = -1.5$, i.e. that as we in $x$ the slope approaches a fixed negative value so increasing $x$ will keep decreasing the function value. Basically the linear term out paces the exponential"
      ],
      "metadata": {
        "id": "yrvryuMV1c4G"
      }
    },
    {
      "cell_type": "code",
      "source": [
        "import numpy as np\n",
        "import matplotlib.pyplot as plt"
      ],
      "metadata": {
        "id": "Tw6g-WWVVcAv"
      },
      "execution_count": null,
      "outputs": []
    },
    {
      "cell_type": "code",
      "source": [
        "n_x = np.array([5])\n",
        "m_y = np.array([-1,-3])\n",
        "\n",
        "def f(x):\n",
        "    return (5*np.log(1 + np.exp(x[0]/2) + np.exp(x[1]/2)) - x[0] - 3*x[1] ) \n",
        "\n",
        "def g(x):\n",
        "   denom = 1 + np.exp(x[0]/2) + np.exp(x[1]/2)\n",
        "   g1 = ((5/(2*denom)) * np.exp(x[0]/2)) - 1;\n",
        "   g2 = ((5/(2*denom)) * np.exp(x[1]/2)) - 3;\n",
        "   return np.array([g1,g2])"
      ],
      "metadata": {
        "id": "c7E7g7neViSo"
      },
      "execution_count": null,
      "outputs": []
    },
    {
      "cell_type": "code",
      "source": [
        "def gradient_descent(f,g, p0, beta, grad_tol = 1e-3, maxIt = 1000):\n",
        "  keep_going = True\n",
        "  pk = p0\n",
        "  k = 0\n",
        "  fk = f(pk)\n",
        "  flist = [fk]\n",
        "  while keep_going:\n",
        "    gk = g(pk)\n",
        "    pk = pk -  gk/beta\n",
        "    k = k+1\n",
        "    fk = f(pk)\n",
        "    flist.append(fk)\n",
        "    if k>maxIt:\n",
        "      print('Max iteration reached.')\n",
        "      keep_going = False\n",
        "    if np.linalg.norm(gk) < grad_tol:\n",
        "      keep_going = False\n",
        "  fvalues= np.array(flist)\n",
        "  return flist, pk, g(pk),k "
      ],
      "metadata": {
        "id": "4Q4jKLRXVkKO"
      },
      "execution_count": null,
      "outputs": []
    },
    {
      "cell_type": "code",
      "source": [
        "flist_standard, pk, gk,k= gradient_descent(f,g, np.zeros(2), 5/4, maxIt = 100000)\n",
        "print('price vector    =' , pk)\n",
        "print('number of steps =', k)\n",
        "print('gradient        =' , gk)\n",
        "print()\n",
        "plt.plot((np.array(flist_standard)))\n",
        "plt.ylabel('E')\n",
        "plt.show()"
      ],
      "metadata": {
        "colab": {
          "base_uri": "https://localhost:8080/",
          "height": 560
        },
        "id": "syoe6dJEWRMM",
        "outputId": "b2a0d8ce-b521-45c0-ef92-b2b33a4653d8"
      },
      "execution_count": null,
      "outputs": [
        {
          "output_type": "stream",
          "name": "stderr",
          "text": [
            "/usr/local/lib/python3.7/dist-packages/ipykernel_launcher.py:9: RuntimeWarning: overflow encountered in double_scalars\n",
            "  if __name__ == '__main__':\n",
            "/usr/local/lib/python3.7/dist-packages/ipykernel_launcher.py:10: RuntimeWarning: overflow encountered in double_scalars\n",
            "  # Remove the CWD from sys.path while we load stuff.\n",
            "/usr/local/lib/python3.7/dist-packages/ipykernel_launcher.py:5: RuntimeWarning: overflow encountered in exp\n",
            "  \"\"\"\n",
            "/usr/local/lib/python3.7/dist-packages/ipykernel_launcher.py:8: RuntimeWarning: overflow encountered in exp\n",
            "  \n",
            "/usr/local/lib/python3.7/dist-packages/ipykernel_launcher.py:10: RuntimeWarning: overflow encountered in exp\n",
            "  # Remove the CWD from sys.path while we load stuff.\n",
            "/usr/local/lib/python3.7/dist-packages/ipykernel_launcher.py:10: RuntimeWarning: invalid value encountered in double_scalars\n",
            "  # Remove the CWD from sys.path while we load stuff.\n"
          ]
        },
        {
          "output_type": "stream",
          "name": "stdout",
          "text": [
            "Max iteration reached.\n",
            "price vector    = [nan nan]\n",
            "number of steps = 100001\n",
            "gradient        = [nan nan]\n",
            "\n"
          ]
        },
        {
          "output_type": "display_data",
          "data": {
            "text/plain": [
              "<Figure size 432x288 with 1 Axes>"
            ],
            "image/png": "[encoded data removed]"
          },
          "metadata": {
            "needs_background": "light"
          }
        }
      ]
    },
    {
      "cell_type": "markdown",
      "source": [
        "Here the function \"coverges\" to the unbounded limit until we get an overflow error because the exponentials become too large"
      ],
      "metadata": {
        "id": "9XgNqfawD8RU"
      }
    },
    {
      "cell_type": "markdown",
      "source": [
        "## question 3"
      ],
      "metadata": {
        "id": "CquVpn8hiyzz"
      }
    },
    {
      "cell_type": "code",
      "source": [
        "!pip install gurobipy"
      ],
      "metadata": {
        "colab": {
          "base_uri": "https://localhost:8080/"
        },
        "id": "VmkDtmA1r1BD",
        "outputId": "4e123c1f-8b88-48e3-9505-25a4df459406"
      },
      "execution_count": null,
      "outputs": [
        {
          "output_type": "stream",
          "name": "stdout",
          "text": [
            "Collecting gurobipy\n",
            "  Downloading gurobipy-9.5.1-cp37-cp37m-manylinux2014_x86_64.whl (11.5 MB)\n",
            "\u001b[K     |████████████████████████████████| 11.5 MB 4.7 MB/s \n",
            "\u001b[?25hInstalling collected packages: gurobipy\n",
            "Successfully installed gurobipy-9.5.1\n"
          ]
        }
      ]
    },
    {
      "cell_type": "code",
      "source": [
        "import gurobipy as grb"
      ],
      "metadata": {
        "id": "2k7P9UJfr3x8"
      },
      "execution_count": null,
      "outputs": []
    },
    {
      "cell_type": "code",
      "source": [
        "M_z_a = np.array([[-1,-1,0,0],[1,0,-1,0],[0,1,0,-1],[0,0,1,1]])"
      ],
      "metadata": {
        "id": "uEHp1-Pvr9B0"
      },
      "execution_count": null,
      "outputs": []
    },
    {
      "cell_type": "code",
      "source": [
        "q_z = np.array([-1,0,0,1])"
      ],
      "metadata": {
        "id": "PpzJxqLFsAIm"
      },
      "execution_count": null,
      "outputs": []
    },
    {
      "cell_type": "code",
      "source": [
        "c_a = np.array([3,2,2,2])"
      ],
      "metadata": {
        "id": "PS85ZHp8sAyQ"
      },
      "execution_count": null,
      "outputs": []
    },
    {
      "cell_type": "code",
      "source": [
        "mincostflow =grb.Model()\n",
        "nbz,nba = M_z_a.shape\n",
        "mu_a = mincostflow.addMVar(shape=nba)\n",
        "mincostflow.setObjective( mu_a @ c_a, grb.GRB.MINIMIZE)\n",
        "mincostflow.addConstr(M_z_a @ mu_a == q_z)\n",
        "mincostflow.optimize() "
      ],
      "metadata": {
        "colab": {
          "base_uri": "https://localhost:8080/"
        },
        "id": "UPUA2UOjr0LF",
        "outputId": "fe2bd453-964d-47dc-f417-907f708d3486"
      },
      "execution_count": null,
      "outputs": [
        {
          "output_type": "stream",
          "name": "stdout",
          "text": [
            "Gurobi Optimizer version 9.5.1 build v9.5.1rc2 (linux64)\n",
            "Thread count: 1 physical cores, 2 logical processors, using up to 2 threads\n",
            "Optimize a model with 4 rows, 4 columns and 8 nonzeros\n",
            "Model fingerprint: 0xa1faaa6a\n",
            "Coefficient statistics:\n",
            "  Matrix range     [1e+00, 1e+00]\n",
            "  Objective range  [2e+00, 3e+00]\n",
            "  Bounds range     [0e+00, 0e+00]\n",
            "  RHS range        [1e+00, 1e+00]\n",
            "Presolve removed 4 rows and 4 columns\n",
            "Presolve time: 0.02s\n",
            "Presolve: All rows and columns removed\n",
            "Iteration    Objective       Primal Inf.    Dual Inf.      Time\n",
            "       0    4.0000000e+00   0.000000e+00   0.000000e+00      0s\n",
            "\n",
            "Solved in 0 iterations and 0.02 seconds (0.00 work units)\n",
            "Optimal objective  4.000000000e+00\n"
          ]
        }
      ]
    }
  ]
}