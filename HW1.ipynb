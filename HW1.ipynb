{
  "nbformat": 4,
  "nbformat_minor": 0,
  "metadata": {
    "colab": {
      "name": "HW1.ipynb",
      "provenance": [],
      "include_colab_link": true
    },
    "kernelspec": {
      "name": "python3",
      "display_name": "Python 3"
    },
    "language_info": {
      "name": "python"
    }
  },
  "cells": [
    {
      "cell_type": "markdown",
      "metadata": {
        "id": "view-in-github",
        "colab_type": "text"
      },
      "source": [
        "<a href=\"https://colab.research.google.com/github/Anitayea/Linear_and_Nonlinear_Optimization/blob/main/HW1.ipynb\" target=\"_parent\"><img src=\"https://colab.research.google.com/assets/colab-badge.svg\" alt=\"Open In Colab\"/></a>"
      ]
    },
    {
      "cell_type": "code",
      "execution_count": null,
      "metadata": {
        "colab": {
          "base_uri": "https://localhost:8080/"
        },
        "id": "D7teuTYD-AOm",
        "outputId": "9f6eb1b1-7c75-4325-9fe6-6440a5613060"
      },
      "outputs": [
        {
          "output_type": "stream",
          "name": "stdout",
          "text": [
            "Collecting gurobipy\n",
            "  Downloading gurobipy-9.5.0-cp37-cp37m-manylinux2014_x86_64.whl (11.5 MB)\n",
            "\u001b[K     |████████████████████████████████| 11.5 MB 7.5 MB/s \n",
            "\u001b[?25hInstalling collected packages: gurobipy\n",
            "Successfully installed gurobipy-9.5.0\n"
          ]
        }
      ],
      "source": [
        "!pip install gurobipy\n",
        "import gurobipy as grb\n",
        "import numpy as np"
      ]
    },
    {
      "cell_type": "markdown",
      "source": [
        "2.6 Q2 alloy"
      ],
      "metadata": {
        "id": "Jiuank9JEGPU"
      }
    },
    {
      "cell_type": "code",
      "source": [
        "#A = np.array([10,90],[25,75],[50,50],[75,25],[95,5])\n",
        "A = np.array([[10,25,50,75,95],[90,75,50,25,5]])\n",
        "b = np.array([30,70])\n",
        "c = np.array([5,4,3,2,1.5])\n",
        "m = grb.Model(\"alloy\")\n",
        "x = m.addMVar(shape = c.shape)\n",
        "m.setObjective(c@x, grb.GRB.MINIMIZE)\n",
        "Constrain = m.addConstr(A@x >= b)\n",
        "m.optimize()\n",
        "print(m.getAttr('x'))"
      ],
      "metadata": {
        "id": "DMQEoQzIDrrb",
        "colab": {
          "base_uri": "https://localhost:8080/"
        },
        "outputId": "baea1ef9-7950-4272-9c6d-ce4e2fa720d3"
      },
      "execution_count": null,
      "outputs": [
        {
          "output_type": "stream",
          "name": "stdout",
          "text": [
            "Gurobi Optimizer version 9.5.0 build v9.5.0rc5 (linux64)\n",
            "Thread count: 1 physical cores, 2 logical processors, using up to 2 threads\n",
            "Optimize a model with 2 rows, 5 columns and 10 nonzeros\n",
            "Model fingerprint: 0xbed71024\n",
            "Coefficient statistics:\n",
            "  Matrix range     [5e+00, 1e+02]\n",
            "  Objective range  [2e+00, 5e+00]\n",
            "  Bounds range     [0e+00, 0e+00]\n",
            "  RHS range        [3e+01, 7e+01]\n",
            "Presolve removed 0 rows and 1 columns\n",
            "Presolve time: 0.01s\n",
            "Presolved: 2 rows, 4 columns, 8 nonzeros\n",
            "\n",
            "Iteration    Objective       Primal Inf.    Dual Inf.      Time\n",
            "       0    0.0000000e+00   1.250000e+01   0.000000e+00      0s\n",
            "       2    3.8000000e+00   0.000000e+00   0.000000e+00      0s\n",
            "\n",
            "Solved in 2 iterations and 0.02 seconds (0.00 work units)\n",
            "Optimal objective  3.800000000e+00\n",
            "[0.0, 0.8, 0.2, 0.0, 0.0]\n"
          ]
        }
      ]
    },
    {
      "cell_type": "markdown",
      "source": [
        "2.6 Q4 firm"
      ],
      "metadata": {
        "id": "HMQOG-8PEp2w"
      }
    },
    {
      "cell_type": "code",
      "source": [
        "A = np.array([[2,1,3,3,1,1,0],[3,2,2,1,1,0,1]])\n",
        "b = np.array([700,1000])\n",
        "c = np.array([-30,-20,-40,-25,-10,0,0])\n",
        "m2 = grb.Model(\"firm\")\n",
        "x2 = m2.addMVar(shape = c.shape)\n",
        "m2.setObjective(c@x2, grb.GRB.MAXIMIZE)\n",
        "Constrain2 = m2.addConstr(A@x2 >= b)\n",
        "m2.optimize()\n",
        "print(m2.getAttr('x'))"
      ],
      "metadata": {
        "colab": {
          "base_uri": "https://localhost:8080/"
        },
        "id": "5mFiHaAPPC9-",
        "outputId": "99e32371-c141-4305-9f0c-66febabe9057"
      },
      "execution_count": null,
      "outputs": [
        {
          "output_type": "stream",
          "name": "stdout",
          "text": [
            "Gurobi Optimizer version 9.5.0 build v9.5.0rc5 (linux64)\n",
            "Thread count: 1 physical cores, 2 logical processors, using up to 2 threads\n",
            "Optimize a model with 2 rows, 7 columns and 12 nonzeros\n",
            "Model fingerprint: 0x04bca95d\n",
            "Coefficient statistics:\n",
            "  Matrix range     [1e+00, 3e+00]\n",
            "  Objective range  [1e+01, 4e+01]\n",
            "  Bounds range     [0e+00, 0e+00]\n",
            "  RHS range        [7e+02, 1e+03]\n",
            "Presolve removed 2 rows and 7 columns\n",
            "Presolve time: 0.01s\n",
            "Presolve: All rows and columns removed\n",
            "Iteration    Objective       Primal Inf.    Dual Inf.      Time\n",
            "       0   -0.0000000e+00   0.000000e+00   0.000000e+00      0s\n",
            "\n",
            "Solved in 0 iterations and 0.02 seconds (0.00 work units)\n",
            "Optimal objective -0.000000000e+00\n",
            "[0.0, 0.0, 0.0, 0.0, 0.0, 700.0, 1000.0]\n"
          ]
        }
      ]
    },
    {
      "cell_type": "markdown",
      "source": [
        "2.6 Q8"
      ],
      "metadata": {
        "id": "M3N6gm56EvcM"
      }
    },
    {
      "cell_type": "code",
      "source": [
        "A = np.array([[-2,0,0,1,0,0,1,0,0,0],\n",
        "              [0,-2,0,0,1,0,0,1,0,0],\n",
        "              [0,0,-2,0,0,1,0,0,1,0],\n",
        "              [1,1,0,-1,-1,0,0,0,0,1],\n",
        "              [2,0,1,-2,0,-1,0,0,0,0]])\n",
        "b = np.array([0,0,0,1,3])\n",
        "c = np.array([1,1,1,0,0,0,0,0,0,0])\n",
        "m3 = grb.Model(\"Q8\")\n",
        "x3 = m3.addMVar(shape = c.shape)\n",
        "m3.setObjective(c@x3, grb.GRB.MAXIMIZE)\n",
        "Constrain3 = m3.addConstr(A@x3 == b)\n",
        "m3.optimize()\n",
        "#print(m3.getAttr('x'))"
      ],
      "metadata": {
        "colab": {
          "base_uri": "https://localhost:8080/"
        },
        "id": "Mb-ktOLPwafJ",
        "outputId": "03ba5d14-e67d-41b8-ac14-79eba4d79120"
      },
      "execution_count": null,
      "outputs": [
        {
          "output_type": "stream",
          "name": "stdout",
          "text": [
            "Gurobi Optimizer version 9.5.0 build v9.5.0rc5 (linux64)\n",
            "Thread count: 1 physical cores, 2 logical processors, using up to 2 threads\n",
            "Optimize a model with 5 rows, 10 columns and 18 nonzeros\n",
            "Model fingerprint: 0x02a09d65\n",
            "Coefficient statistics:\n",
            "  Matrix range     [1e+00, 2e+00]\n",
            "  Objective range  [1e+00, 1e+00]\n",
            "  Bounds range     [0e+00, 0e+00]\n",
            "  RHS range        [1e+00, 3e+00]\n",
            "Presolve removed 5 rows and 9 columns\n",
            "Presolve time: 0.01s\n",
            "\n",
            "Solved in 0 iterations and 0.01 seconds (0.00 work units)\n",
            "Infeasible or unbounded model\n"
          ]
        }
      ]
    },
    {
      "cell_type": "markdown",
      "source": [
        "Q4\n",
        "\n",
        "When the matrix has a column of zeros, it means that the last variable is linearly dependent and has infinite solutions. Considering it in a 2D space, having, for example, the last column = 0, which means that x2 can be any number. In this question particularly, the last variable only has a positive constrain. In 2D space, it means that it only dedicates to a line on positive axis that we can move along for any value. \n",
        "\n",
        "!Cartesian product"
      ],
      "metadata": {
        "id": "5zMM1UBeBjwm"
      }
    },
    {
      "cell_type": "markdown",
      "source": [
        "Q5\n",
        "\n",
        "(i)\n",
        "\n",
        "(ii)\n",
        "\n",
        "\\begin{align}\n",
        "  x_1+x_2 &\\leq 1\\\\\n",
        "  2x_1-x_2 &\\geq -1/4\\\\\n",
        "  -x_1+x_2 &\\geq -1/2\\\\\n",
        "  x_1,x_2 &\\geq 0\n",
        "\\end{align}\n",
        "\n",
        "First make them non-negative:\n",
        "\\begin{align}\n",
        "  x_1+x_2 &\\leq 1\\\\\n",
        "  -2x_1+x_2 &\\leq 1/4\\\\\n",
        "  x_1-x_2 &\\leq 1/2\\\\\n",
        "  x_1,x_2 &\\geq 0\n",
        "\\end{align}\n",
        "\n",
        "Then introduce slack varibles $s_1$ to $s_3$ ：\n",
        "\n",
        "\\begin{align}\n",
        "  x_1+x_2+s_1 &= 1\\\\\n",
        "  -2x_1+x_2+s_2 &= 1/4\\\\\n",
        "  x_1-x_2+s_3 &= 1/2\\\\\n",
        "  x_1,x_2 &\\geq 0\\\\\n",
        "  s_1,s_2,s_3 &\\geq 0\n",
        "\\end{align}\n",
        "\n",
        "Substitute $x_2$ with $1/4+2x_1-s_2$:\n",
        "\\begin{align}\n",
        "  x_1+1/4+2x_1-s_2+s_1 &= 1\\\\\n",
        "  x_1-1/4-2x_1+s_2+s_3 &= 1/2\\\\\n",
        "  x_1,x_2 &\\geq 0\\\\\n",
        "  s_1,s_2,s_3 &\\geq 0\n",
        "\\end{align}\n",
        "\n",
        "Simplify:\n",
        "\\begin{align}\n",
        "  3x_1+s_1-s_2 &= 3/4\\\\\n",
        "  -x_1+s_2+s_3 &= 3/4\\\\\n",
        "  x_1,x_2 &\\geq 0\\\\\n",
        "  s_1,s_2,s_3 &\\geq 0\n",
        "\\end{align}\n"
      ],
      "metadata": {
        "id": "xiz076BDDD_9"
      }
    },
    {
      "cell_type": "markdown",
      "source": [
        "(iii) \n",
        "\n",
        "The size of the sketch correspond to each of the equations as the constrains. Every edge of the polygon is a constrain expressed as inequalities. "
      ],
      "metadata": {
        "id": "kkKeuxnFV5_h"
      }
    },
    {
      "cell_type": "markdown",
      "source": [
        "(iv) Find all basic feasible solutions\n"
      ],
      "metadata": {
        "id": "2HIVc-l-WHsw"
      }
    },
    {
      "cell_type": "markdown",
      "source": [
        "Q6 find extreme points by finding all basic feasible solutions\n",
        "\\begin{align}\n",
        "  x_1+x_2+x_3+x_4 &= 1\\\\\n",
        "  x_1+2x_2+x_3 &= 1\\\\\n",
        "  x_1,x_2,x_3,x_4 &\\geq 0\\\\\n",
        "\\end{align}\n",
        "\n"
      ],
      "metadata": {
        "id": "ubsaxlOyZPwE"
      }
    },
    {
      "cell_type": "markdown",
      "source": [
        "Because there are four variables but two constrains, we need to have m-n non basic variables, which gives us 2 non basic varibales and 2 basic variables.\n",
        "\n",
        "We can set two of $x_1, x_2, x_3$ and $x_4 = $ zero, and obtain all basic solutions accordingly. \n",
        "\n",
        "There are 6 cases in total to set them into basic and non-basic variables. \n"
      ],
      "metadata": {
        "id": "ftnrjofMZnwY"
      }
    },
    {
      "cell_type": "markdown",
      "source": [
        "1. $x_1 = 0, x_2 =0$\n",
        "\n",
        "\\begin{align}\n",
        "  x_3+x_4 &= 1\\\\\n",
        "  x_3 &= 1\\\\\n",
        "\\end{align}\n",
        "Therefore, we get: \n",
        "\\begin{align}\n",
        "  x_3 &= 1\\\\\n",
        "  x_4 &= 0\\\\\n",
        "\\end{align}\n",
        "which is a feasible solution: $(0,0,1,0)$\n",
        "\n",
        "2. $x_1 = 0, x_3 =0$\n",
        "\n",
        "\\begin{align}\n",
        "  x_2+x_4 &= 1\\\\\n",
        "  2x_2 &= 1\\\\\n",
        "\\end{align}\n",
        "Therefore, we get:\n",
        "\\begin{align}\n",
        "  x_2 &= 1/2\\\\\n",
        "  x_4 &= 1/2\\\\\n",
        "\\end{align}\n",
        "which is a basic feasible solution.\n",
        "\n",
        "3. $x_1 = 0, x_4 =0$\n",
        "\\begin{align}\n",
        "  x_2+x_3 &= 1\\\\\n",
        "  2x_2+x_3 &= 1\\\\\n",
        "\\end{align}\n",
        "Therefore, we get: \n",
        "\n",
        "\\begin{align}\n",
        "  x_2 &= 0\\\\\n",
        "  x_3 &= 1\\\\\n",
        "\\end{align}\n",
        "which is a feasible solution: $(0,0,1,0)$ which is the same set as case 1\n",
        "\n",
        "\n",
        "\n",
        "4. $x_2 = 0, x_3 =0$\n",
        "\\begin{align}\n",
        "  x_1+x_4 &= 1\\\\\n",
        "  x_1+ &= 1\\\\\n",
        "\\end{align}\n",
        "Therefore, we get: \n",
        "\\begin{align}\n",
        "  x_1 &= 1\\\\\n",
        "  x_4 &= 0\\\\\n",
        "\\end{align}\n",
        "which is a feasible solution: $(1,0,0,0)$\n",
        "\n",
        "\n",
        "#???\n",
        "5. $x_2 = 0, x_4 =0$\n",
        "\\begin{align}\n",
        "  x_1+x_3 &= 1\\\\\n",
        "  x_1+x_3 &= 1\\\\\n",
        "\\end{align}\n",
        "In this case, we have infinite solution.\n",
        "So we need to introduce another variable:\n",
        "\\begin{align}\n",
        "  x_1 &= m\\\\\n",
        "  x_4 &= 1-m\\\\\n",
        "\\end{align}\n",
        "which is a feasible solution for m is in (1,0).\n",
        "\n",
        "6. $x_3 = 0, x_4 =0$\n",
        "\\begin{align}\n",
        "  x_1+x_2 &= 1\\\\\n",
        "  x_1+2x_2 &= 1\\\\\n",
        "\\end{align}\n",
        "Therefore, we get: \n",
        "\\begin{align}\n",
        "  x_1 &= 1\\\\\n",
        "  x_2 &= 0\\\\\n",
        "\\end{align}\n",
        "which is a feasible solution: $(1,0,0,0)$ which is the same set as case 4\n"
      ],
      "metadata": {
        "id": "dJwFYKH6a3Rl"
      }
    },
    {
      "cell_type": "markdown",
      "source": [
        "All 6 cases are feasible solutions. However, these cases are slightly different. \n",
        "\n",
        "Case 2 is the most obvious, where we have:\n",
        "\\begin{align}\n",
        "  x_1 &= 0\\\\\n",
        "  x_2 &= 1/2\\\\\n",
        "  x_3 &= 0\\\\\n",
        "  x_4 &= 1/2\\\\\n",
        "\\end{align}\n",
        "which gives us $(0,1/2,0,1/2)$\n",
        "\n",
        "case 1 and case 3 obtains the same set of solution $(0,0,1,0)$;\n",
        "\n",
        "case 4 and case 6 obtains the same set of solution $(1,0,0,0)$.\n",
        "\n",
        "case 5 is a special case where we have infinite solutions. The possible values for $x_1$ and $x_3$ slides on the edge of $[1,0]$, which means that it is not the extreme point, but a line of the polygon that reaches case 1 and 3. \n",
        "\n",
        "Therefore, all the basic feasible solutions are:\n",
        "$(1,0,0,0), (0,0,1,0), (0,1/2,0,1/2)$"
      ],
      "metadata": {
        "id": "45w6IpnOeG0o"
      }
    }
  ]
}