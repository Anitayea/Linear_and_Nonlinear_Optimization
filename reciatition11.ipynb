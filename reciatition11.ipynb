{
  "nbformat": 4,
  "nbformat_minor": 0,
  "metadata": {
    "colab": {
      "name": "reciatition11.ipynb",
      "provenance": [],
      "collapsed_sections": [],
      "include_colab_link": true
    },
    "kernelspec": {
      "name": "python3",
      "display_name": "Python 3"
    },
    "language_info": {
      "name": "python"
    }
  },
  "cells": [
    {
      "cell_type": "markdown",
      "metadata": {
        "id": "view-in-github",
        "colab_type": "text"
      },
      "source": [
        "<a href=\"https://colab.research.google.com/github/Anitayea/Linear_and_Nonlinear_Optimization/blob/recitations/reciatition11.ipynb\" target=\"_parent\"><img src=\"https://colab.research.google.com/assets/colab-badge.svg\" alt=\"Open In Colab\"/></a>"
      ]
    },
    {
      "cell_type": "markdown",
      "source": [
        "# Recitation 11 (only 50 mins)\n",
        "\n",
        "START: 12:10 EST\n",
        "*   HW 4\n",
        "\n"
      ],
      "metadata": {
        "id": "1zEwHkhstDus"
      }
    },
    {
      "cell_type": "markdown",
      "source": [
        "1. Feasible directions in unit circle.\n",
        "when $x$ is an interior point, then all directions are feasible directsion.\n",
        "When $x$ is on the boundary $u$ is a feasible direction if $u^Tx<0$"
      ],
      "metadata": {
        "id": "v9OuJw1XtMW7"
      }
    },
    {
      "cell_type": "markdown",
      "source": [
        "\n",
        "2. $\\min f(x) = c^Tx$ such that $x \\geq 0$ and $Ax \\leq b$\n",
        "\n",
        "(a) 1st order necessary optimality conditions:\n",
        "\n",
        "$\\nabla f(x^*)^Tu > 0$  for all feasible directions\n",
        "\n",
        "$\\nabla f(x^*) = c$\n",
        "\n",
        "(b) $x \\not = x^*$ show that $u = x-x^*$ is feasible\n",
        "\n",
        "The constraint is linear so the feasible region is convex.\n",
        "\n",
        "More explicitly we have $x,x^* \\geq 0$ and $Ax, Ax^* \\leq b$ so by linearity, for all $t\\in[0,1]$ we have that $tx+(1-t)x^* \\in \\Omega$ \n",
        "\n",
        "(c) Show that the necessary cond in (a) is also sufficient: $c^Tu = c^T(x-x^*) = f(x) - f(x^*) \\geq 0 \\implies f(x) \\geq f(x^*) \\quad \\forall x$\n"
      ],
      "metadata": {
        "id": "iv-XNpR9tXCr"
      }
    },
    {
      "cell_type": "markdown",
      "source": [
        "\n",
        "3. $\\Omega = \\{x \\in R^2 : x_1 + x_2 \\geq 1\\}, \\quad f(x) = e^{x_1} + 2e^{x_2}$\n",
        "\n",
        "(a) feasible directions? \n",
        "\n",
        "interior: any direction\n",
        "\n",
        "boundary: $u_1 + u_2 \\geq 0$\n",
        "\n",
        "(b) Necessary cond. to be a local min: \n",
        "\n",
        "interior: $\\nabla f(x^*) = 0$, $\\partial_{x_1} f = \\partial_{x_2} f = 0$\n",
        "\n",
        "boundary: $\\nabla f(x^*)^T u \\geq 0$ for all feasible $u$\n",
        "\n",
        "can there be a local in in the interior? There cannot be because if you are not on the boundary either $x_1$ or $x_2$ can be reduced. This follows from the fact that $f$ is increasing with $x_1$ and $x_2$\n",
        "\n",
        "(c) show that for points on the boundary, this can be expressed as $\\partial_{x_1} f(x^*) = \\partial_{x_2} f(x^*) \\geq 0$\n",
        "\n",
        "We have $\\nabla f(x^*)^T u \\geq 0$ hold $\\forall u$ s.t. $u_1 + u_2 \\geq 0$ so in particular we can take $(1,0)$ or $(0,1)$ and this gives that each partial must be greater than or equal to 0. Now we need to show that they are in fact equal.\n",
        "\n",
        "\n",
        "\n",
        "(d) show that $f =e^{x_1} + 2e^{x_2}$ is convex. What is the global min on $\\Omega = \\{x \\in R^2 : x_1 + x_2 \\geq 1\\}$?\n",
        "\n",
        "convexity: The Hessian is [[$e^{x_1}$ , 0][0, $2e^{x_2}$]] which is symmetric positive (semi)definite because the eignvalues are $e^{x_1}$ and $2e^{x_2}$ these are positive. \n",
        "\n",
        "global min: The derivatives have to be equal so $e^{x_1} = 2e^{x_2}$ and we know it is a boundary point from part (a) which implies $x_1 + x_2 = 1$. This sets up a system of equations whose solution is \n",
        "\n",
        "$x_1 = (1+ ln 2)/2$ and $x_2 = (1- ln 2)/2$"
      ],
      "metadata": {
        "id": "S_3_-0h4tYot"
      }
    },
    {
      "cell_type": "markdown",
      "source": [
        "\n",
        "4.\n",
        "\n",
        "(a) Show the following are convex:\n",
        "1. $f(x) = x\\log x$  for $x> 0$\n",
        "\n",
        "$f'(x) = 1 + \\log x$\n",
        "\n",
        "$f''(x) = 1/x > 0 \\quad \\forall x>0$ so $f$ is convex\n",
        "\n",
        "(b)"
      ],
      "metadata": {
        "id": "_8saPp7HtZfJ"
      }
    },
    {
      "cell_type": "markdown",
      "source": [
        "5.\n",
        "(a)\n",
        "(b)"
      ],
      "metadata": {
        "id": "rgPh9YHttad7"
      }
    }
  ]
}