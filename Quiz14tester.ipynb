{
  "nbformat": 4,
  "nbformat_minor": 0,
  "metadata": {
    "colab": {
      "name": "Quiz14tester.ipynb",
      "provenance": [],
      "authorship_tag": "ABX9TyP/bLFKMockXNr0vy8TQsSp",
      "include_colab_link": true
    },
    "kernelspec": {
      "name": "python3",
      "display_name": "Python 3"
    },
    "language_info": {
      "name": "python"
    }
  },
  "cells": [
    {
      "cell_type": "markdown",
      "metadata": {
        "id": "view-in-github",
        "colab_type": "text"
      },
      "source": [
        "<a href=\"https://colab.research.google.com/github/Anitayea/Linear_and_Nonlinear_Optimization/blob/main/Quiz14tester.ipynb\" target=\"_parent\"><img src=\"https://colab.research.google.com/assets/colab-badge.svg\" alt=\"Open In Colab\"/></a>"
      ]
    },
    {
      "cell_type": "code",
      "execution_count": 4,
      "metadata": {
        "colab": {
          "base_uri": "https://localhost:8080/"
        },
        "id": "Po92Y9Yp04gl",
        "outputId": "90febd43-8824-443b-bf60-c70ea1b75d81"
      },
      "outputs": [
        {
          "output_type": "stream",
          "name": "stdout",
          "text": [
            "Requirement already satisfied: gurobipy in /usr/local/lib/python3.7/dist-packages (9.5.1)\n"
          ]
        }
      ],
      "source": [
        "!pip install gurobipy\n",
        "import gurobipy as grb\n",
        "import numpy as np"
      ]
    },
    {
      "cell_type": "code",
      "source": [
        "A = np.array([[1,-1,0], [1,0,-2]])\n",
        "b = np.array([3,1])\n",
        "c = np.array([1,1,0])"
      ],
      "metadata": {
        "id": "AApvu_8c09Ed"
      },
      "execution_count": 26,
      "outputs": []
    },
    {
      "cell_type": "code",
      "source": [
        "m2 = grb.Model('p1')\n",
        "x2 = m2.addMVar(shape = c.shape)\n",
        "m2.setObjective(c@x2,grb.GRB.MINIMIZE)\n",
        "constrain2 = m2.addConstr(A@x2 >= b)\n",
        "m2.optimize()\n",
        "print(m2.getAttr('x'))\n",
        "print(m2.getAttr('pi'))"
      ],
      "metadata": {
        "colab": {
          "base_uri": "https://localhost:8080/"
        },
        "id": "zLFjYN2e1SS4",
        "outputId": "32901bd8-1f51-4f1d-ef42-b23f45f18c8e"
      },
      "execution_count": 27,
      "outputs": [
        {
          "output_type": "stream",
          "name": "stdout",
          "text": [
            "Gurobi Optimizer version 9.5.1 build v9.5.1rc2 (linux64)\n",
            "Thread count: 1 physical cores, 2 logical processors, using up to 2 threads\n",
            "Optimize a model with 2 rows, 3 columns and 4 nonzeros\n",
            "Model fingerprint: 0x84838ca7\n",
            "Coefficient statistics:\n",
            "  Matrix range     [1e+00, 2e+00]\n",
            "  Objective range  [1e+00, 1e+00]\n",
            "  Bounds range     [0e+00, 0e+00]\n",
            "  RHS range        [1e+00, 3e+00]\n",
            "Presolve removed 2 rows and 3 columns\n",
            "Presolve time: 0.01s\n",
            "Presolve: All rows and columns removed\n",
            "Iteration    Objective       Primal Inf.    Dual Inf.      Time\n",
            "       0    3.0000000e+00   0.000000e+00   0.000000e+00      0s\n",
            "\n",
            "Solved in 0 iterations and 0.02 seconds (0.00 work units)\n",
            "Optimal objective  3.000000000e+00\n",
            "[3.0, 0.0, 0.0]\n",
            "[1.0, 0.0]\n"
          ]
        }
      ]
    },
    {
      "cell_type": "code",
      "source": [
        "v = np.array( [[0, 2],[1,3],[0,3]]) @ np.array([2, 5])"
      ],
      "metadata": {
        "id": "sGmJShXU6eoQ"
      },
      "execution_count": 13,
      "outputs": []
    }
  ]
}