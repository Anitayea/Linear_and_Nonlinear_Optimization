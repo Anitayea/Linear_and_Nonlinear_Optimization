{
  "nbformat": 4,
  "nbformat_minor": 0,
  "metadata": {
    "colab": {
      "name": "HW3draft.ipynb",
      "provenance": [],
      "authorship_tag": "ABX9TyPpoCvj53wmW1/H2Whfbk/C",
      "include_colab_link": true
    },
    "kernelspec": {
      "name": "python3",
      "display_name": "Python 3"
    },
    "language_info": {
      "name": "python"
    }
  },
  "cells": [
    {
      "cell_type": "markdown",
      "metadata": {
        "id": "view-in-github",
        "colab_type": "text"
      },
      "source": [
        "<a href=\"https://colab.research.google.com/github/Anitayea/Linear_and_Nonlinear_Optimization/blob/main/HW3draft.ipynb\" target=\"_parent\"><img src=\"https://colab.research.google.com/assets/colab-badge.svg\" alt=\"Open In Colab\"/></a>"
      ]
    },
    {
      "cell_type": "code",
      "execution_count": null,
      "metadata": {
        "id": "FDk-ERFMgC0L"
      },
      "outputs": [],
      "source": [
        ""
      ]
    },
    {
      "cell_type": "markdown",
      "source": [
        "Consider a zero-sum game with $\\pi_ij$ matrix  ij where I =\n",
        "J = f1; :::; ng. Assume  ij is antisymmetic:  ij = 􀀀 ji."
      ],
      "metadata": {
        "id": "LKgQ5GuAgY4S"
      }
    }
  ]
}