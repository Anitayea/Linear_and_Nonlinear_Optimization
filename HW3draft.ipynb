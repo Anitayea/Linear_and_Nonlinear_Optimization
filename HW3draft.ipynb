{
  "nbformat": 4,
  "nbformat_minor": 0,
  "metadata": {
    "colab": {
      "name": "HW3draft.ipynb",
      "provenance": [],
      "authorship_tag": "ABX9TyMHyFd9vMxCS7mPwlZckABJ",
      "include_colab_link": true
    },
    "kernelspec": {
      "name": "python3",
      "display_name": "Python 3"
    },
    "language_info": {
      "name": "python"
    }
  },
  "cells": [
    {
      "cell_type": "markdown",
      "metadata": {
        "id": "view-in-github",
        "colab_type": "text"
      },
      "source": [
        "<a href=\"https://colab.research.google.com/github/Anitayea/Linear_and_Nonlinear_Optimization/blob/main/HW3draft.ipynb\" target=\"_parent\"><img src=\"https://colab.research.google.com/assets/colab-badge.svg\" alt=\"Open In Colab\"/></a>"
      ]
    },
    {
      "cell_type": "markdown",
      "source": [
        "Consider a zero-sum game with payoff matrix $\\prod_{ij}$ where I =\n",
        "J = {1,...,n}. Assume $\\prod_{ij}$ is antisymmetric: $\\prod_{ij} = - \\prod_{ji}$ "
      ],
      "metadata": {
        "id": "LKgQ5GuAgY4S"
      }
    },
    {
      "cell_type": "markdown",
      "source": [
        "(i) Show that if the game has an equilbrium in pure strategy, then the value of the game for both players is zero."
      ],
      "metadata": {
        "id": "og87cp8764M9"
      }
    },
    {
      "cell_type": "markdown",
      "source": [
        "If the game has equilibrium in pure strategy,\n",
        "\n",
        "$j^* = J(i^*), i^* = I(j^*)$, and \n",
        "\n",
        "$ \\prod _{i*j*} = min_j \\prod_{i*j} = max_i \\prod_{ij*} $\n",
        "\n",
        "$\\because min_j \\prod_{i*j} = min_j max_i \\prod_{ij}$\n",
        "\n",
        "$max_i \\prod_{ij*} = max_i min_j \\prod_{ij}$\n",
        "\n",
        "$\\therefore min_j max_i \\prod_{ij} = max_i min_j \\prod_{ij}$\n",
        "\n",
        "\n",
        "since it is a zero sum game, player 1's payoff is $\\prod_{ij}$ and player 2's payoff is $-\\prod_{ij}$\n",
        "\n",
        "since the matrix is antisymmetric,\n",
        "\n",
        "$\\prod_{ij} = - \\prod_{ji}$\n",
        "\n",
        "$\\because I=J$\n",
        "\n",
        "$\\therefore m=n,$ full rank\n",
        "\n",
        "$\\because$ equilibrium\n",
        "\n",
        "$\\therefore \\prod _{i*j*} = min_j \\prod_{i*j} = max_j \\prod_{ij*} $\n",
        "\n",
        "$\\therefore min_j \\prod_{i*j} = - min_j \\prod_{ij*} $\n",
        "\n",
        "$\\because \\prod_{ij} = - \\prod_{ji}$\n",
        "\n",
        "$\\therefore  \\prod_{ij} = - \\prod_{ij} $\n",
        "\n",
        "Therefore, payoffs of 1 and 2 are the same and =0\n",
        "\n",
        "\n",
        "$\\therefore -\\prod_{ji} = -\\prod_{ij} = 0$\n",
        "\n",
        "\n",
        "\n",
        "\\\\\n",
        "\n",
        "From the question:\n",
        "\n",
        "$\\because \\prod_{ij} = - \\prod_{ji}$\n",
        "\n",
        "$ min \\prod_{ij} = -min\\prod_{ji} = max \\prod_{ji}$\n",
        "\n",
        "To satisfy both the antisymmetric and the equilibrium,\n",
        "\n",
        "$\\therefore i^* = j^* = 0$\n",
        "\n",
        "\n",
        "\n",
        "#---\n",
        "\n",
        "$\\because I=J$\n",
        "\n",
        "$\\therefore$ matrix is full rank with $m=n$\n",
        "\n",
        "$\\because \\prod_{ij} = - \\prod_{ji}$\n",
        "\n",
        "$\\therefore \\prod _{i*j*} = - \\prod_{j*i*}$\n",
        "\n",
        "$ min_j \\prod_{i*j} = max_j \\prod_{ij*}$\n",
        "\n",
        "\n",
        "\n",
        "\n",
        "\n",
        "\n",
        "\\begin{align}\n",
        "  min \\quad 2x_1 + 3x_2 &-x_3\\\\\n",
        "  s.t. \\quad x_1+x_2 &\\leq 1\\\\\n",
        "  x_3 &\\leq 2\\\\\n",
        "\\end{align}\n"
      ],
      "metadata": {
        "id": "tQgWK3iE7Q0C"
      }
    },
    {
      "cell_type": "markdown",
      "source": [
        "(ii) Show that the game has an equilibrium in pure strategy if and only if there is a $i^*$ such that $\\prod_{i^*j} \\geq 0 \\quad \\forall j$"
      ],
      "metadata": {
        "id": "MfgrtQtj93wp"
      }
    },
    {
      "cell_type": "markdown",
      "source": [
        "(iii) Show that the value to player 1 of the game in a mixed strategy is zero"
      ],
      "metadata": {
        "id": "2ouUK1FnIxNg"
      }
    },
    {
      "cell_type": "markdown",
      "source": [
        "(iv) Use gurobi if needed, compute an equilibrium in mixed strategy"
      ],
      "metadata": {
        "id": "TRwuhLgFKwtI"
      }
    }
  ]
}