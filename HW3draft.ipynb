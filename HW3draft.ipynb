{
  "nbformat": 4,
  "nbformat_minor": 0,
  "metadata": {
    "colab": {
      "name": "HW3draft.ipynb",
      "provenance": [],
      "authorship_tag": "ABX9TyNd4WcTTnH5bGEF1OawsvR8",
      "include_colab_link": true
    },
    "kernelspec": {
      "name": "python3",
      "display_name": "Python 3"
    },
    "language_info": {
      "name": "python"
    }
  },
  "cells": [
    {
      "cell_type": "markdown",
      "metadata": {
        "id": "view-in-github",
        "colab_type": "text"
      },
      "source": [
        "<a href=\"https://colab.research.google.com/github/Anitayea/Linear_and_Nonlinear_Optimization/blob/main/HW3draft.ipynb\" target=\"_parent\"><img src=\"https://colab.research.google.com/assets/colab-badge.svg\" alt=\"Open In Colab\"/></a>"
      ]
    },
    {
      "cell_type": "markdown",
      "source": [
        "Consider a zero-sum game with payoff matrix $\\prod_{ij}$ where I =\n",
        "J = {1,...,n}. Assume $\\prod_{ij}$ is antisymmetric: $\\prod_{ij} = - \\prod_{ji}$ "
      ],
      "metadata": {
        "id": "LKgQ5GuAgY4S"
      }
    },
    {
      "cell_type": "markdown",
      "source": [
        "(i) Show that if the game has an equilbrium in pure strategy, then the value of the game for both players is zero."
      ],
      "metadata": {
        "id": "og87cp8764M9"
      }
    },
    {
      "cell_type": "markdown",
      "source": [
        "To prove that the game has equilibrium, \n",
        "\n",
        "$ \\prod _{i*j*} = min_j \\prod_{i*j} = max_j \\prod-{ij*} $\n",
        "\n",
        "$\\because \\prod_{ij} = - \\prod_{ji}$\n",
        "\n"
      ],
      "metadata": {
        "id": "tQgWK3iE7Q0C"
      }
    },
    {
      "cell_type": "markdown",
      "source": [
        "(ii) Shwo that the game has an equilibrium in pure strategy, then the value of the game for both players is zero."
      ],
      "metadata": {
        "id": "MfgrtQtj93wp"
      }
    }
  ]
}