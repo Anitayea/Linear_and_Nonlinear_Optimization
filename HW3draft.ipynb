{
  "nbformat": 4,
  "nbformat_minor": 0,
  "metadata": {
    "colab": {
      "name": "HW3draft.ipynb",
      "provenance": [],
      "authorship_tag": "ABX9TyNmAiAS47ioIRj4L8yJexAj",
      "include_colab_link": true
    },
    "kernelspec": {
      "name": "python3",
      "display_name": "Python 3"
    },
    "language_info": {
      "name": "python"
    }
  },
  "cells": [
    {
      "cell_type": "markdown",
      "metadata": {
        "id": "view-in-github",
        "colab_type": "text"
      },
      "source": [
        "<a href=\"https://colab.research.google.com/github/Anitayea/Linear_and_Nonlinear_Optimization/blob/main/HW3draft.ipynb\" target=\"_parent\"><img src=\"https://colab.research.google.com/assets/colab-badge.svg\" alt=\"Open In Colab\"/></a>"
      ]
    },
    {
      "cell_type": "markdown",
      "source": [
        "Consider a zero-sum game with payoff matrix $\\prod_{ij}$ where I =\n",
        "J = {1,...,n}. Assume $\\prod_{ij}$ is antisymmetric: $\\prod_{ij} = - \\prod_{ji}$ "
      ],
      "metadata": {
        "id": "LKgQ5GuAgY4S"
      }
    },
    {
      "cell_type": "markdown",
      "source": [
        "(i) Show that if the game has an equilbrium in pure strategy, then the value of the game for both players is zero."
      ],
      "metadata": {
        "id": "og87cp8764M9"
      }
    },
    {
      "cell_type": "markdown",
      "source": [
        "If the game has equilibrium in pure strategy,\n",
        "\n",
        "$j^* = J(i^*), i^* = I(j^*)$, and \n",
        "\n",
        "$ \\prod _{i*j*} = min_j \\prod_{i*j} = max_i \\prod_{ij*} $\n",
        "\n",
        "$\\because min_j \\prod_{i*j} = min_j max_i \\prod_{ij}$\n",
        "\n",
        "$max_i \\prod_{ij*} = max_i min_j \\prod_{ij}$\n",
        "\n",
        "$\\therefore min_j max_i \\prod_{ij} = max_i min_j \\prod_{ij}$\n",
        "\n",
        "\n",
        "since it is a zero sum game, player 1's payoff is $\\prod_{ij}$ and player 2's payoff is $-\\prod_{ij}$\n",
        "\n",
        "since the matrix is antisymmetric,\n",
        "\n",
        "$\\prod_{ij} = - \\prod_{ji}$\n",
        "\n",
        "$\\because I=J$\n",
        "\n",
        "$\\therefore m=n,$ full rank\n",
        "\n",
        "$\\because$ equilibrium\n",
        "\n",
        "$\\therefore \\prod _{i*j*} = min_j \\prod_{i*j} = max_j \\prod_{ij*} $\n",
        "\n",
        "$\\therefore min_j \\prod_{i*j} = - min_j \\prod_{ij*} $\n",
        "\n",
        "$\\because \\prod_{ij} = - \\prod_{ji}$\n",
        "\n",
        "$\\therefore  \\prod_{ij} = - \\prod_{ij} $\n",
        "\n",
        "Therefore, payoffs of 1 and 2 are the same and =0\n",
        "\n",
        "\n",
        "$\\therefore -\\prod_{ji} = -\\prod_{ij} = 0$\n",
        "\n",
        "\n",
        "\n",
        "\\\\\n",
        "\n",
        "From the question:\n",
        "\n",
        "$\\because \\prod_{ij} = - \\prod_{ji}$\n",
        "\n",
        "$ min \\prod_{ij} = -min\\prod_{ji} = max \\prod_{ji}$\n",
        "\n",
        "To satisfy both the antisymmetric and the equilibrium,\n",
        "\n",
        "$\\therefore i^* = j^* = 0$\n",
        "\n",
        "\n",
        "\n",
        "#---\n",
        "\n",
        "$\\because I=J$\n",
        "\n",
        "$\\therefore$ matrix is full rank with $m=n$\n",
        "\n",
        "$\\because \\prod_{ij} = - \\prod_{ji}$\n",
        "\n",
        "$\\therefore \\prod _{i*j*} = - \\prod_{j*i*}$\n",
        "\n",
        "$ min_j \\prod_{i*j} = max_j \\prod_{ij*}$\n",
        "\n",
        "\n",
        "\n",
        "\n",
        "\n",
        "\n",
        "\\begin{align}\n",
        "  min \\quad 2x_1 + 3x_2 &-x_3\\\\\n",
        "  s.t. \\quad x_1+x_2 &\\leq 1\\\\\n",
        "  x_3 &\\leq 2\\\\\n",
        "\\end{align}\n"
      ],
      "metadata": {
        "id": "tQgWK3iE7Q0C"
      }
    },
    {
      "cell_type": "markdown",
      "source": [
        "(ii) Show that the game has an equilibrium in pure strategy if and only if there is a $i^*$ such that $\\prod_{i^*j} \\geq 0 \\quad \\forall j$"
      ],
      "metadata": {
        "id": "MfgrtQtj93wp"
      }
    },
    {
      "cell_type": "markdown",
      "source": [
        "(iii) Show that the value to player 1 of the game in a mixed strategy is zero"
      ],
      "metadata": {
        "id": "2ouUK1FnIxNg"
      }
    },
    {
      "cell_type": "markdown",
      "source": [
        "(iv) Use gurobi if needed, compute an equilibrium in mixed *strategy*"
      ],
      "metadata": {
        "id": "TRwuhLgFKwtI"
      }
    },
    {
      "cell_type": "code",
      "source": [
        "!pip install gurobipy"
      ],
      "metadata": {
        "colab": {
          "base_uri": "https://localhost:8080/"
        },
        "id": "4BbgFiwgPEIt",
        "outputId": "61467c9e-2573-4c4b-b67d-3b8b10c6c235"
      },
      "execution_count": 1,
      "outputs": [
        {
          "output_type": "stream",
          "name": "stdout",
          "text": [
            "Collecting gurobipy\n",
            "  Downloading gurobipy-9.5.1-cp37-cp37m-manylinux2014_x86_64.whl (11.5 MB)\n",
            "\u001b[K     |████████████████████████████████| 11.5 MB 6.8 MB/s \n",
            "\u001b[?25hInstalling collected packages: gurobipy\n",
            "Successfully installed gurobipy-9.5.1\n"
          ]
        }
      ]
    },
    {
      "cell_type": "code",
      "source": [
        "import numpy as np\n",
        "import gurobipy as grb\n",
        "import scipy.sparse as spr\n",
        "import pandas as pd"
      ],
      "metadata": {
        "id": "54-iVcHsPGKq"
      },
      "execution_count": 2,
      "outputs": []
    },
    {
      "cell_type": "code",
      "source": [
        "Pi_i_j = np.array([[0, -3, -1, 2], \n",
        "                    [3, 0, 2, 5], \n",
        "                    [1, -2, 0, -1],\n",
        "                   [-2, -5, 1, 0]])\n",
        "Pi_i_j"
      ],
      "metadata": {
        "colab": {
          "base_uri": "https://localhost:8080/"
        },
        "id": "FUzv8q2TPCCt",
        "outputId": "e7b1fc2d-4ba5-419a-e5cd-386f36250a5b"
      },
      "execution_count": 5,
      "outputs": [
        {
          "output_type": "execute_result",
          "data": {
            "text/plain": [
              "array([[ 0, -3, -1,  2],\n",
              "       [ 3,  0,  2,  5],\n",
              "       [ 1, -2,  0, -1],\n",
              "       [-2, -5,  1,  0]])"
            ]
          },
          "metadata": {},
          "execution_count": 5
        }
      ]
    },
    {
      "cell_type": "code",
      "source": [
        "matrixgame_model = grb.Model()\n",
        "nbi,nbj = Pi_i_j.shape\n",
        "p_iv = matrixgame_model.addMVar(shape = nbi)\n",
        "sv = matrixgame_model.addMVar(1, lb = - grb.GRB.INFINITY )\n",
        "matrixgame_model.setObjective(sv, grb.GRB.MAXIMIZE)\n",
        "matrixgame_model.addConstr( np.ones( (nbj,1) ) @ sv - Pi_i_j.T @ p_iv   <=0  )\n",
        "matrixgame_model.addConstr( p_iv.sum()==1 )\n",
        "matrixgame_model.optimize() \n"
      ],
      "metadata": {
        "colab": {
          "base_uri": "https://localhost:8080/"
        },
        "id": "ZGeD44AWPXjL",
        "outputId": "e005c9b2-f01c-488a-fb05-68ae7130d02f"
      },
      "execution_count": 6,
      "outputs": [
        {
          "output_type": "stream",
          "name": "stdout",
          "text": [
            "Restricted license - for non-production use only - expires 2023-10-25\n",
            "Gurobi Optimizer version 9.5.1 build v9.5.1rc2 (linux64)\n",
            "Thread count: 1 physical cores, 2 logical processors, using up to 2 threads\n",
            "Optimize a model with 5 rows, 5 columns and 20 nonzeros\n",
            "Model fingerprint: 0x48b8a347\n",
            "Coefficient statistics:\n",
            "  Matrix range     [1e+00, 5e+00]\n",
            "  Objective range  [1e+00, 1e+00]\n",
            "  Bounds range     [0e+00, 0e+00]\n",
            "  RHS range        [1e+00, 1e+00]\n",
            "Presolve removed 1 rows and 1 columns\n",
            "Presolve time: 0.01s\n",
            "Presolved: 4 rows, 4 columns, 15 nonzeros\n",
            "\n",
            "Iteration    Objective       Primal Inf.    Dual Inf.      Time\n",
            "       0    3.0000000e+00   1.000000e+00   0.000000e+00      0s\n",
            "       1   -0.0000000e+00   0.000000e+00   0.000000e+00      0s\n",
            "\n",
            "Solved in 1 iterations and 0.02 seconds (0.00 work units)\n",
            "Optimal objective -0.000000000e+00\n"
          ]
        }
      ]
    },
    {
      "cell_type": "code",
      "source": [
        "p_i = np.array(matrixgame_model.getAttr('x'))[:-1]\n",
        "p_i"
      ],
      "metadata": {
        "colab": {
          "base_uri": "https://localhost:8080/"
        },
        "id": "XvPc21ZcPmKE",
        "outputId": "138aaddb-1079-4d48-e2c4-dafdedd1d5b5"
      },
      "execution_count": 7,
      "outputs": [
        {
          "output_type": "execute_result",
          "data": {
            "text/plain": [
              "array([0., 1., 0., 0.])"
            ]
          },
          "metadata": {},
          "execution_count": 7
        }
      ]
    },
    {
      "cell_type": "code",
      "source": [
        "q_j = np.array(matrixgame_model.getAttr('pi'))[:-1]\n",
        "q_j"
      ],
      "metadata": {
        "colab": {
          "base_uri": "https://localhost:8080/"
        },
        "id": "4nAxLiqwPmrz",
        "outputId": "374e4183-5290-4763-d737-a36d99eb5a53"
      },
      "execution_count": 8,
      "outputs": [
        {
          "output_type": "execute_result",
          "data": {
            "text/plain": [
              "array([0., 1., 0., 0.])"
            ]
          },
          "metadata": {},
          "execution_count": 8
        }
      ]
    },
    {
      "cell_type": "code",
      "source": [
        "np.array(matrixgame_model.getAttr('x'))[-1]"
      ],
      "metadata": {
        "colab": {
          "base_uri": "https://localhost:8080/"
        },
        "id": "CBBWCYJuPt-x",
        "outputId": "3ccc3cfe-5ef6-4ad2-df63-b1230faeb602"
      },
      "execution_count": 9,
      "outputs": [
        {
          "output_type": "execute_result",
          "data": {
            "text/plain": [
              "0.0"
            ]
          },
          "metadata": {},
          "execution_count": 9
        }
      ]
    },
    {
      "cell_type": "code",
      "source": [
        "np.array(matrixgame_model.getAttr('pi'))[-1]"
      ],
      "metadata": {
        "colab": {
          "base_uri": "https://localhost:8080/"
        },
        "id": "fC7Y0xR9PufO",
        "outputId": "c449d523-7e3c-4359-9521-c7e0184b7694"
      },
      "execution_count": 10,
      "outputs": [
        {
          "output_type": "execute_result",
          "data": {
            "text/plain": [
              "-0.0"
            ]
          },
          "metadata": {},
          "execution_count": 10
        }
      ]
    },
    {
      "cell_type": "markdown",
      "source": [
        "(v) Equilibrium in pure strategy?\n"
      ],
      "metadata": {
        "id": "OXJ07pWAP-Wv"
      }
    },
    {
      "cell_type": "markdown",
      "source": [
        "2.\n",
        "\n",
        "\\begin{align}\n",
        "  V_{12} = max_{p_i \\geq 0} \\quad &s\\\\\n",
        "  s.t. \\quad &s \\leq ∑_i pi\\prod_{ij} \\quad \\forall j \\in J\\\\\n",
        "  &∑_{i\\in I} p_i = 1 [t]\\\\\n",
        "\\end{align}"
      ],
      "metadata": {
        "id": "eGK9PzPNJjpw"
      }
    },
    {
      "cell_type": "markdown",
      "source": [
        "(a) let $x_i - p_i/s$\n",
        "\n",
        "\\begin{align}\n",
        "  V_{12} = \\quad &max_{x_i \\geq 0} \\quad s\\\\\n",
        "  s.t. \\quad &∑_{i \\in I} x_i\\prod_{ij} \\geq 1\\\\\n",
        "  &∑_{i\\in I} x_i = 1/s\\\\\n",
        "\\end{align}\n",
        "\n",
        "therefore:\n",
        "\n",
        "\\begin{align}\n",
        "  V_{12} = \\quad &max_{x_i \\geq 0} \\quad 1 / ∑_{i \\in I} x_i\\\\\n",
        "  s.t. \\quad &∑_{i \\in I} x_i\\prod_{ij} \\geq 1\\\\\n",
        "\\end{align}\n",
        "\n",
        "hence:\n",
        "\n",
        "\\begin{align}\n",
        "  1/V_{12} = \\quad &min_{x_i \\geq 0} \\quad ∑_{i \\in I} x_i\\\\\n",
        "  s.t. \\quad &∑_{i \\in I} x_i\\prod_{ij} \\geq 1\\\\\n",
        "\\end{align}\n"
      ],
      "metadata": {
        "id": "YCApYCt4KVvt"
      }
    },
    {
      "cell_type": "markdown",
      "source": [
        "b) compute the dual to(1) and show that it coincides with $min_{q\\in \\vartriangle_J} max_{q\\in \\vartriangle_I} p^T \\prod q$ \n",
        "\n",
        "The dual problem for $V_{12} = V_{21}:$\n",
        "\n",
        "\\begin{align}\n",
        "  1/V_{21} = \\quad &max_{y_j \\geq 0} \\quad ∑_{j \\in J} y_i\\\\\n",
        "  s.t. \\quad &∑_{j \\in J} y_i\\prod_{ij} \\leq 1\\\\\n",
        "\\end{align}\n",
        "\n",
        "since both LPs are feasible, by strong duality, they coincide, which means that $V_{21} = V_{12}$\n",
        "\n",
        "Denote $x^*$ to be the optimal solution to $V_{12}$ and $y^*$ to $V_{21}$, we have:\n",
        "\n",
        "$p_i^* = x_i^*/ ∑_{i \\in I}x_i^*, q_j^* = y_j^*/ ∑_{j \\in J}y_j^*$\n",
        "\n",
        "which gives us\n",
        "\n",
        "$(p^*)^T \\prod q^* = min_{q \\in \\vartriangle_J} (p^*)^T \\prod q = max_{p \\in \\vartriangle_I} p^T \\prod q^*$\n",
        "\n",
        "which means that there exist a optimal solution $(p^*, q^*) that is the equilibrium in mixed strategy."
      ],
      "metadata": {
        "id": "DmBueVN1MH-W"
      }
    },
    {
      "cell_type": "markdown",
      "source": [
        "(c) Deduce value of the game, and eq strategies"
      ],
      "metadata": {
        "id": "tM6djam7Oxsv"
      }
    },
    {
      "cell_type": "markdown",
      "source": [
        "min-cost flow \n",
        "\n",
        "primal:\n",
        "\n",
        "\\begin{align}\n",
        "  min_{\\mu \\geq 0} \\quad &\\mu^T c\\\\\n",
        "  s.t. \\quad &M \\mu = q\\\\\n",
        "\\end{align}\n",
        "\n",
        "dual:\n",
        "\n",
        "\\begin{align}\n",
        "  max_p \\quad &∑_{z\\in Z} q_z p_z\\\\\n",
        "  s.t. \\quad &M^Tp \\leq c\\\\\n",
        "\\end{align}"
      ],
      "metadata": {
        "id": "zmpuj0VMQaca"
      }
    },
    {
      "cell_type": "markdown",
      "source": [
        "3. There is a feasible sol for primal iff $∑_z q_z = 0$ and for every subset $B \\subseteq Z$ such that there is no $xy \\in A$ with $ x\\in B, y \\notin B$, we have $∑_{z\\in B} q_z \\geq 0$\n",
        "for a and b assume feasible sol for primal sol $\\mu$, $\\mu \\geq 0, M\\mu = q$\n",
        "\n",
        "\n",
        "see p 116 but I still dont understand"
      ],
      "metadata": {
        "id": "8yaSSFD9RHbm"
      }
    },
    {
      "cell_type": "markdown",
      "source": [
        "a) Show that $∑_{z\\in Z} q_z = 0$"
      ],
      "metadata": {
        "id": "oPJTFTYzR8Ks"
      }
    }
  ]
}