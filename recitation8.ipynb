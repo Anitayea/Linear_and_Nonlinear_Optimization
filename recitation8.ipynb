{
  "nbformat": 4,
  "nbformat_minor": 0,
  "metadata": {
    "colab": {
      "name": "recitation8.ipynb",
      "provenance": [],
      "include_colab_link": true
    },
    "kernelspec": {
      "name": "python3",
      "display_name": "Python 3"
    },
    "language_info": {
      "name": "python"
    }
  },
  "cells": [
    {
      "cell_type": "markdown",
      "metadata": {
        "id": "view-in-github",
        "colab_type": "text"
      },
      "source": [
        "<a href=\"https://colab.research.google.com/github/Anitayea/Linear_and_Nonlinear_Optimization/blob/recitations/recitation8.ipynb\" target=\"_parent\"><img src=\"https://colab.research.google.com/assets/colab-badge.svg\" alt=\"Open In Colab\"/></a>"
      ]
    },
    {
      "cell_type": "markdown",
      "source": [
        "# Recitation 8\n",
        "\n",
        "\n",
        "\n",
        "*   Homework 3 review"
      ],
      "metadata": {
        "id": "lkssAd6PaWbr"
      }
    },
    {
      "cell_type": "markdown",
      "source": [
        "## Homework 3"
      ],
      "metadata": {
        "id": "66Z-jFmJaejp"
      }
    },
    {
      "cell_type": "markdown",
      "source": [
        "1. This was the zero sum game question with anti-symmetric payoff matrix $\\Pi$\n",
        "\n",
        "(i) - If there is an equilibrium in pure strategy, then the payoff for each player is 0.\n",
        "\n",
        "ANSWER: Each player can replicate the other's move, i.e. \n",
        "$\\min_i \\max_j \\Pi_{ij} = \\max_j \\min_j \\Pi_{ij}$\n",
        "\n",
        "An important note is that the diagonal is 0 because we are anti-symmetric. If $i^*$ and $j^*$ are the equilibrium choices then we must have that \n",
        "\n",
        "$\\forall i,j \\quad \\Pi_{i^*j} \\geq \\Pi_{i^*j^*} \\geq \\Pi_{ij^*}$. Then just use  the fact that $\\exists i, j$ s.t. $\\Pi_{i^*j} = \\Pi_{ij^*} = 0$\n",
        "\n",
        "--\n",
        "\n",
        "(ii) There is an equilibrium in pure strategy iif $\\exists i^*$ s.t. $\\Pi_{i^*j} \\geq 0 \\quad \\forall j$\n",
        "\n",
        "ANSWER: We know that if there is an equilibrium then the payoff is zero. So if there wasn't such an $i$ then for any choice for player 1, player 2 can do better than 0. Conversley, if there is such a row $i^*$ then if player 1 picks that, player 2 can only do as good as 0, which we know is the equilibrium by (i).\n",
        "\n",
        "(iii) Show that the value to player 1 in Mixed strategy is 0.\n",
        "\n",
        "ANSWER: V = value of player 1, -V = value of player \n",
        "\n",
        "$V = \\min_p \\max_q p^T\\Pi q = \\max_q \\min_p p^T\\Pi q = \\max_p \\min_q q^T\\Pi^Tp = \\max_p \\min_q -q^T\\Pi p \\implies V = -V \\implies V = 0$\n",
        "\n",
        "--\n",
        "\n",
        "(iv) yes, (2,2)\n",
        "\n",
        "(v) no"
      ],
      "metadata": {
        "id": "PBtJRLC2ag5R"
      }
    },
    {
      "cell_type": "markdown",
      "source": [
        "2. $\\Pi > 0$ Zero sum game\n",
        "\n",
        "$V_{12}^m = \\max_p \\min_q p^T\\Pi q$\n",
        "\n",
        "\n",
        "\n",
        "$V_{12}^m = \\max_{pi\\geq 0\\\\s\\in R} s$\n",
        "\n",
        "s.t. $s\\leq \\sum p_i \\Pi_{ij}$\n",
        "\n",
        "$\\sum p_i = 1$\n",
        "\n",
        "(a) reformulate as \n",
        "$\\frac{1}{V_{12}^m} = \\min_{x_i\\geq 0} \\sum x_i$\n",
        "\n",
        "s.t. $\\sum x_i\\Pi_{ij} \\geq 1$\n",
        "\n",
        "ANSWER: Max s is the same as min $\\frac{1}{s}$ (the s will be the same)\n",
        "\n",
        "then $1 = \\sum p_i$ substitute into the min we get $\\min \\frac{\\sum p_i}{s}$. Set $x_i = \\frac{p_i}{s}$ then we get \n",
        "\n",
        "$\\min \\sum x_i$. Dividing the inequality constraint by $s$ yields the correct constraint. \n",
        "\n",
        "\n",
        "\\begin{align}\n",
        "\\min_{x_i\\geq 0} \\sum x_i = x^T1\\\\\n",
        "\\text{s.t. }\\sum x_i\\Pi_{ij} \\geq 1\n",
        "\\end{align}\n",
        "(b) compute the dual\n",
        "\n",
        "\\begin{align}\n",
        "\\max_{y_j\\geq 0} \\sum y_j = y^T1\\\\\n",
        "\\text{s.t. } \\sum \\Pi_{ij}^Ty_j \\leq 1\n",
        "\\end{align}\n",
        "\n",
        "(c)"
      ],
      "metadata": {
        "id": "s6MfgWYueRWx"
      }
    },
    {
      "cell_type": "code",
      "source": [
        "!pip install gurobipy"
      ],
      "metadata": {
        "colab": {
          "base_uri": "https://localhost:8080/"
        },
        "id": "GBORTxarnlig",
        "outputId": "7b9d0b9d-e99c-4644-9f81-822207081bc8"
      },
      "execution_count": null,
      "outputs": [
        {
          "output_type": "stream",
          "name": "stdout",
          "text": [
            "Collecting gurobipy\n",
            "  Downloading gurobipy-9.5.1-cp37-cp37m-manylinux2014_x86_64.whl (11.5 MB)\n",
            "\u001b[K     |████████████████████████████████| 11.5 MB 4.7 MB/s \n",
            "\u001b[?25hInstalling collected packages: gurobipy\n",
            "Successfully installed gurobipy-9.5.1\n"
          ]
        }
      ]
    },
    {
      "cell_type": "code",
      "source": [
        "import numpy as np\n",
        "import gurobipy as grb"
      ],
      "metadata": {
        "id": "Ltdb2eOtnxtE"
      },
      "execution_count": null,
      "outputs": []
    },
    {
      "cell_type": "code",
      "source": [
        "Pi_i_j = np.array([[3,2,7,5],\n",
        "[10,8,3,1],\n",
        "[2,9,4,6],\n",
        "[4,5,1,7]])\n",
        "\n",
        "m = grb.Model()\n",
        "m.Params.OutputFlag = 0\n",
        "nbi, nbj = Pi_i_j.shape\n",
        "x = m.addMVar(shape = nbi)\n",
        "m.setObjective(x.sum(), grb.GRB.MINIMIZE)\n",
        "m.addConstr(Pi_i_j.T @ x >= np.ones(nbj))\n",
        "m.optimize()"
      ],
      "metadata": {
        "id": "CldY_A-Un3xY"
      },
      "execution_count": null,
      "outputs": []
    },
    {
      "cell_type": "code",
      "source": [
        "xstar = np.array(m.getAttr('x'))\n",
        "ystar = np.array(m.getAttr('pi'))\n",
        "s = 1 / xstar.sum()\n",
        "p_i = s*xstar\n",
        "q_j = s * ystar\n",
        "print(p_i, q_j, s)"
      ],
      "metadata": {
        "colab": {
          "base_uri": "https://localhost:8080/"
        },
        "id": "Bxw0OOdKovSY",
        "outputId": "003cb397-26a0-4dc4-fc65-791ed068bd7c"
      },
      "execution_count": null,
      "outputs": [
        {
          "output_type": "stream",
          "name": "stdout",
          "text": [
            "[0.48013245 0.21854305 0.10264901 0.1986755 ] [0.29139073 0.0794702  0.22350993 0.40562914] 4.625827814569537\n"
          ]
        }
      ]
    },
    {
      "cell_type": "markdown",
      "source": [
        "3. This was the long proof question\n",
        "\n",
        "Min-cost flow problem\n",
        "\n",
        "\\begin{align}\n",
        "\\min_{\\mu \\geq 0} \\mu^Tc\\\\\n",
        "\\text{s.t } M\\mu = q\n",
        "\\end{align}\n",
        "\n",
        "dual:\n",
        "\\begin{align}\n",
        "\\max_{p} p^Tq\\\\\n",
        "\\text{s.t } M^Tp \\leq c\n",
        "\\end{align}\n",
        "\n",
        "Proposition: There is a feasible solution for the primal iff $\\sum_z q_z = 0$ and for every $B\\subseteq Z$ such that there is no $xy\\in A$ with $x\\in B$ and $y\\not\\in B$ we have $\\sum_{z\\in B} q_z \\geq 0$"
      ],
      "metadata": {
        "id": "wJit83OEle7Y"
      }
    },
    {
      "cell_type": "markdown",
      "source": [
        "For (a) and (b) assume that the primal is feasible\n",
        "\n",
        "(a) show that $\\sum_z q_z = 0$\n",
        "\n",
        "ANSWER: From $1^TM = 0$ we have that $M\\mu = q \\implies 1^Tq = 1^T(M\\mu) = (1^TM)\\mu = 0$ \n",
        "\n",
        "(b) If $\\exists B \\subseteq Z$ s.t. there is no arc leaving the set then we have that that $\\sum_{z\\in B} q_z \\geq 0$\n",
        "\n",
        "\\begin{align}\n",
        "\\sum_{z\\in B} q_z &= \\sum_{z\\in B}(M\\mu)_z\\\\\n",
        "&= \\sum_{z\\in B} \\sum_{xy\\in A} M_{z(xy)}\\mu_{xy}\\\\\n",
        "&= \\sum_{z\\in B}\\sum_{x\\in Z}\\mu_{xz} - \\sum_{z\\in B}\\sum_{y\\in Z} \\mu_{zy}\\\\\n",
        "&= \\sum_{z\\in B}\\sum_{x\\in B} \\mu_{xz} + \\sum_{z\\in B}\\sum_{x\\not\\in B} \\mu_{xz} - \\sum_{z\\in B}\\sum_{y\\in B} \\mu_{zy} - \\sum_{z\\in B}\\sum_{y\\not\\in B} \\mu_{zy}\\\\\n",
        "&= \\sum_{z\\in B}\\sum_{x\\not\\in B} \\mu_{xz} - \\sum_{z\\in B}\\sum_{y\\not\\in B} \\mu_{zy}\\\\\n",
        "\\end{align}\n",
        "Use the fact that the second sum is empty and that $\\mu \\geq 0$ to get that this whole sum is $\\geq 0$\n",
        "\n",
        "--\n",
        "\n",
        "Assume that no primal feasible solution $\\mu$ exists and that there exists a vector $p$ such that \n",
        "\\begin{align}\n",
        "M^Tp \\leq 0 \\text{ and } q^Tp >0\n",
        "\\end{align}\n",
        "(c) show that we can take $\\min p = 0$ and $\\max p = 1$ without loss of generality. (i.e. we can abstract to a new problem where the solution maps to og problem, new problem easier to solve. It can also mean, in this case, that if a solution $p$ exists, we can find another $p'$ that satisfies $\\min p' = 0$ and $\\max p' = 1$ )\n",
        "\n",
        "Question: If I gave you $p$ that satisfies $M^Tp \\leq 0 \\text{ and } q^Tp >0$ can you use it to construct $p'$ that satisfies the inequalities as well but also $\\min p' = 0$ and $\\max p' = 1$?\n",
        "\n",
        "$p = [-1,1]$, then you would add 1 then divide by 2 $p' = [0,1]$\n",
        "\n",
        "$p' = \\frac{p-m1}{a}$ where $m = \\min p$ and $a = \\max p - m$\n",
        "\n",
        "(d) this was just integrating a indicator function. If you were confused $1_{t\\leq p_z}$ is the function that is 1 when the inequality is satisfied and 0 otherwise\n",
        "\n",
        "(e) Show that $M^Tp^T \\leq 0$ for all $t\\in[0,1]$\n"
      ],
      "metadata": {
        "id": "U5Q2wuIjqumo"
      }
    }
  ]
}