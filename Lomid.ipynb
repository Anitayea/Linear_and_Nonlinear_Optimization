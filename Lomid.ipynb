{
  "nbformat": 4,
  "nbformat_minor": 0,
  "metadata": {
    "colab": {
      "name": "Lomid.ipynb",
      "provenance": [],
      "authorship_tag": "ABX9TyOQAiw8P/3XEbrRSwlhhdyM",
      "include_colab_link": true
    },
    "kernelspec": {
      "name": "python3",
      "display_name": "Python 3"
    },
    "language_info": {
      "name": "python"
    }
  },
  "cells": [
    {
      "cell_type": "markdown",
      "metadata": {
        "id": "view-in-github",
        "colab_type": "text"
      },
      "source": [
        "<a href=\"https://colab.research.google.com/github/Anitayea/Linear_and_Nonlinear_Optimization/blob/main/Lomid.ipynb\" target=\"_parent\"><img src=\"https://colab.research.google.com/assets/colab-badge.svg\" alt=\"Open In Colab\"/></a>"
      ]
    },
    {
      "cell_type": "code",
      "source": [
        "!pip install gurobipy\n",
        "import numpy as np\n",
        "import gurobipy as grb\n",
        "import scipy.sparse as spr\n",
        "import pandas as pd\n"
      ],
      "metadata": {
        "colab": {
          "base_uri": "https://localhost:8080/"
        },
        "id": "AODQ4_s8gHUr",
        "outputId": "3416ab8f-f7c2-4425-8707-855f85ce8123"
      },
      "execution_count": null,
      "outputs": [
        {
          "output_type": "stream",
          "name": "stdout",
          "text": [
            "Collecting gurobipy\n",
            "  Downloading gurobipy-9.5.1-cp37-cp37m-manylinux2014_x86_64.whl (11.5 MB)\n",
            "\u001b[K     |████████████████████████████████| 11.5 MB 3.5 MB/s \n",
            "\u001b[?25hInstalling collected packages: gurobipy\n",
            "Successfully installed gurobipy-9.5.1\n"
          ]
        }
      ]
    },
    {
      "cell_type": "code",
      "execution_count": null,
      "metadata": {
        "colab": {
          "base_uri": "https://localhost:8080/"
        },
        "id": "ZMEHvXg-fvIu",
        "outputId": "27723328-86ae-458d-8b63-02bb250144e6"
      },
      "outputs": [
        {
          "output_type": "execute_result",
          "data": {
            "text/plain": [
              "array([[2, 1, 0, 0],\n",
              "       [0, 0, 3, 4],\n",
              "       [2, 0, 3, 0],\n",
              "       [0, 1, 0, 4]])"
            ]
          },
          "metadata": {},
          "execution_count": 16
        }
      ],
      "source": [
        "#5\n",
        "Pi_i_j = np.array([[2,1,0,0], \n",
        "                    [0,0,3,4],\n",
        "                   [2,0,3,0],\n",
        "                   [0,1,0,4]])\n",
        "Pi_i_j\n",
        "\n"
      ]
    },
    {
      "cell_type": "code",
      "source": [
        "matrixgame_model = grb.Model()\n",
        "nbi,nbj = Pi_i_j.shape\n",
        "p_iv = matrixgame_model.addMVar(shape = nbi)\n",
        "sv = matrixgame_model.addMVar(1, lb = - grb.GRB.INFINITY )\n",
        "matrixgame_model.setObjective(sv, grb.GRB.MAXIMIZE)\n",
        "matrixgame_model.addConstr( np.ones( (nbj,1) ) @ sv - Pi_i_j.T @ p_iv   <=0  )\n",
        "matrixgame_model.addConstr( p_iv.sum()==1 )\n",
        "matrixgame_model.optimize() "
      ],
      "metadata": {
        "colab": {
          "base_uri": "https://localhost:8080/"
        },
        "id": "VLq4xQ67f7g5",
        "outputId": "af5b620d-12e7-4299-b536-a9e82c9a6ec3"
      },
      "execution_count": null,
      "outputs": [
        {
          "output_type": "stream",
          "name": "stdout",
          "text": [
            "Gurobi Optimizer version 9.5.1 build v9.5.1rc2 (linux64)\n",
            "Thread count: 1 physical cores, 2 logical processors, using up to 2 threads\n",
            "Optimize a model with 5 rows, 5 columns and 16 nonzeros\n",
            "Model fingerprint: 0x7adc27df\n",
            "Coefficient statistics:\n",
            "  Matrix range     [1e+00, 4e+00]\n",
            "  Objective range  [1e+00, 1e+00]\n",
            "  Bounds range     [0e+00, 0e+00]\n",
            "  RHS range        [1e+00, 1e+00]\n",
            "Presolve removed 1 rows and 0 columns\n",
            "Presolve time: 0.01s\n",
            "Presolved: 4 rows, 5 columns, 17 nonzeros\n",
            "\n",
            "Iteration    Objective       Primal Inf.    Dual Inf.      Time\n",
            "       0    2.0000000e+00   1.503000e+00   0.000000e+00      0s\n",
            "       2    7.5000000e-01   0.000000e+00   0.000000e+00      0s\n",
            "\n",
            "Solved in 2 iterations and 0.02 seconds (0.00 work units)\n",
            "Optimal objective  7.500000000e-01\n"
          ]
        }
      ]
    },
    {
      "cell_type": "code",
      "source": [
        "p_i = np.array(matrixgame_model.getAttr('x'))[:-1]\n",
        "p_i"
      ],
      "metadata": {
        "colab": {
          "base_uri": "https://localhost:8080/"
        },
        "id": "CrA2cHrWf9s1",
        "outputId": "297d51eb-3ddd-4280-962a-e8bb72cc9e3c"
      },
      "execution_count": null,
      "outputs": [
        {
          "output_type": "execute_result",
          "data": {
            "text/plain": [
              "array([0.375, 0.25 , 0.   , 0.375])"
            ]
          },
          "metadata": {},
          "execution_count": 19
        }
      ]
    },
    {
      "cell_type": "code",
      "source": [
        "q_j = np.array(matrixgame_model.getAttr('pi'))[:-1]\n",
        "q_j"
      ],
      "metadata": {
        "colab": {
          "base_uri": "https://localhost:8080/"
        },
        "id": "bR7Dgv6xgAPG",
        "outputId": "a3f34d4c-4018-4548-ae42-c37e526f5863"
      },
      "execution_count": null,
      "outputs": [
        {
          "output_type": "execute_result",
          "data": {
            "text/plain": [
              "array([-0.  ,  0.75,  0.25,  0.  ])"
            ]
          },
          "metadata": {},
          "execution_count": 20
        }
      ]
    },
    {
      "cell_type": "code",
      "source": [
        "np.array(matrixgame_model.getAttr('x'))[-1]"
      ],
      "metadata": {
        "colab": {
          "base_uri": "https://localhost:8080/"
        },
        "id": "lMZwZe1SgDvs",
        "outputId": "27242daf-140a-4531-be80-a7dd09df2090"
      },
      "execution_count": null,
      "outputs": [
        {
          "output_type": "execute_result",
          "data": {
            "text/plain": [
              "0.75"
            ]
          },
          "metadata": {},
          "execution_count": 21
        }
      ]
    },
    {
      "cell_type": "code",
      "source": [
        "np.array(matrixgame_model.getAttr('pi'))[-1]"
      ],
      "metadata": {
        "colab": {
          "base_uri": "https://localhost:8080/"
        },
        "id": "tbRC-rZlgFM4",
        "outputId": "c517a42a-ee50-4ef5-9fff-994889c7de80"
      },
      "execution_count": null,
      "outputs": [
        {
          "output_type": "execute_result",
          "data": {
            "text/plain": [
              "0.75"
            ]
          },
          "metadata": {},
          "execution_count": 22
        }
      ]
    },
    {
      "cell_type": "code",
      "source": [
        "#6\n",
        "M_z_a = np.array(\n",
        "    [[-1,-1,-1,-1,0,0,0,0,0,0,0,0,0,0,0,0,0,0,0,0],\n",
        "     [0,0,0,0,-1,-1,-1,-1,0,0,0,0,0,0,0,0,0,0,0,0],\n",
        "     [0,0,0,0,0,0,0,0,-1,-1,-1,-1,0,0,0,0,0,0,0,0],\n",
        "     [0,0,0,0,0,0,0,0,0,0,0,0,-1,-1,-1,-1,0,0,0,0],\n",
        "     [0,0,0,0,0,0,0,0,0,0,0,0,0,0,0,0,-1,-1,-1,-1],\n",
        "     [1,0,0,0,1,0,0,0,1,0,0,0,1,0,0,0,1,0,0,0],\n",
        "     [0,1,0,0,0,1,0,0,0,1,0,0,0,1,0,0,0,1,0,0],\n",
        "     [0,0,1,0,0,0,1,0,0,0,1,0,0,0,1,0,0,0,1,0],\n",
        "     [0,0,0,1,0,0,0,1,0,0,0,1,0,0,0,1,0,0,0,1]])\n",
        "\n",
        "q_z = np.array([-3,-4,-6,-2,-5,3,7,6,4])\n",
        "\n",
        "c_a = np.array([10,45,15,10,5,25,30,25,35,15,20,15,75,40,35,30,20,60,5,65])"
      ],
      "metadata": {
        "id": "1v-95zCum9Uf"
      },
      "execution_count": null,
      "outputs": []
    },
    {
      "cell_type": "code",
      "source": [
        "mincostflow =grb.Model()\n",
        "nbz,nba = M_z_a.shape\n",
        "mu_a = mincostflow.addMVar(shape=nba)\n",
        "mincostflow.setObjective( mu_a @ c_a, grb.GRB.MINIMIZE)\n",
        "mincostflow.addConstr(M_z_a @ mu_a == q_z)\n",
        "mincostflow.optimize()"
      ],
      "metadata": {
        "colab": {
          "base_uri": "https://localhost:8080/"
        },
        "id": "bARkoJC1qSuF",
        "outputId": "e13c8d44-e141-4419-b224-1da64d49cfd2"
      },
      "execution_count": null,
      "outputs": [
        {
          "output_type": "stream",
          "name": "stdout",
          "text": [
            "Gurobi Optimizer version 9.5.1 build v9.5.1rc2 (linux64)\n",
            "Thread count: 1 physical cores, 2 logical processors, using up to 2 threads\n",
            "Optimize a model with 9 rows, 20 columns and 40 nonzeros\n",
            "Model fingerprint: 0xfcaa41d6\n",
            "Coefficient statistics:\n",
            "  Matrix range     [1e+00, 1e+00]\n",
            "  Objective range  [5e+00, 8e+01]\n",
            "  Bounds range     [0e+00, 0e+00]\n",
            "  RHS range        [2e+00, 7e+00]\n",
            "Presolve time: 0.03s\n",
            "Presolved: 9 rows, 20 columns, 40 nonzeros\n",
            "\n",
            "Iteration    Objective       Primal Inf.    Dual Inf.      Time\n",
            "       0    1.9000000e+02   6.000000e+00   0.000000e+00      0s\n",
            "       4    2.5000000e+02   0.000000e+00   0.000000e+00      0s\n",
            "\n",
            "Solved in 4 iterations and 0.06 seconds (0.00 work units)\n",
            "Optimal objective  2.500000000e+02\n"
          ]
        }
      ]
    },
    {
      "cell_type": "code",
      "source": [
        "M_z_a = np.array(\n",
        "    [[-1,-1,-1,-1,0,0,0,0,0,0,0,0,0,0,0,0,0,0,0,0],\n",
        "     [0,0,0,0,0,-1,-1,-1,0,0,0,0,0,0,0,0,0,0,0,0],\n",
        "     [0,0,0,0,0,0,0,0,-1,-1,-1,-1,0,0,0,0,0,0,0,0],\n",
        "     [0,0,0,0,0,0,0,0,0,0,0,0,-1,-1,-1,-1,0,0,0,0],\n",
        "     [0,0,0,0,0,0,0,0,0,0,0,0,0,0,0,0,-1,-1,-1,-1],\n",
        "     [1,0,0,0,0,0,0,0,1,0,0,0,1,0,0,0,1,0,0,0],\n",
        "     [0,1,0,0,0,1,0,0,0,1,0,0,0,1,0,0,0,1,0,0],\n",
        "     [0,0,1,0,0,0,1,0,0,0,1,0,0,0,1,0,0,0,1,0],\n",
        "     [0,0,0,1,0,0,0,1,0,0,0,1,0,0,0,1,0,0,0,1]])\n",
        "\n",
        "q_z = np.array([-3,-4,-6,-2,-5,3,7,6,4])\n",
        "\n",
        "c_a = np.array([10,45,15,10,5,25,30,25,35,15,20,15,75,40,35,30,20,60,5,65])"
      ],
      "metadata": {
        "id": "h_yC1fmor5Lb"
      },
      "execution_count": null,
      "outputs": []
    },
    {
      "cell_type": "code",
      "source": [
        "mincostflow =grb.Model()\n",
        "nbz,nba = M_z_a.shape\n",
        "mu_a = mincostflow.addMVar(shape=nba)\n",
        "mincostflow.setObjective( mu_a @ c_a, grb.GRB.MINIMIZE)\n",
        "mincostflow.addConstr(M_z_a @ mu_a == q_z)\n",
        "mincostflow.optimize()"
      ],
      "metadata": {
        "colab": {
          "base_uri": "https://localhost:8080/"
        },
        "id": "a50q2vrYshM7",
        "outputId": "fad5b6aa-ac84-4e78-a01a-74c25570959a"
      },
      "execution_count": null,
      "outputs": [
        {
          "output_type": "stream",
          "name": "stdout",
          "text": [
            "Gurobi Optimizer version 9.5.1 build v9.5.1rc2 (linux64)\n",
            "Thread count: 1 physical cores, 2 logical processors, using up to 2 threads\n",
            "Optimize a model with 9 rows, 20 columns and 38 nonzeros\n",
            "Model fingerprint: 0xb152894a\n",
            "Coefficient statistics:\n",
            "  Matrix range     [1e+00, 1e+00]\n",
            "  Objective range  [5e+00, 8e+01]\n",
            "  Bounds range     [0e+00, 0e+00]\n",
            "  RHS range        [2e+00, 7e+00]\n",
            "Presolve removed 0 rows and 1 columns\n",
            "Presolve time: 0.02s\n",
            "Presolved: 9 rows, 19 columns, 38 nonzeros\n",
            "\n",
            "Iteration    Objective       Primal Inf.    Dual Inf.      Time\n",
            "       0    2.0500000e+02   1.498300e+01   0.000000e+00      0s\n",
            "       6    3.1000000e+02   0.000000e+00   0.000000e+00      0s\n",
            "\n",
            "Solved in 6 iterations and 0.03 seconds (0.00 work units)\n",
            "Optimal objective  3.100000000e+02\n"
          ]
        }
      ]
    }
  ]
}